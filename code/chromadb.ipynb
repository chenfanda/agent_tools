{
 "cells": [
  {
   "cell_type": "code",
   "execution_count": 1,
   "id": "42bd2a14-8911-464d-bef8-d2ee21ddd1ac",
   "metadata": {},
   "outputs": [],
   "source": [
    "import chromadb"
   ]
  },
  {
   "cell_type": "code",
   "execution_count": 3,
   "id": "60bc928f-cf9a-42ac-85a1-162b348ee665",
   "metadata": {},
   "outputs": [],
   "source": [
    "from chromadb import Documents, EmbeddingFunction, Embeddings"
   ]
  },
  {
   "cell_type": "code",
   "execution_count": 2,
   "id": "a67f1f50-64c9-4daa-b984-0dd2b0d32dc2",
   "metadata": {},
   "outputs": [],
   "source": [
    "async def main():\n",
    "    client = await chromadb.AsyncHttpClient(host='localhost', port=8080)\n",
    "    return client"
   ]
  },
  {
   "cell_type": "code",
   "execution_count": 47,
   "id": "1195e76d-b0f7-4467-80dd-53ea84b0b625",
   "metadata": {},
   "outputs": [],
   "source": [
    "import requests\n",
    "from typing import List\n",
    "from chromadb import Documents, EmbeddingFunction, Embeddings\n",
    "class OllamaEmbeddingFunction(EmbeddingFunction):\n",
    "    def __init__(self, model: str = \"mxbai-embed-large\", host: str = \"http://localhost:11434\"):\n",
    "        self.model = model\n",
    "        self.url = f\"{host}/api/embed\"\n",
    "\n",
    "    def __call__(self, input: Documents) -> Embeddings:\n",
    "        if isinstance(input, str):\n",
    "            input = [input]\n",
    "        response = requests.post(self.url, json={\n",
    "            \"model\": self.model,\n",
    "            \"input\": input\n",
    "        })\n",
    "        response.raise_for_status()\n",
    "        data = response.json()\n",
    "        return data[\"embeddings\"]"
   ]
  },
  {
   "cell_type": "code",
   "execution_count": 48,
   "id": "7d08d1e4-376b-4ca6-a6c0-2d7746a6dfa0",
   "metadata": {},
   "outputs": [],
   "source": [
    "ollama_ef=OllamaEmbeddingFunction()"
   ]
  },
  {
   "cell_type": "code",
   "execution_count": 51,
   "id": "97daa97f-bac7-492a-9fea-971d53f33e25",
   "metadata": {},
   "outputs": [
    {
     "data": {
      "text/plain": [
       "[array([-0.02135693, -0.00179102,  0.00669307, ...,  0.04882928,\n",
       "         0.03621092,  0.00349302], shape=(1024,), dtype=float32),\n",
       " array([ 0.04945699,  0.012631  , -0.00609561, ..., -0.02571799,\n",
       "        -0.02224376, -0.02067549], shape=(1024,), dtype=float32)]"
      ]
     },
     "execution_count": 51,
     "metadata": {},
     "output_type": "execute_result"
    }
   ],
   "source": [
    "ollama_ef(['你好','hi'])"
   ]
  },
  {
   "cell_type": "code",
   "execution_count": 45,
   "id": "e98f32d1-3580-4dbb-83da-a50d12e4f333",
   "metadata": {},
   "outputs": [],
   "source": [
    "payload = {\n",
    "    \"model\": \"mxbai-embed-large\",\n",
    "    \"input\": \"Llamas are members of the camelid family\"\n",
    "}\n",
    "url = \"http://localhost:11434/api/embed\"\n",
    "# 发送POST请求\n",
    "response = requests.post(url, json=payload)"
   ]
  },
  {
   "cell_type": "code",
   "execution_count": 52,
   "id": "dcdeb1d9-2948-424e-9f54-2d43d56091db",
   "metadata": {},
   "outputs": [],
   "source": [
    "client = chromadb.HttpClient(host='localhost', port=8080)"
   ]
  },
  {
   "cell_type": "code",
   "execution_count": 57,
   "id": "3f785c0d-3cba-44c2-b4af-11ad1edb248d",
   "metadata": {},
   "outputs": [],
   "source": [
    "collection=client.get_collection(name='my_ollama_documents',embedding_function=ollama_ef)"
   ]
  },
  {
   "cell_type": "code",
   "execution_count": null,
   "id": "ed27bccd-b6ac-4e88-b409-3576a7f40c9b",
   "metadata": {},
   "outputs": [],
   "source": [
    "npx @modelcontextprotocol/inspector"
   ]
  }
 ],
 "metadata": {
  "kernelspec": {
   "display_name": "Python 3 (ipykernel)",
   "language": "python",
   "name": "python3"
  },
  "language_info": {
   "codemirror_mode": {
    "name": "ipython",
    "version": 3
   },
   "file_extension": ".py",
   "mimetype": "text/x-python",
   "name": "python",
   "nbconvert_exporter": "python",
   "pygments_lexer": "ipython3",
   "version": "3.10.12"
  }
 },
 "nbformat": 4,
 "nbformat_minor": 5
}
