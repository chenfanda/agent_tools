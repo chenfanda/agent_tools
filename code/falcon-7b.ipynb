{
 "cells": [
  {
   "cell_type": "code",
   "execution_count": 1,
   "id": "0070abac",
   "metadata": {},
   "outputs": [],
   "source": [
    "from transformers import AutoTokenizer, AutoModelForCausalLM\n",
    "import transformers\n",
    "import torch"
   ]
  },
  {
   "cell_type": "code",
   "execution_count": 2,
   "id": "eede1720",
   "metadata": {},
   "outputs": [],
   "source": [
    "import os"
   ]
  },
  {
   "cell_type": "code",
   "execution_count": 3,
   "id": "81c58587",
   "metadata": {},
   "outputs": [],
   "source": [
    "proxy_ip='http://127.0.0.1:7891'\n",
    "os.environ['https_proxy']=proxy_ip\n",
    "os.environ['http_proxy']=proxy_ip\n",
    "os.environ['HTTPS_PROXY']=proxy_ip\n",
    "os.environ['HTTP_PROXY']=proxy_ip"
   ]
  },
  {
   "cell_type": "code",
   "execution_count": 11,
   "id": "17489e26",
   "metadata": {},
   "outputs": [],
   "source": [
    "# model = \"tiiuae/falcon-7b-instruct\""
   ]
  },
  {
   "cell_type": "code",
   "execution_count": 3,
   "id": "9a3acc3d",
   "metadata": {},
   "outputs": [],
   "source": [
    "# tokenizer = AutoTokenizer.from_pretrained(model)\n",
    "# model=AutoModelForCausalLM.from_pretrained(model,trust_remote_code=True)"
   ]
  },
  {
   "cell_type": "code",
   "execution_count": 6,
   "id": "ab916769",
   "metadata": {},
   "outputs": [],
   "source": [
    "from datasets import load_dataset\n",
    "\n",
    "# dataset_name = \"timdettmers/openassistant-guanaco\"\n",
    "# dataset = load_dataset(dataset_name, split=\"train\")"
   ]
  },
  {
   "cell_type": "code",
   "execution_count": 4,
   "id": "505a87de",
   "metadata": {},
   "outputs": [],
   "source": [
    "from datasets import Dataset"
   ]
  },
  {
   "cell_type": "code",
   "execution_count": 13,
   "id": "40c631f4",
   "metadata": {},
   "outputs": [
    {
     "data": {
      "text/plain": [
       "{'text': '### Human: Can you write a short introduction about the relevance of the term \"monopsony\" in economics? Please use examples related to potential monopsonies in the labour market and cite relevant research.### Assistant: \"Monopsony\" refers to a market structure where there is only one buyer for a particular good or service. In economics, this term is particularly relevant in the labor market, where a monopsony employer has significant power over the wages and working conditions of their employees. The presence of a monopsony can result in lower wages and reduced employment opportunities for workers, as the employer has little incentive to increase wages or provide better working conditions.\\n\\nRecent research has identified potential monopsonies in industries such as retail and fast food, where a few large companies control a significant portion of the market (Bivens & Mishel, 2013). In these industries, workers often face low wages, limited benefits, and reduced bargaining power, leading to a situation where they are dependent on the employer for their livelihood. This dependence can result in further suppression of wages and a decline in working conditions.\\n\\nOverall, the concept of monopsony is essential to understanding the dynamics of labor markets and the impact of market power on workers. Further research is needed to understand the extent and impact of monopsonies on the economy and to develop policies to address this issue.\\n\\nReferences:\\nBivens, J., & Mishel, L. (2013). The Pay of Corporate Executives and Financial Professionals as Evidence of Rents in Top 1 Percent Incomes. Journal of Economic Perspectives, 27(3), 57-78.### Human: Now explain it to a dog'}"
      ]
     },
     "execution_count": 13,
     "metadata": {},
     "output_type": "execute_result"
    }
   ],
   "source": [
    "dataset[0]"
   ]
  },
  {
   "cell_type": "code",
   "execution_count": 5,
   "id": "ceae9866",
   "metadata": {},
   "outputs": [
    {
     "name": "stderr",
     "output_type": "stream",
     "text": [
      "Using custom data configuration default-e381f5df7c5434b1\n",
      "Reusing dataset json (/home/device/.cache/huggingface/datasets/json/default-e381f5df7c5434b1/0.0.0)\n"
     ]
    }
   ],
   "source": [
    "data=Dataset.from_json('/oper/ch/git/chatglm_fineture/data/BelleGroup/BelleGroup_train_3.5M_CN-train.json')"
   ]
  },
  {
   "cell_type": "code",
   "execution_count": 6,
   "id": "c18bbd29",
   "metadata": {},
   "outputs": [],
   "source": [
    "def formatting_func(example):   \n",
    "    text_list=[]\n",
    "    for line in example['conversations']:\n",
    "        text=''\n",
    "        for txt in line:\n",
    "            text = text+f\"### {txt['from']}: {txt['value']}\\n\"\n",
    "        text_list.append(text)\n",
    "    return text_list"
   ]
  },
  {
   "cell_type": "code",
   "execution_count": 46,
   "id": "f782c8bc",
   "metadata": {},
   "outputs": [
    {
     "data": {
      "text/plain": [
       "[{'from': 'human', 'value': '针对健身房的新手，设计一套适合他们的健身器械使用指南，包括安全应用、正确姿势等方面。'},\n",
       " {'from': 'assistant',\n",
       "  'value': '健身器械使用指南\\n1. 开始前，请先进行热身运动。这会帮助你的身体适应运动，并减少受伤的风险。\\n2. 在使用健身器械前，确保你已经了解了其使用方法。请阅读说明书或咨询教练以获得正确的使用技巧。\\n3. 谨防过度使用或过度挑战你的身体。 如果你觉得有些动作太难或太重，请添加锻炼计划，以逐步提高动作难度。\\n4. 使用合适的装备。 确保你拥有合适的运动鞋和舒适的运动服。 不要在裸露的脚或短裤上进行重量训练。\\n5. 在健身器械上使用安全装置。 这些通常用于保护你的身体免受不当操作造成的损伤。 例如，重量训练中，你需要使用杠铃和负重时，一定要使用卡子来防止重量滑落。\\n6. 注意正确的姿势。 如果你的姿势是错误的，那么你的身体很容易被伤害到，你也可能无法获得最佳的锻炼效果。 至关重要的是，保持直立的身体，保持头部和颈部的稳定，并使用合适的重量。\\n7. 保持合理的呼吸方式。 无论何时进行训练，都必须保持正常呼吸。 当你需要用力时，呼气； 当你放松时，吸气。\\n8. 安全存放器械。 在使用健身器械后，你需要把它们归还给适当的位置，以便其他人可以使用它们。\\n总之，健身器械的正确使用是关键之一，如果不健康和不安全，它们将无法帮助您达到您所需的健康成果。 选择适当的训练计划，并为训练提供足够的时间，以备逐渐适应新方法。 对于任何问题，请向教练咨询。'}]"
      ]
     },
     "execution_count": 46,
     "metadata": {},
     "output_type": "execute_result"
    }
   ],
   "source": [
    "# data[0]['conversations']"
   ]
  },
  {
   "cell_type": "code",
   "execution_count": 14,
   "id": "3b7ec146",
   "metadata": {},
   "outputs": [
    {
     "data": {
      "text/plain": [
       "['### human: 针对健身房的新手，设计一套适合他们的健身器械使用指南，包括安全应用、正确姿势等方面。\\n### assistant: 健身器械使用指南\\n1. 开始前，请先进行热身运动。这会帮助你的身体适应运动，并减少受伤的风险。\\n2. 在使用健身器械前，确保你已经了解了其使用方法。请阅读说明书或咨询教练以获得正确的使用技巧。\\n3. 谨防过度使用或过度挑战你的身体。 如果你觉得有些动作太难或太重，请添加锻炼计划，以逐步提高动作难度。\\n4. 使用合适的装备。 确保你拥有合适的运动鞋和舒适的运动服。 不要在裸露的脚或短裤上进行重量训练。\\n5. 在健身器械上使用安全装置。 这些通常用于保护你的身体免受不当操作造成的损伤。 例如，重量训练中，你需要使用杠铃和负重时，一定要使用卡子来防止重量滑落。\\n6. 注意正确的姿势。 如果你的姿势是错误的，那么你的身体很容易被伤害到，你也可能无法获得最佳的锻炼效果。 至关重要的是，保持直立的身体，保持头部和颈部的稳定，并使用合适的重量。\\n7. 保持合理的呼吸方式。 无论何时进行训练，都必须保持正常呼吸。 当你需要用力时，呼气； 当你放松时，吸气。\\n8. 安全存放器械。 在使用健身器械后，你需要把它们归还给适当的位置，以便其他人可以使用它们。\\n总之，健身器械的正确使用是关键之一，如果不健康和不安全，它们将无法帮助您达到您所需的健康成果。 选择适当的训练计划，并为训练提供足够的时间，以备逐渐适应新方法。 对于任何问题，请向教练咨询。\\n',\n",
       " '### human: 给定一段文本和关键词列表，删除文本中包含所有给定关键词的子字符串。\\n文本：\"这是一个测试句子，目的是看看模型是否可以正确地从这个句子中删除关键词。\"\\\\n关键词列表：[‘测试’，‘模型’]\\n### assistant: 删除包含所有给定关键词的子字符串后，文本变为：\"这是一个句子，目的是看看是否可以正确地从这个句子中删除关键词。\"\\n### human: 好的。现在请你将这个文本中的所有的逗号都替换成空格。\\n### assistant: 好的，请稍等一下，现在我会将文本中的所有逗号替换为空格。处理后文本为：\"这是一个句子 目的是看看是否可以正确地从这个句子中删除关键词。\"。处理结果如何？\\n',\n",
       " \"### human: 写一个关于秋天的诗吧。\\n### assistant: 红黄绿交织，田野金黄色。风吹枫叶落，人在秋天慢步行。\\n### human: 给我推荐一些好听的摇滚歌曲。\\n### assistant: 摇滚歌曲推荐：AC/DC的Back in Black，Guns N' Roses的Sweet Child O' Mine，Rolling Stones的Satisfaction，Led Zeppelin的Stairway to Heaven，Nirvana的Smells Like Teen Spirit等。\\n### human: 计算一下2的100次方。\\n### assistant: 2的100次方等于1.267650600228229401496703205376e+30，约等于1.27乘以10的30次方。\\n### human: 帮我回答一道历史题目。清朝时期的八旗共有多少旗人？\\n### assistant: 清朝时期八旗旗人总数约为200万人左右，其中正黄旗、正蓝旗、正白旗、正红旗的人数较多，其他旗的人数较少。\\n\",\n",
       " '### human: 介绍一道好吃的家常菜的做法\\n### assistant: 番茄炒蛋\\n材料：\\n鸡蛋3个、番茄1个、油、盐、糖、水淀粉\\n做法：\\n1.番茄洗净切成小块；鸡蛋打入碗中搅匀备用。\\n2.热锅凉油，油热后放入番茄翻炒。\\n3.番茄煮软后放盐，糖调味，再倒入打好的鸡蛋液，翻炒均匀。\\n4.鸡蛋凝固后关火。\\n5.加入半碗水，大火煮开。\\n6.用水淀粉勾芡，装盘即可。\\n小贴士：\\n1. 番茄不能切得太细，否则炒出来就不太好看了。\\n2. 在调味时，糖的分量也很重要，可以根据自己的口味来调节。\\n3. 水淀粉勾芡的比例是：水和淀粉的比例大概是5:1。\\n4. 煮开之后，记得要把水淀粉慢慢倒入，同时不断地搅拌，以免结块。\\n5. 最后装盘时可以点缀一些绿色蔬菜，既好看又好吃。\\n### human: 嗯，谢谢你介绍的做法很详细，但我不喜欢吃鸡蛋，有没有其他菜做法能介绍一下？\\n### assistant: 当然，你可以试试酸辣土豆丝这道菜。\\n材料：\\n土豆2个、红椒1个、青椒1个、大葱1根、醋、生抽、盐、鸡精、料酒\\n做法：\\n1.土豆去皮，切成丝；红椒和青椒切成细丝；大葱切段备用。\\n2.热锅凉油，油热后放入土豆丝，煸炒至变软。\\n3.倒入红椒、青椒和大葱段，继续煸炒至熟。\\n4.加入适量的盐、鸡精、料酒和生抽，翻炒均匀。\\n5.最后，加入适量的醋，翻炒均匀即可。\\n小贴士：\\n1. 土豆切丝时，可以放入淡盐水中泡一下，这样可以去除多余的淀粉。\\n2. 煮土豆丝时，不要煮得太久，以免烂糊。\\n3. 加入醋的时候，根据自己的口味多少来进行调节，一般来说，盐与醋的比例为1:1。\\n4. 如果喜欢辣味可以加入一些干辣椒丝。\\n希望你会喜欢这道酸辣土豆丝！\\n',\n",
       " '### human: 请描述一下如何正确规划个人理财。\\n### assistant: 正确规划个人理财需要以下几个步骤：\\n1.了解自己的财务状况。这包括收入、支出、资产和负债等信息。了解自己的财务状况可以帮助人们更好地制定财务计划。\\n2.设定财务目标。需要考虑短期目标和长期目标，例如以年为单位设定的支出计划、购房、购车等的长期目标。\\n3.制定预算计划。在了解自己的财务状况并设定财务目标后，需要制定一个预算计划。这可以帮助人们控制支出、节省开支并达到财务目标。\\n4.理性投资和储蓄。人们可以投资于股票、基金、房产或其他投资渠道以实现财务目标。但在投资前需了解相关知识并进行风险评估。同时还应储蓄一定金额，以应对突发事件或为达成某些目标做准备。\\n5.审时度势，合理调整。财务计划需要不断地审时度势，根据实际情况做出调整，以达到最终的财务目标。需要注意财务状况的变化、投资的收益和风险等因素。\\n通过以上五个步骤，人们可以做到合理规划个人理财，掌握自己的财务命运，更好地实现自己的财务目标。\\n']"
      ]
     },
     "execution_count": 14,
     "metadata": {},
     "output_type": "execute_result"
    }
   ],
   "source": [
    "formatting_func(data[:5])"
   ]
  },
  {
   "cell_type": "code",
   "execution_count": 1,
   "id": "559d4ee8",
   "metadata": {},
   "outputs": [],
   "source": [
    "import torch\n",
    "from transformers import AutoModelForCausalLM, AutoTokenizer, BitsAndBytesConfig, AutoTokenizer\n",
    "\n",
    "model_name = \"ybelkada/falcon-7b-sharded-bf16\"\n",
    "\n",
    "bnb_config = BitsAndBytesConfig(\n",
    "    load_in_4bit=True,\n",
    "    bnb_4bit_quant_type=\"nf4\",\n",
    "    bnb_4bit_compute_dtype=torch.float16,\n",
    ")"
   ]
  },
  {
   "cell_type": "code",
   "execution_count": 3,
   "id": "8e987501",
   "metadata": {},
   "outputs": [
    {
     "name": "stdout",
     "output_type": "stream",
     "text": [
      "Package                   Version\n",
      "------------------------- ------------\n",
      "absl-py                   1.3.0\n",
      "accelerate                0.20.3\n",
      "aiohttp                   3.8.4\n",
      "aiosignal                 1.2.0\n",
      "alembic                   1.10.3\n",
      "appdirs                   1.4.4\n",
      "argon2-cffi               21.3.0\n",
      "argon2-cffi-bindings      21.2.0\n",
      "asttokens                 2.0.5\n",
      "async-timeout             4.0.2\n",
      "attrs                     21.4.0\n",
      "audioread                 3.0.0\n",
      "backcall                  0.2.0\n",
      "banal                     1.0.6\n",
      "beautifulsoup4            4.11.1\n",
      "bitsandbytes              0.39.0\n",
      "bleach                    5.0.0\n",
      "blis                      0.9.1\n",
      "catalogue                 2.0.8\n",
      "certifi                   2021.10.8\n",
      "cffi                      1.15.0\n",
      "charset-normalizer        2.0.12\n",
      "click                     8.1.3\n",
      "cloudpickle               2.2.0\n",
      "cmake                     3.26.4\n",
      "confection                0.0.1\n",
      "contourpy                 1.0.7\n",
      "cpm-kernels               1.0.11\n",
      "cycler                    0.11.0\n",
      "cymem                     2.0.6\n",
      "dataclasses-json          0.5.7\n",
      "dataset                   1.6.0\n",
      "datasets                  2.3.2\n",
      "debugpy                   1.6.0\n",
      "decorator                 5.1.1\n",
      "defusedxml                0.7.1\n",
      "diffusers                 0.3.0\n",
      "dill                      0.3.5.1\n",
      "docker-pycreds            0.4.0\n",
      "einops                    0.6.1\n",
      "entrypoints               0.4\n",
      "evaluate                  0.2.2\n",
      "executing                 0.8.3\n",
      "fastjsonschema            2.15.3\n",
      "filelock                  3.6.0\n",
      "flatbuffers               2.0\n",
      "fonttools                 4.38.0\n",
      "frozenlist                1.3.0\n",
      "fsspec                    2022.5.0\n",
      "ftfy                      6.1.1\n",
      "gitdb                     4.0.10\n",
      "GitPython                 3.1.31\n",
      "glfw                      2.5.5\n",
      "greenlet                  2.0.2\n",
      "gym                       0.26.2\n",
      "gym-notices               0.0.8\n",
      "huggingface-hub           0.15.1\n",
      "icetk                     0.0.5\n",
      "idna                      3.3\n",
      "importlib-metadata        4.12.0\n",
      "ipykernel                 6.13.0\n",
      "ipython                   8.2.0\n",
      "ipython-genutils          0.2.0\n",
      "ipywidgets                7.7.0\n",
      "jedi                      0.18.1\n",
      "Jinja2                    3.1.2\n",
      "joblib                    1.1.0\n",
      "jsonschema                4.5.1\n",
      "jupyter                   1.0.0\n",
      "jupyter-client            7.3.0\n",
      "jupyter-console           6.4.3\n",
      "jupyter-core              4.10.0\n",
      "jupyterlab-pygments       0.2.2\n",
      "jupyterlab-widgets        1.1.0\n",
      "kiwisolver                1.4.4\n",
      "langchain                 0.0.144\n",
      "langcodes                 3.3.0\n",
      "lazy_loader               0.2\n",
      "librosa                   0.10.0.post2\n",
      "lit                       16.0.5.post0\n",
      "llvmlite                  0.39.1\n",
      "Mako                      1.2.0\n",
      "MarkupSafe                2.1.1\n",
      "marshmallow               3.19.0\n",
      "marshmallow-enum          1.5.1\n",
      "matplotlib                3.6.3\n",
      "matplotlib-inline         0.1.3\n",
      "mistune                   0.8.4\n",
      "mpmath                    1.3.0\n",
      "msgpack                   1.0.5\n",
      "mujoco                    2.3.1.post1\n",
      "multidict                 6.0.2\n",
      "multiprocess              0.70.13\n",
      "murmurhash                1.0.8\n",
      "mypy-extensions           1.0.0\n",
      "nbclient                  0.6.2\n",
      "nbconvert                 6.5.0\n",
      "nbformat                  5.4.0\n",
      "nest-asyncio              1.5.5\n",
      "networkx                  3.1\n",
      "nltk                      3.7\n",
      "notebook                  6.4.11\n",
      "numba                     0.56.4\n",
      "numexpr                   2.8.4\n",
      "numpy                     1.22.3\n",
      "nvidia-cublas-cu11        11.10.3.66\n",
      "nvidia-cublas-cu116       11.9.2.110\n",
      "nvidia-cuda-cupti-cu11    11.7.101\n",
      "nvidia-cuda-nvrtc-cu11    11.7.99\n",
      "nvidia-cuda-runtime-cu11  11.7.99\n",
      "nvidia-cuda-runtime-cu116 11.6.55\n",
      "nvidia-cudnn-cu11         8.5.0.96\n",
      "nvidia-cudnn-cu115        8.3.3.40\n",
      "nvidia-cufft-cu11         10.9.0.58\n",
      "nvidia-curand-cu11        10.2.10.91\n",
      "nvidia-cusolver-cu11      11.4.0.1\n",
      "nvidia-cusparse-cu11      11.7.4.91\n",
      "nvidia-nccl-cu11          2.14.3\n",
      "nvidia-nvtx-cu11          11.7.91\n",
      "nvidia-pyindex            1.0.9\n",
      "nvidia-tensorrt           8.4.0.6\n",
      "onnxruntime-gpu           1.11.0\n",
      "openai                    0.27.0\n",
      "openapi-schema-pydantic   1.2.4\n",
      "packaging                 21.3\n",
      "pandas                    1.4.2\n",
      "pandocfilters             1.5.0\n",
      "parso                     0.8.3\n",
      "pathtools                 0.1.2\n",
      "pathy                     0.6.2\n",
      "peft                      0.4.0.dev0\n",
      "pexpect                   4.8.0\n",
      "pickleshare               0.7.5\n",
      "Pillow                    9.2.0\n",
      "pip                       23.1.2\n",
      "pkg_resources             0.0.0\n",
      "platformdirs              2.5.2\n",
      "pooch                     1.6.0\n",
      "preshed                   3.0.7\n",
      "prometheus-client         0.14.1\n",
      "prompt-toolkit            3.0.29\n",
      "protobuf                  3.18.3\n",
      "psutil                    5.9.0\n",
      "ptyprocess                0.7.0\n",
      "pure-eval                 0.2.2\n",
      "pyarrow                   8.0.0\n",
      "pycparser                 2.21\n",
      "pycuda                    2020.1\n",
      "pydantic                  1.9.2\n",
      "Pygments                  2.12.0\n",
      "PyOpenGL                  3.1.6\n",
      "pyparsing                 3.0.8\n",
      "pyrsistent                0.18.1\n",
      "PySocks                   1.7.1\n",
      "python-dateutil           2.8.2\n",
      "pytools                   2022.1.5\n",
      "pytz                      2022.1\n",
      "PyYAML                    6.0\n",
      "pyzmq                     22.3.0\n",
      "qtconsole                 5.3.0\n",
      "QtPy                      2.1.0\n",
      "regex                     2022.4.24\n",
      "requests                  2.27.1\n",
      "responses                 0.18.0\n",
      "sacremoses                0.0.53\n",
      "safetensors               0.3.1\n",
      "scikit-learn              0.23.1\n",
      "scipy                     1.9.1\n",
      "Send2Trash                1.8.0\n",
      "sentence-transformers     2.2.2\n",
      "sentencepiece             0.1.96\n",
      "sentry-sdk                1.25.1\n",
      "setfit                    0.3.0\n",
      "setproctitle              1.3.2\n",
      "setuptools                62.1.0\n",
      "six                       1.16.0\n",
      "smart-open                5.2.1\n",
      "smmap                     5.0.0\n",
      "soundfile                 0.12.1\n",
      "soupsieve                 2.3.2.post1\n",
      "soxr                      0.3.5\n",
      "spacy                     3.4.1\n",
      "spacy-legacy              3.0.10\n",
      "spacy-loggers             1.0.3\n",
      "SQLAlchemy                1.4.47\n",
      "srsly                     2.4.4\n",
      "stack-data                0.2.0\n",
      "sympy                     1.12\n",
      "tenacity                  8.2.2\n",
      "terminado                 0.13.3\n",
      "thinc                     8.1.1\n",
      "threadpoolctl             3.1.0\n",
      "tinycss2                  1.1.1\n",
      "tokenizers                0.12.1\n",
      "torch                     2.0.1\n",
      "torchvision               0.15.2\n",
      "tornado                   6.1\n",
      "tqdm                      4.64.0\n",
      "traitlets                 5.1.1\n",
      "transformers              4.30.1\n",
      "triton                    2.0.0\n",
      "trl                       0.4.4\n",
      "typer                     0.4.2\n",
      "typing_extensions         4.2.0\n",
      "typing-inspect            0.8.0\n",
      "urllib3                   1.26.16\n",
      "wasabi                    0.10.1\n",
      "wcwidth                   0.2.5\n",
      "webencodings              0.5.1\n",
      "wheel                     0.34.2\n",
      "widgetsnbextension        3.6.0\n",
      "xlrd                      2.0.1\n",
      "XMind                     1.2.0\n",
      "xxhash                    3.0.0\n",
      "yarl                      1.7.2\n",
      "zipp                      3.8.1\n"
     ]
    }
   ],
   "source": [
    "!pip list"
   ]
  },
  {
   "cell_type": "code",
   "execution_count": 8,
   "id": "3178d12c",
   "metadata": {},
   "outputs": [],
   "source": [
    "# bnb_config = BitsAndBytesConfig(\n",
    "#     load_in_4bit=True,\n",
    "#     bnb_4bit_quant_type=\"nf4\",\n",
    "#     bnb_4bit_compute_dtype=\"bfloat16\",\n",
    "#     bnb_4bit_use_double_quant=False,\n",
    "# )"
   ]
  },
  {
   "cell_type": "code",
   "execution_count": 8,
   "id": "c686d720",
   "metadata": {},
   "outputs": [
    {
     "name": "stdout",
     "output_type": "stream",
     "text": [
      "\n",
      "===================================BUG REPORT===================================\n",
      "Welcome to bitsandbytes. For bug reports, please run\n",
      "\n",
      "python -m bitsandbytes\n",
      "\n",
      " and submit this information together with your error trace to: https://github.com/TimDettmers/bitsandbytes/issues\n",
      "================================================================================\n",
      "bin /oper/ch/env/py39/lib/python3.9/site-packages/bitsandbytes/libbitsandbytes_cuda117_nocublaslt.so\n",
      "CUDA SETUP: CUDA runtime path found: /usr/local/cuda/lib64/libcudart.so.11.0\n",
      "CUDA SETUP: Highest compute capability among GPUs detected: 6.1\n",
      "CUDA SETUP: Detected CUDA version 117\n",
      "CUDA SETUP: Loading binary /oper/ch/env/py39/lib/python3.9/site-packages/bitsandbytes/libbitsandbytes_cuda117_nocublaslt.so...\n"
     ]
    },
    {
     "name": "stderr",
     "output_type": "stream",
     "text": [
      "/oper/ch/env/py39/lib/python3.9/site-packages/bitsandbytes/cuda_setup/main.py:149: UserWarning: WARNING: Compute capability < 7.5 detected! Only slow 8-bit matmul is supported for your GPU!\n",
      "  warn(msg)\n"
     ]
    },
    {
     "data": {
      "application/vnd.jupyter.widget-view+json": {
       "model_id": "af44beeefe9a473ca18927269055d743",
       "version_major": 2,
       "version_minor": 0
      },
      "text/plain": [
       "Loading checkpoint shards:   0%|          | 0/8 [00:00<?, ?it/s]"
      ]
     },
     "metadata": {},
     "output_type": "display_data"
    }
   ],
   "source": [
    "model = AutoModelForCausalLM.from_pretrained(\n",
    "    model_name, \n",
    "    device_map=\"auto\", \n",
    "    quantization_config=bnb_config, \n",
    "    trust_remote_code=True\n",
    ")\n",
    "model.config.use_cache = False"
   ]
  },
  {
   "cell_type": "code",
   "execution_count": 26,
   "id": "0a029812",
   "metadata": {},
   "outputs": [],
   "source": [
    "# !pip install transformers --upgrade"
   ]
  },
  {
   "cell_type": "code",
   "execution_count": 5,
   "id": "741533eb",
   "metadata": {},
   "outputs": [],
   "source": [
    "# !pip install bitsandbytes --upgrade"
   ]
  },
  {
   "cell_type": "code",
   "execution_count": 6,
   "id": "486c7d89",
   "metadata": {},
   "outputs": [],
   "source": [
    "# !pip install accelerate --upgrade"
   ]
  },
  {
   "cell_type": "code",
   "execution_count": 9,
   "id": "145a3ced",
   "metadata": {},
   "outputs": [],
   "source": [
    "tokenizer = AutoTokenizer.from_pretrained(model_name, trust_remote_code=True)\n",
    "tokenizer.pad_token = tokenizer.eos_token"
   ]
  },
  {
   "cell_type": "code",
   "execution_count": 7,
   "id": "ad8bda05",
   "metadata": {},
   "outputs": [],
   "source": [
    "# tokenizer.save_pretrained('/oper/ch/pretrain_model/falcon_qlora/')"
   ]
  },
  {
   "cell_type": "code",
   "execution_count": 12,
   "id": "864e471a",
   "metadata": {},
   "outputs": [],
   "source": [
    "# model.save_pretrained('/oper/ch/pretrain_model/falcon_qlora/')"
   ]
  },
  {
   "cell_type": "code",
   "execution_count": 9,
   "id": "39ee8115",
   "metadata": {},
   "outputs": [],
   "source": [
    "# !pip install peft"
   ]
  },
  {
   "cell_type": "code",
   "execution_count": 10,
   "id": "252af7c3",
   "metadata": {},
   "outputs": [],
   "source": [
    "from peft import LoraConfig\n",
    "\n",
    "lora_alpha = 16\n",
    "lora_dropout = 0.1\n",
    "lora_r = 64\n",
    "\n",
    "peft_config = LoraConfig(\n",
    "    lora_alpha=lora_alpha,\n",
    "    lora_dropout=lora_dropout,\n",
    "    r=lora_r,\n",
    "    bias=\"none\",\n",
    "    task_type=\"CAUSAL_LM\",\n",
    "    target_modules=[\n",
    "        \"query_key_value\",\n",
    "        \"dense\",\n",
    "        \"dense_h_to_4h\",\n",
    "        \"dense_4h_to_h\",\n",
    "    ]\n",
    ")"
   ]
  },
  {
   "cell_type": "code",
   "execution_count": 9,
   "id": "8e862b82",
   "metadata": {},
   "outputs": [],
   "source": [
    "# from peft import get_peft_model"
   ]
  },
  {
   "cell_type": "code",
   "execution_count": 11,
   "id": "eac95372",
   "metadata": {},
   "outputs": [],
   "source": [
    "# model=get_peft_model(model,peft_config)"
   ]
  },
  {
   "cell_type": "code",
   "execution_count": 15,
   "id": "0e4c87c5",
   "metadata": {},
   "outputs": [],
   "source": [
    "# model.print_trainable_parameters()"
   ]
  },
  {
   "cell_type": "code",
   "execution_count": 13,
   "id": "8fc7a086",
   "metadata": {},
   "outputs": [],
   "source": [
    "# model.cuda()"
   ]
  },
  {
   "cell_type": "code",
   "execution_count": 11,
   "id": "50755d00",
   "metadata": {},
   "outputs": [],
   "source": [
    "from transformers import TrainingArguments"
   ]
  },
  {
   "cell_type": "code",
   "execution_count": 12,
   "id": "b7bc1571",
   "metadata": {},
   "outputs": [
    {
     "name": "stderr",
     "output_type": "stream",
     "text": [
      "Using the `WANDB_DISABLED` environment variable is deprecated and will be removed in v5. Use the --report_to flag to control the integrations used for logging result (for instance --report_to none).\n"
     ]
    }
   ],
   "source": [
    "output_dir = \"/oper/ch/git/falcon_fineture/results\"\n",
    "per_device_train_batch_size = 8\n",
    "gradient_accumulation_steps = 1\n",
    "optim = \"paged_adamw_32bit\"\n",
    "# save_steps = 10\n",
    "logging_steps = 10\n",
    "learning_rate = 2e-4\n",
    "max_grad_norm = 0.3\n",
    "max_steps = 500\n",
    "warmup_ratio = 0.03\n",
    "lr_scheduler_type = \"constant\"\n",
    "os.environ['WANDB_DISABLED'] = 'true'\n",
    "training_arguments = TrainingArguments(\n",
    "    report_to=None,\n",
    "    output_dir=output_dir,\n",
    "    per_device_train_batch_size=per_device_train_batch_size,\n",
    "    gradient_accumulation_steps=gradient_accumulation_steps,\n",
    "    optim=optim,\n",
    "    save_total_limit=3,\n",
    "#     save_steps=save_steps,\n",
    "    num_train_epochs=1,\n",
    "    logging_steps=logging_steps,\n",
    "    learning_rate=learning_rate,\n",
    "    fp16=True,\n",
    "    max_grad_norm=max_grad_norm,\n",
    "#     max_steps=max_steps,\n",
    "    warmup_ratio=warmup_ratio,\n",
    "    group_by_length=True,\n",
    "    lr_scheduler_type=lr_scheduler_type,\n",
    ")"
   ]
  },
  {
   "cell_type": "code",
   "execution_count": 13,
   "id": "b51f794e",
   "metadata": {},
   "outputs": [
    {
     "name": "stderr",
     "output_type": "stream",
     "text": [
      "/oper/ch/env/py39/lib/python3.9/site-packages/peft/utils/other.py:102: FutureWarning: prepare_model_for_int8_training is deprecated and will be removed in a future version. Use prepare_model_for_kbit_training instead.\n",
      "  warnings.warn(\n",
      "Parameter 'function'=<function SFTTrainer._prepare_non_packed_dataloader.<locals>.tokenize at 0x7feaa8237a60> of the transform datasets.arrow_dataset.Dataset._map_single couldn't be hashed properly, a random hash was used instead. Make sure your transforms and parameters are serializable with pickle or dill for the dataset fingerprinting and caching to work. If you reuse this transform, the caching mechanism will consider it to be different from the previous calls and recompute everything. This warning is only showed once. Subsequent hashing failures won't be showed.\n"
     ]
    },
    {
     "data": {
      "application/vnd.jupyter.widget-view+json": {
       "model_id": "07b1f8ee32924356a2ac1bb42b41f839",
       "version_major": 2,
       "version_minor": 0
      },
      "text/plain": [
       "  0%|          | 0/3607 [00:00<?, ?ba/s]"
      ]
     },
     "metadata": {},
     "output_type": "display_data"
    }
   ],
   "source": [
    "from trl import SFTTrainer\n",
    "\n",
    "max_seq_length = 512\n",
    "\n",
    "trainer = SFTTrainer(\n",
    "    model=model,\n",
    "    train_dataset=data,\n",
    "    formatting_func=formatting_func,\n",
    "    peft_config=peft_config,\n",
    "#     dataset_text_field=\"conversations\",\n",
    "    max_seq_length=max_seq_length,\n",
    "    tokenizer=tokenizer,\n",
    "#     packing=True,\n",
    "    args=training_arguments,\n",
    ")"
   ]
  },
  {
   "cell_type": "code",
   "execution_count": 17,
   "id": "79318844",
   "metadata": {},
   "outputs": [
    {
     "name": "stderr",
     "output_type": "stream",
     "text": [
      "Loading cached processed dataset at /home/device/.cache/huggingface/datasets/timdettmers___json/timdettmers--openassistant-guanaco-c21e85fd8b1a6952/0.0.0/da492aad5680612e4028e7f6ddc04b1dfcec4b64db470ed7cc5f2bb265b9b6b5/cache-1c80317fa3b1799d.arrow\n"
     ]
    }
   ],
   "source": [
    "ds=dataset.map(tokenizer, batched=True, remove_columns=dataset.column_names)"
   ]
  },
  {
   "cell_type": "code",
   "execution_count": 30,
   "id": "4f200293",
   "metadata": {},
   "outputs": [
    {
     "data": {
      "text/plain": [
       "512"
      ]
     },
     "execution_count": 30,
     "metadata": {},
     "output_type": "execute_result"
    }
   ],
   "source": [
    "len(next(iter(ds))['input_ids'])"
   ]
  },
  {
   "cell_type": "code",
   "execution_count": 41,
   "id": "da0996d0",
   "metadata": {},
   "outputs": [
    {
     "data": {
      "text/plain": [
       "{'text': '### Human: ¿CUales son las etapas del desarrollo y en qué consisten según Piaget?### Assistant: Jean Piaget fue un psicólogo suizo que propuso una teoría sobre el desarrollo cognitivo humano que consta de cuatro etapas:\\n\\nEtapa sensoriomotora (0-2 años): Durante esta etapa, el niño aprende a través de sus sentidos y movimientos. Descubre que sus acciones pueden tener un impacto en el entorno y comienza a formarse una idea básica de objetividad y continuidad.\\n\\nEtapa preoperatoria (2-7 años): En esta etapa, el niño comienza a desarrollar un pensamiento simbólico y a comprender que las cosas pueden representar a otras cosas. También comienzan a desarrollar un pensamiento lógico y a comprender conceptos como la causa y el efecto.\\n\\nEtapa de operaciones concretas (7-12 años): Durante esta etapa, el niño desarrolla un pensamiento lógico y comprende las relaciones causales. Empiezan a comprender que las cosas pueden tener múltiples perspectivas y que los conceptos pueden ser más complejos de lo que parecen a simple vista.\\n\\nEtapa de operaciones formales (12 años en adelante): En esta etapa, el individuo desarrolla un pensamiento abstracto y puede comprender conceptos complejos y abstractos. Son capaces de razonar hipotéticamente y tienen la capacidad de reflexionar sobre su propio pensamiento.\\n\\nEstas etapas no son lineales y algunos individuos pueden avanzar en una etapa más rápidamente que en otras. La teoría de Piaget sobre el desarrollo cognitivo ha sido ampliamente utilizada y es una base importante para la investigación y el entendimiento del desarrollo humano.### Human: ¿Hay otras teorías sobre las etapas del desarrollo que reafirmen o contradigan a la teoría de Piaget?'}"
      ]
     },
     "execution_count": 41,
     "metadata": {},
     "output_type": "execute_result"
    }
   ],
   "source": [
    "dataset[1]"
   ]
  },
  {
   "cell_type": "code",
   "execution_count": 59,
   "id": "bedb153e",
   "metadata": {},
   "outputs": [],
   "source": [
    "for name, module in trainer.model.named_modules():\n",
    "    if \"norm\" in name:\n",
    "        module = module.to(torch.float32)"
   ]
  },
  {
   "cell_type": "code",
   "execution_count": 30,
   "id": "9ff48ef8",
   "metadata": {},
   "outputs": [],
   "source": [
    "output=model.generate(input_ids=tokenizer('',return_tensors=\"pt\").input_ids.to('cuda'), \n",
    "                         max_new_tokens=64, \n",
    "                         temperature=0.4, \n",
    "                         top_p=0.9,\n",
    "                         do_sample=False,\n",
    "                         repetition_penalty=1.1,\n",
    "                         pad_token_id=tokenizer.eos_token_id)"
   ]
  },
  {
   "cell_type": "code",
   "execution_count": 18,
   "id": "0c7d0a0c",
   "metadata": {},
   "outputs": [
    {
     "data": {
      "text/plain": [
       "tensor([[ 4773,   860,   692,   960,  3603,   413,    42,   193, 15847,   504,\n",
       "           241,  4558,   275,   204,    28,    25,    31,  4777,   692,    23,\n",
       "           204,   423,    16,   275,   248,  1079,    18,    94,  4558,    25,\n",
       "           193, 11972,  2020,   504,   248,   758,   692,   272,   248,  1079,\n",
       "            42,   193,   487,   758, 30285,  2020,   272,   248,  1079,   304,\n",
       "          3603,   335,   204,    28,    25,    31]], device='cuda:0')"
      ]
     },
     "execution_count": 18,
     "metadata": {},
     "output_type": "execute_result"
    }
   ],
   "source": [
    "output"
   ]
  },
  {
   "cell_type": "code",
   "execution_count": 32,
   "id": "dfef93bf",
   "metadata": {},
   "outputs": [
    {
     "name": "stdout",
     "output_type": "stream",
     "text": [
      "['how many people does China have?\\nChina has a population of 1,346,000,000 people.\\nHow many people live in China?\\nChina has a population of 1,346,000,000 people.\\nWhat is the population of China?\\nChina has a population of 1,346,000,000 people']\n"
     ]
    }
   ],
   "source": [
    "print(tokenizer.batch_decode(output,skip_special_tokens=True))"
   ]
  },
  {
   "cell_type": "code",
   "execution_count": 1,
   "id": "ef7b6951",
   "metadata": {},
   "outputs": [],
   "source": [
    "# trainer.train()"
   ]
  },
  {
   "cell_type": "code",
   "execution_count": 19,
   "id": "109adf17",
   "metadata": {},
   "outputs": [],
   "source": [
    "# !pip install -q datasets bitsandbytes einops wandb"
   ]
  },
  {
   "cell_type": "code",
   "execution_count": 59,
   "id": "bdf32671",
   "metadata": {},
   "outputs": [],
   "source": [
    "inputs=tokenizer(['中国有多少人口,你好','how are you'],return_tensors='pt')"
   ]
  },
  {
   "cell_type": "code",
   "execution_count": 20,
   "id": "335b275e",
   "metadata": {},
   "outputs": [],
   "source": [
    "from peft import PeftModel,PeftConfig,get_peft_config"
   ]
  },
  {
   "cell_type": "code",
   "execution_count": 23,
   "id": "8d58b446",
   "metadata": {},
   "outputs": [],
   "source": [
    "config=PeftConfig.from_pretrained('/oper/ch/git/falcon_fineture/results/checkpoint-500/')"
   ]
  },
  {
   "cell_type": "code",
   "execution_count": 24,
   "id": "dc41b97c",
   "metadata": {},
   "outputs": [],
   "source": [
    "model=PeftModel.from_pretrained(model,'/oper/ch/git/falcon_fineture/results/checkpoint-500/')"
   ]
  },
  {
   "cell_type": "code",
   "execution_count": 79,
   "id": "de0890db",
   "metadata": {},
   "outputs": [],
   "source": [
    "# tokenizer.batch_encode_plus(['中国有多少人口,你好','how are you'],max_length=12,padding=True,truncation=True,return_tensors='pt')"
   ]
  }
 ],
 "metadata": {
  "kernelspec": {
   "display_name": "Python 3 (ipykernel)",
   "language": "python",
   "name": "python3"
  },
  "language_info": {
   "codemirror_mode": {
    "name": "ipython",
    "version": 3
   },
   "file_extension": ".py",
   "mimetype": "text/x-python",
   "name": "python",
   "nbconvert_exporter": "python",
   "pygments_lexer": "ipython3",
   "version": "3.9.5"
  }
 },
 "nbformat": 4,
 "nbformat_minor": 5
}
