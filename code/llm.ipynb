{
 "cells": [
  {
   "cell_type": "code",
   "execution_count": 3,
   "id": "38a61154",
   "metadata": {},
   "outputs": [],
   "source": [
    "from transformers import AutoTokenizer, AutoModel\n",
    "import transformers\n",
    "import torch"
   ]
  },
  {
   "cell_type": "code",
   "execution_count": 1,
   "id": "c2be2d1c",
   "metadata": {},
   "outputs": [],
   "source": [
    "import os\n",
    "# proxy_ip='http://127.0.0.1:7891'\n",
    "# os.environ['https_proxy']=proxy_ip\n",
    "# os.environ['http_proxy']=proxy_ip\n",
    "# os.environ['HTTPS_PROXY']=proxy_ip\n",
    "# os.environ['HTTP_PROXY']=proxy_ip"
   ]
  },
  {
   "cell_type": "code",
   "execution_count": 2,
   "id": "bd550ca4",
   "metadata": {},
   "outputs": [],
   "source": [
    "os.environ['TRANSFORMERS_CACHE'] = '/oper/ch/huggingface'"
   ]
  },
  {
   "cell_type": "code",
   "execution_count": 7,
   "id": "ec34f042",
   "metadata": {},
   "outputs": [
    {
     "data": {
      "application/vnd.jupyter.widget-view+json": {
       "model_id": "97844ce3363748c29b89911315a59575",
       "version_major": 2,
       "version_minor": 0
      },
      "text/plain": [
       "Downloading (…)lve/main/config.json:   0%|          | 0.00/941 [00:00<?, ?B/s]"
      ]
     },
     "metadata": {},
     "output_type": "display_data"
    },
    {
     "data": {
      "application/vnd.jupyter.widget-view+json": {
       "model_id": "bf9049c676f1446181c38ef5725751aa",
       "version_major": 2,
       "version_minor": 0
      },
      "text/plain": [
       "Downloading pytorch_model.bin:   0%|          | 0.00/1.30G [00:00<?, ?B/s]"
      ]
     },
     "metadata": {},
     "output_type": "display_data"
    }
   ],
   "source": [
    "tokenizer = AutoTokenizer.from_pretrained('BAAI/bge-large-zh')\n",
    "model = AutoModel.from_pretrained('BAAI/bge-large-zh')"
   ]
  },
  {
   "cell_type": "code",
   "execution_count": 10,
   "id": "05f59953",
   "metadata": {},
   "outputs": [],
   "source": [
    "# tokenizer = AutoTokenizer.from_pretrained('meta-llama/Llama-2-13b-chat-hf')\n",
    "# model = AutoModel.from_pretrained('meta-llama/Llama-2-13b-chat-hf')"
   ]
  },
  {
   "cell_type": "code",
   "execution_count": 13,
   "id": "6374fcde",
   "metadata": {},
   "outputs": [
    {
     "name": "stderr",
     "output_type": "stream",
     "text": [
      "normalizer.cc(51) LOG(INFO) precompiled_charsmap is empty. use identity normalization.\n"
     ]
    },
    {
     "data": {
      "application/vnd.jupyter.widget-view+json": {
       "model_id": "2ce0b2a1568e43dbbce22afca2e2f93d",
       "version_major": 2,
       "version_minor": 0
      },
      "text/plain": [
       "Downloading shards:   0%|          | 0/7 [00:00<?, ?it/s]"
      ]
     },
     "metadata": {},
     "output_type": "display_data"
    },
    {
     "data": {
      "application/vnd.jupyter.widget-view+json": {
       "model_id": "d8a7072a5f8a4489b7a12f76f9e64967",
       "version_major": 2,
       "version_minor": 0
      },
      "text/plain": [
       "Downloading (…)l-00006-of-00007.bin:   0%|          | 0.00/1.93G [00:00<?, ?B/s]"
      ]
     },
     "metadata": {},
     "output_type": "display_data"
    },
    {
     "data": {
      "application/vnd.jupyter.widget-view+json": {
       "model_id": "6f56fd36af8443c8a5cb22031d7e6357",
       "version_major": 2,
       "version_minor": 0
      },
      "text/plain": [
       "Downloading (…)l-00007-of-00007.bin:   0%|          | 0.00/1.05G [00:00<?, ?B/s]"
      ]
     },
     "metadata": {},
     "output_type": "display_data"
    },
    {
     "data": {
      "application/vnd.jupyter.widget-view+json": {
       "model_id": "703a8c6c6ca24162a5902f984b9e68f5",
       "version_major": 2,
       "version_minor": 0
      },
      "text/plain": [
       "Loading checkpoint shards:   0%|          | 0/7 [00:00<?, ?it/s]"
      ]
     },
     "metadata": {},
     "output_type": "display_data"
    }
   ],
   "source": [
    "tokenizer = AutoTokenizer.from_pretrained(\"THUDM/chatglm2-6b-32k\", trust_remote_code=True)\n",
    "model = AutoModel.from_pretrained(\"THUDM/chatglm2-6b-32k\", trust_remote_code=True)"
   ]
  },
  {
   "cell_type": "code",
   "execution_count": 14,
   "id": "07dac182",
   "metadata": {},
   "outputs": [
    {
     "data": {
      "text/plain": [
       "('/oper/ch/pretrain_model/chatglm2-32k/tokenizer_config.json',\n",
       " '/oper/ch/pretrain_model/chatglm2-32k/special_tokens_map.json',\n",
       " '/oper/ch/pretrain_model/chatglm2-32k/tokenizer.model',\n",
       " '/oper/ch/pretrain_model/chatglm2-32k/added_tokens.json')"
      ]
     },
     "execution_count": 14,
     "metadata": {},
     "output_type": "execute_result"
    }
   ],
   "source": [
    "tokenizer.save_pretrained('/oper/ch/pretrain_model/chatglm2-32k')"
   ]
  },
  {
   "cell_type": "code",
   "execution_count": 15,
   "id": "ab34e36e",
   "metadata": {},
   "outputs": [],
   "source": [
    "model.save_pretrained('/oper/ch/pretrain_model/chatglm2-32k')"
   ]
  },
  {
   "cell_type": "code",
   "execution_count": 16,
   "id": "053bcd97",
   "metadata": {},
   "outputs": [],
   "source": [
    "model.config.save_pretrained('/oper/ch/pretrain_model/chatglm2-32k')"
   ]
  },
  {
   "cell_type": "code",
   "execution_count": 7,
   "id": "efaa383b",
   "metadata": {},
   "outputs": [
    {
     "data": {
      "text/plain": [
       "('/oper/ch/pretrain_model/llama-2-13b-chat-hf/tokenizer_config.json',\n",
       " '/oper/ch/pretrain_model/llama-2-13b-chat-hf/special_tokens_map.json',\n",
       " '/oper/ch/pretrain_model/llama-2-13b-chat-hf/tokenizer.model',\n",
       " '/oper/ch/pretrain_model/llama-2-13b-chat-hf/added_tokens.json',\n",
       " '/oper/ch/pretrain_model/llama-2-13b-chat-hf/tokenizer.json')"
      ]
     },
     "execution_count": 7,
     "metadata": {},
     "output_type": "execute_result"
    }
   ],
   "source": [
    "tokenizer.save_pretrained('/oper/ch/pretrain_model/llama-2-13b-chat-hf')"
   ]
  },
  {
   "cell_type": "code",
   "execution_count": 8,
   "id": "4f014495",
   "metadata": {},
   "outputs": [],
   "source": [
    "model.save_pretrained('/oper/ch/pretrain_model/llama-2-13b-chat-hf')"
   ]
  },
  {
   "cell_type": "code",
   "execution_count": 9,
   "id": "e54ee245",
   "metadata": {},
   "outputs": [
    {
     "data": {
      "text/plain": [
       "('/oper/ch/pretrain_model/llama-2-13b-chat-hf/tokenizer.model',)"
      ]
     },
     "execution_count": 9,
     "metadata": {},
     "output_type": "execute_result"
    }
   ],
   "source": [
    "tokenizer.save_vocabulary('/oper/ch/pretrain_model/llama-2-13b-chat-hf')"
   ]
  },
  {
   "cell_type": "code",
   "execution_count": 10,
   "id": "76d13cae",
   "metadata": {},
   "outputs": [],
   "source": [
    "model.config.save_pretrained('/oper/ch/pretrain_model/llama-2-13b-chat-hf')"
   ]
  },
  {
   "cell_type": "code",
   "execution_count": null,
   "id": "5a4cdc0e",
   "metadata": {},
   "outputs": [
    {
     "data": {
      "application/vnd.jupyter.widget-view+json": {
       "model_id": "ceb611f8ee124fe3a5c2544d9a7604c4",
       "version_major": 2,
       "version_minor": 0
      },
      "text/plain": [
       "Downloading (…)lve/main/config.json:   0%|          | 0.00/680 [00:00<?, ?B/s]"
      ]
     },
     "metadata": {},
     "output_type": "display_data"
    },
    {
     "data": {
      "application/vnd.jupyter.widget-view+json": {
       "model_id": "1c5ba4bc0369480eb85780817bbd2994",
       "version_major": 2,
       "version_minor": 0
      },
      "text/plain": [
       "Downloading (…)guration_baichuan.py:   0%|          | 0.00/1.49k [00:00<?, ?B/s]"
      ]
     },
     "metadata": {},
     "output_type": "display_data"
    },
    {
     "data": {
      "application/vnd.jupyter.widget-view+json": {
       "model_id": "f44e9753f9414541adfd357c801ba434",
       "version_major": 2,
       "version_minor": 0
      },
      "text/plain": [
       "Downloading (…)lve/main/config.json:   0%|          | 0.00/680 [00:00<?, ?B/s]"
      ]
     },
     "metadata": {},
     "output_type": "display_data"
    },
    {
     "data": {
      "application/vnd.jupyter.widget-view+json": {
       "model_id": "7f2486eec53549a8890b963bfaf057e0",
       "version_major": 2,
       "version_minor": 0
      },
      "text/plain": [
       "Downloading (…)modeling_baichuan.py:   0%|          | 0.00/22.6k [00:00<?, ?B/s]"
      ]
     },
     "metadata": {},
     "output_type": "display_data"
    },
    {
     "data": {
      "application/vnd.jupyter.widget-view+json": {
       "model_id": "1ff8e59c30b244349d2163c27a9ddfa8",
       "version_major": 2,
       "version_minor": 0
      },
      "text/plain": [
       "Downloading (…)model.bin.index.json:   0%|          | 0.00/23.3k [00:00<?, ?B/s]"
      ]
     },
     "metadata": {},
     "output_type": "display_data"
    },
    {
     "data": {
      "application/vnd.jupyter.widget-view+json": {
       "model_id": "1dc15701c3f24e94a3701770824ddeeb",
       "version_major": 2,
       "version_minor": 0
      },
      "text/plain": [
       "Downloading shards:   0%|          | 0/3 [00:00<?, ?it/s]"
      ]
     },
     "metadata": {},
     "output_type": "display_data"
    },
    {
     "data": {
      "application/vnd.jupyter.widget-view+json": {
       "model_id": "d6118f9c6287433ea2542aa55ba0cd4c",
       "version_major": 2,
       "version_minor": 0
      },
      "text/plain": [
       "Downloading (…)l-00001-of-00003.bin:   0%|          | 0.00/9.97G [00:00<?, ?B/s]"
      ]
     },
     "metadata": {},
     "output_type": "display_data"
    }
   ],
   "source": [
    "from transformers import AutoModelForCausalLM\n",
    "tokenizer = AutoTokenizer.from_pretrained(\"baichuan-inc/Baichuan-13B-Chat\", use_fast=False, trust_remote_code=True)\n",
    "model = AutoModelForCausalLM.from_pretrained(\"baichuan-inc/Baichuan-13B-Chat\",\\\n",
    "                                             trust_remote_code=True,\\\n",
    "                                             force_download=True,\\\n",
    "                                             resume_download=False)"
   ]
  }
 ],
 "metadata": {
  "kernelspec": {
   "display_name": "Python 3 (ipykernel)",
   "language": "python",
   "name": "python3"
  },
  "language_info": {
   "codemirror_mode": {
    "name": "ipython",
    "version": 3
   },
   "file_extension": ".py",
   "mimetype": "text/x-python",
   "name": "python",
   "nbconvert_exporter": "python",
   "pygments_lexer": "ipython3",
   "version": "3.9.5"
  }
 },
 "nbformat": 4,
 "nbformat_minor": 5
}
