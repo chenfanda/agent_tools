{
 "cells": [
  {
   "cell_type": "code",
   "execution_count": 2,
   "id": "db0fd3a1",
   "metadata": {},
   "outputs": [
    {
     "name": "stderr",
     "output_type": "stream",
     "text": [
      "A new version of the following files was downloaded from https://huggingface.co/baichuan-inc/baichuan-7B:\n",
      "- tokenization_baichuan.py\n",
      ". Make sure to double-check they do not contain any added malicious code. To avoid downloading new versions of the code file, you can pin a revision.\n",
      "A new version of the following files was downloaded from https://huggingface.co/baichuan-inc/baichuan-7B:\n",
      "- configuration_baichuan.py\n",
      ". Make sure to double-check they do not contain any added malicious code. To avoid downloading new versions of the code file, you can pin a revision.\n",
      "A new version of the following files was downloaded from https://huggingface.co/baichuan-inc/baichuan-7B:\n",
      "- modeling_baichuan.py\n",
      ". Make sure to double-check they do not contain any added malicious code. To avoid downloading new versions of the code file, you can pin a revision.\n"
     ]
    }
   ],
   "source": [
    "from transformers import AutoModelForCausalLM, AutoTokenizer,BitsAndBytesConfig\n",
    "import os\n",
    "proxy_ip='http://127.0.0.1:7891'\n",
    "os.environ['https_proxy']=proxy_ip\n",
    "os.environ['http_proxy']=proxy_ip\n",
    "os.environ['HTTPS_PROXY']=proxy_ip\n",
    "os.environ['HTTP_PROXY']=proxy_ip\n",
    "# # bnb_config = BitsAndBytesConfig(\n",
    "# #     load_in_4bit=True,\n",
    "# #     bnb_4bit_quant_type=\"nf4\",\n",
    "# #     bnb_4bit_compute_dtype=\"bfloat16\",\n",
    "# #     bnb_4bit_use_double_quant=False,\n",
    "# # )\n",
    "bnb_config = BitsAndBytesConfig(\n",
    "    load_in_8bit=True,\n",
    "#     llm_int8_has_fp16_weight=True,\n",
    ")\n",
    "# #baichuan-inc/baichuan-7B\n",
    "tokenizer = AutoTokenizer.from_pretrained(\"baichuan-inc/baichuan-7B\", trust_remote_code=True)\n",
    "model = AutoModelForCausalLM.from_pretrained(\"baichuan-inc/baichuan-7B\", \\\n",
    "                                             device_map=\"auto\", \n",
    "                                             quantization_config=bnb_config,\n",
    "                                              trust_remote_code=True)"
   ]
  },
  {
   "cell_type": "code",
   "execution_count": null,
   "id": "b46b0139",
   "metadata": {},
   "outputs": [],
   "source": []
  },
  {
   "cell_type": "code",
   "execution_count": 10,
   "id": "d979ca32",
   "metadata": {},
   "outputs": [
    {
     "name": "stdout",
     "output_type": "stream",
     "text": [
      "猫和狗的区别是什么?\n",
      "我养了两只小猫咪,一只叫咪咪,另一只是弟弟。他们俩个是同父异母的关系。但是性格完全不一样!\n"
     ]
    }
   ],
   "source": [
    "inputs = tokenizer('猫和狗的区别', return_tensors='pt')\n",
    "inputs = inputs.to('cuda:0')\n",
    "pred = model.generate(**inputs, max_new_tokens=124,repetition_penalty=1.1)\n",
    "print(tokenizer.decode(pred.cpu()[0], skip_special_tokens=True))"
   ]
  },
  {
   "cell_type": "code",
   "execution_count": 5,
   "id": "55eaa6b7",
   "metadata": {},
   "outputs": [
    {
     "name": "stdout",
     "output_type": "stream",
     "text": [
      "\n",
      "===================================BUG REPORT===================================\n",
      "Welcome to bitsandbytes. For bug reports, please run\n",
      "\n",
      "python -m bitsandbytes\n",
      "\n",
      " and submit this information together with your error trace to: https://github.com/TimDettmers/bitsandbytes/issues\n",
      "================================================================================\n",
      "bin /oper/ch/env/py39/lib/python3.9/site-packages/bitsandbytes/libbitsandbytes_cuda117_nocublaslt.so\n",
      "CUDA SETUP: CUDA runtime path found: /usr/local/cuda/lib64/libcudart.so\n",
      "CUDA SETUP: Highest compute capability among GPUs detected: 6.1\n",
      "CUDA SETUP: Detected CUDA version 117\n",
      "CUDA SETUP: Loading binary /oper/ch/env/py39/lib/python3.9/site-packages/bitsandbytes/libbitsandbytes_cuda117_nocublaslt.so...\n"
     ]
    },
    {
     "name": "stderr",
     "output_type": "stream",
     "text": [
      "/oper/ch/env/py39/lib/python3.9/site-packages/bitsandbytes/cuda_setup/main.py:149: UserWarning: WARNING: Compute capability < 7.5 detected! Only slow 8-bit matmul is supported for your GPU!\n",
      "  warn(msg)\n",
      "The model weights are not tied. Please use the `tie_weights` method before using the `infer_auto_device` function.\n"
     ]
    },
    {
     "data": {
      "application/vnd.jupyter.widget-view+json": {
       "model_id": "8aa367fac1454dd6b7e553d8ce1cf457",
       "version_major": 2,
       "version_minor": 0
      },
      "text/plain": [
       "Loading checkpoint shards:   0%|          | 0/3 [00:00<?, ?it/s]"
      ]
     },
     "metadata": {},
     "output_type": "display_data"
    }
   ],
   "source": [
    "from transformers import AutoModelForCausalLM, AutoTokenizer\n",
    "import torch\n",
    "tokenizer = AutoTokenizer.from_pretrained(\"/oper/ch/pretrain_model/baichuan/\", \\\n",
    "                                          trust_remote_code=True)\n",
    "model = AutoModelForCausalLM.from_pretrained(\"/oper/ch/pretrain_model/baichuan/\",\\\n",
    "                                             device_map=\"auto\", \n",
    "                                             trust_remote_code=True, \n",
    "                                             quantization_config=bnb_config,\n",
    "                                             torch_dtype=torch.float16\n",
    "                                            )"
   ]
  },
  {
   "cell_type": "code",
   "execution_count": 1,
   "id": "064e8b01",
   "metadata": {},
   "outputs": [],
   "source": [
    "# input_text='你能告诉我一些关于你的信息吗？'\n",
    "# inputs = tokenizer(input_text, return_tensors='pt')\n",
    "# inputs = inputs.to('cuda')\n",
    "# pred = model.generate(**inputs, max_new_tokens=200,do_sample = True, top_k = 3, top_p = 0.9, temperature = 0.8, repetition_penalty=1.1, length_penalty = 1.1)\n",
    "# print(tokenizer.decode(pred.cpu()[0], skip_special_tokens=True)[len(input_text):])"
   ]
  },
  {
   "cell_type": "code",
   "execution_count": 3,
   "id": "bb07c347",
   "metadata": {},
   "outputs": [
    {
     "data": {
      "text/plain": [
       "('/oper/ch/pretrain_model/baichuan/tokenizer_config.json',\n",
       " '/oper/ch/pretrain_model/baichuan/special_tokens_map.json',\n",
       " '/oper/ch/pretrain_model/baichuan/tokenizer.model',\n",
       " '/oper/ch/pretrain_model/baichuan/added_tokens.json')"
      ]
     },
     "execution_count": 3,
     "metadata": {},
     "output_type": "execute_result"
    }
   ],
   "source": [
    "# tokenizer.save_pretrained('/oper/ch/pretrain_model/baichuan/')"
   ]
  },
  {
   "cell_type": "code",
   "execution_count": 4,
   "id": "876b0d6a",
   "metadata": {},
   "outputs": [],
   "source": [
    "# model.save_pretrained('/oper/ch/pretrain_model/baichuan/')"
   ]
  },
  {
   "cell_type": "code",
   "execution_count": null,
   "id": "5bb3caf6",
   "metadata": {},
   "outputs": [],
   "source": []
  }
 ],
 "metadata": {
  "kernelspec": {
   "display_name": "Python 3 (ipykernel)",
   "language": "python",
   "name": "python3"
  },
  "language_info": {
   "codemirror_mode": {
    "name": "ipython",
    "version": 3
   },
   "file_extension": ".py",
   "mimetype": "text/x-python",
   "name": "python",
   "nbconvert_exporter": "python",
   "pygments_lexer": "ipython3",
   "version": "3.9.5"
  }
 },
 "nbformat": 4,
 "nbformat_minor": 5
}
