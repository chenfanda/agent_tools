{
 "cells": [
  {
   "cell_type": "code",
   "execution_count": 22,
   "id": "c9c5ce56-dfca-4c1c-9e14-938f564d84fa",
   "metadata": {},
   "outputs": [],
   "source": [
    "import pyautogui"
   ]
  },
  {
   "cell_type": "code",
   "execution_count": 28,
   "id": "e01cfc9e-9ca8-4ea4-bf5e-ef867b58a57d",
   "metadata": {},
   "outputs": [],
   "source": [
    "screenWidth, screenHeight = pyautogui.size()"
   ]
  },
  {
   "cell_type": "code",
   "execution_count": 29,
   "id": "1f830f34-4f2e-4a87-bd91-3a21683a58c4",
   "metadata": {},
   "outputs": [
    {
     "name": "stdout",
     "output_type": "stream",
     "text": [
      "1920 1080\n"
     ]
    }
   ],
   "source": [
    "print(screenWidth,screenHeight)"
   ]
  },
  {
   "cell_type": "code",
   "execution_count": 67,
   "id": "28581b62-9837-40ac-9a49-70e747c9b70a",
   "metadata": {},
   "outputs": [
    {
     "name": "stdout",
     "output_type": "stream",
     "text": [
      "432 536\n"
     ]
    }
   ],
   "source": [
    "currentMouseX, currentMouseY = pyautogui.position()\n",
    "print(currentMouseX,currentMouseY)"
   ]
  },
  {
   "cell_type": "code",
   "execution_count": 5,
   "id": "bd88d665-3222-44a5-a52d-211cb3010618",
   "metadata": {},
   "outputs": [],
   "source": [
    "pyautogui.moveTo(432,536,duration=1)"
   ]
  },
  {
   "cell_type": "code",
   "execution_count": 25,
   "id": "c32df34a-930d-489f-babb-ff5502cdb560",
   "metadata": {},
   "outputs": [
    {
     "name": "stdout",
     "output_type": "stream",
     "text": [
      "35 543\n"
     ]
    }
   ],
   "source": [
    "print(currentMouseX,currentMouseY)"
   ]
  },
  {
   "cell_type": "code",
   "execution_count": 33,
   "id": "7dbec8b5-882a-417c-887b-883e10c6a2cf",
   "metadata": {},
   "outputs": [],
   "source": [
    "pyautogui.moveTo(30, 100)"
   ]
  },
  {
   "cell_type": "code",
   "execution_count": 34,
   "id": "e644c1dc-5714-4917-a376-e57845fe1983",
   "metadata": {},
   "outputs": [],
   "source": [
    "im1 = pyautogui.screenshot()"
   ]
  },
  {
   "cell_type": "code",
   "execution_count": 4,
   "id": "5362f746-193b-4657-a447-48f8c2d75930",
   "metadata": {},
   "outputs": [
    {
     "data": {
      "text/plain": [
       "PIL.Image.Image"
      ]
     },
     "execution_count": 4,
     "metadata": {},
     "output_type": "execute_result"
    }
   ],
   "source": [
    "type(im1)"
   ]
  },
  {
   "cell_type": "code",
   "execution_count": 2,
   "id": "bc35039c-a7ff-403c-a7db-c4e987c79149",
   "metadata": {},
   "outputs": [],
   "source": [
    "import base64\n",
    "import io\n",
    "import requests\n",
    "def is_image_path(text):\n",
    "    image_extensions = (\".jpg\", \".jpeg\", \".png\", \".gif\", \".bmp\", \".tiff\", \".tif\")\n",
    "    if text.endswith(image_extensions):\n",
    "        return True\n",
    "    else:\n",
    "        return False\n",
    "\n",
    "def encode_image(image_path):\n",
    "    \"\"\"Encode image file to base64.\"\"\"\n",
    "    with open(image_path, \"rb\") as image_file:\n",
    "        return base64.b64encode(image_file.read()).decode(\"utf-8\")\n",
    "def decode_image(base64_image,image_path):\n",
    "    image_data = base64.b64decode(base64_image)\n",
    "    with open(image_path, \"wb\") as image_file:\n",
    "        image_file.write(image_data)"
   ]
  },
  {
   "cell_type": "code",
   "execution_count": 3,
   "id": "89e3caf9-50b2-497a-901d-a008d423799f",
   "metadata": {},
   "outputs": [],
   "source": [
    "def covert_base64(image):\n",
    "    buffered = io.BytesIO()\n",
    "    image.save(buffered, format=\"PNG\") \n",
    "    img_base64 = base64.b64encode(buffered.getvalue()).decode(\"utf-8\")\n",
    "    return img_base64"
   ]
  },
  {
   "cell_type": "code",
   "execution_count": 5,
   "id": "893aab88-a178-446e-a357-c15e7920ad42",
   "metadata": {},
   "outputs": [],
   "source": [
    "def image_mark(img_base64):\n",
    "    url = 'http://127.0.0.1:6688/parse/'\n",
    "    files={\"base64_image\":img_base64}\n",
    "    response = requests.post(url, json=files)\n",
    "    output=response.json()\n",
    "    return output"
   ]
  },
  {
   "cell_type": "code",
   "execution_count": 6,
   "id": "54f95f32-d6ff-4bac-9f51-e1d8ed1d889e",
   "metadata": {},
   "outputs": [],
   "source": [
    "image=encode_image('/home/hao/Desktop/Screenshot.png')"
   ]
  },
  {
   "cell_type": "code",
   "execution_count": 60,
   "id": "1314f2fa-092f-4e02-85f0-bc7899f2e449",
   "metadata": {},
   "outputs": [],
   "source": [
    "image1=encode_image('/home/hao/Desktop/Screenshot_save.png')"
   ]
  },
  {
   "cell_type": "code",
   "execution_count": 71,
   "id": "235ed1f4-4ae9-48e0-84d2-2f27c48e06b6",
   "metadata": {},
   "outputs": [],
   "source": [
    "image2=encode_image('/home/hao/Desktop/Screenshot_savewarn.png')"
   ]
  },
  {
   "cell_type": "code",
   "execution_count": 33,
   "id": "635f1b25-ea05-4cf2-9daf-2fd0790e9f4c",
   "metadata": {},
   "outputs": [],
   "source": [
    "# output=image_mark(covert_base64(im1))"
   ]
  },
  {
   "cell_type": "code",
   "execution_count": 19,
   "id": "580aeb77-21d9-4fff-92e0-7025d0272574",
   "metadata": {},
   "outputs": [],
   "source": [
    "decode_image(output['som_image_base64'],'/home/hao/Desktop/mark1.png')"
   ]
  },
  {
   "cell_type": "code",
   "execution_count": 9,
   "id": "c81307ae-1622-4c64-b439-d73ad25413e5",
   "metadata": {},
   "outputs": [],
   "source": [
    "output=image_mark(image)"
   ]
  },
  {
   "cell_type": "code",
   "execution_count": 61,
   "id": "50834be3-4e46-430c-9b28-4fd8895a928c",
   "metadata": {},
   "outputs": [],
   "source": [
    "output1=image_mark(image1)"
   ]
  },
  {
   "cell_type": "code",
   "execution_count": 72,
   "id": "72e4c67b-9d5d-43d8-8e0f-d5f2c70feb97",
   "metadata": {},
   "outputs": [],
   "source": [
    "output2=image_mark(image2)"
   ]
  },
  {
   "cell_type": "code",
   "execution_count": 63,
   "id": "aa697466-b033-4dba-9eec-93bbdc0cf408",
   "metadata": {},
   "outputs": [],
   "source": [
    "decode_image(output1['som_image_base64'],'/home/hao/Desktop/Screenshot_mark1.png')"
   ]
  },
  {
   "cell_type": "code",
   "execution_count": 73,
   "id": "e701b54d-d260-4afc-9eff-68d3ca895b36",
   "metadata": {},
   "outputs": [],
   "source": [
    "decode_image(output2['som_image_base64'],'/home/hao/Desktop/Screenshot_mark2.png')"
   ]
  },
  {
   "cell_type": "code",
   "execution_count": 15,
   "id": "0a121163-332f-4418-8f6f-31ccb0c792a6",
   "metadata": {},
   "outputs": [],
   "source": [
    "def convert_bbox_to_mouse_coords(bbox_list):\n",
    "    \"\"\"\n",
    "    Convert a list of dictionaries containing bbox coordinates to mouse coordinates.\n",
    "    \n",
    "    Args:\n",
    "        bbox_list (list): List of dictionaries with bbox coordinates in format\n",
    "                          [x_min, y_min, x_max, y_max] as normalized values (0-1)\n",
    "    \n",
    "    Returns:\n",
    "        list: List of dictionaries with the original data plus added mouse coordinates\n",
    "    \"\"\"\n",
    "    # Get screen resolution\n",
    "    screen_width, screen_height = pyautogui.size()\n",
    "    \n",
    "    # Process each item in the list\n",
    "    result = []\n",
    "    for item in bbox_list:\n",
    "        if 'bbox' in item:\n",
    "            # Extract bbox coordinates\n",
    "            x_min, y_min, x_max, y_max = item['bbox']\n",
    "            \n",
    "            # Convert normalized coordinates to pixel values\n",
    "            pixel_x_min = int(x_min * screen_width)\n",
    "            pixel_y_min = int(y_min * screen_height)\n",
    "            pixel_x_max = int(x_max * screen_width)\n",
    "            pixel_y_max = int(y_max * screen_height)\n",
    "            \n",
    "            # Calculate center point for mouse coordinates\n",
    "            current_mouse_x = (pixel_x_min + pixel_x_max) // 2\n",
    "            current_mouse_y = (pixel_y_min + pixel_y_max) // 2\n",
    "            \n",
    "            # Add mouse coordinates to the item\n",
    "            item_with_coords = item.copy()\n",
    "            item_with_coords['currentMouseX'] = current_mouse_x\n",
    "            item_with_coords['currentMouseY'] = current_mouse_y\n",
    "            \n",
    "            result.append(item_with_coords)\n",
    "        else:\n",
    "            # If item doesn't have bbox, just add it unchanged\n",
    "            result.append(item)\n",
    "    [key.pop(i) for key in result for i in ['bbox','source'] ]\n",
    "    \n",
    "    # df=pd.DataFrame(result)[['type','interactivity','content','currentMouseX','currentMouseY']]\n",
    "    return result"
   ]
  },
  {
   "cell_type": "code",
   "execution_count": 16,
   "id": "a3609701-7567-4e3a-bb4e-347c989e54d8",
   "metadata": {},
   "outputs": [],
   "source": [
    "result=convert_bbox_to_mouse_coords(output['parsed_content_list'])"
   ]
  },
  {
   "cell_type": "code",
   "execution_count": 64,
   "id": "08a14a69-15ba-48e8-bff7-868a28968a6f",
   "metadata": {},
   "outputs": [],
   "source": [
    "result1=convert_bbox_to_mouse_coords(output1['parsed_content_list'])"
   ]
  },
  {
   "cell_type": "code",
   "execution_count": 74,
   "id": "cbb2d314-583e-4c72-9783-46d7f5d2e405",
   "metadata": {},
   "outputs": [],
   "source": [
    "result2=convert_bbox_to_mouse_coords(output2['parsed_content_list'])"
   ]
  },
  {
   "cell_type": "code",
   "execution_count": 75,
   "id": "7c10f104-dcb7-43d1-a869-ebe386899777",
   "metadata": {},
   "outputs": [
    {
     "data": {
      "text/plain": [
       "{'type': 'icon',\n",
       " 'interactivity': True,\n",
       " 'content': 'Save ',\n",
       " 'currentMouseX': 1205,\n",
       " 'currentMouseY': 603}"
      ]
     },
     "execution_count": 75,
     "metadata": {},
     "output_type": "execute_result"
    }
   ],
   "source": [
    "result2[36]"
   ]
  },
  {
   "cell_type": "code",
   "execution_count": 67,
   "id": "fb460780-ef4a-434d-a975-6dd3eb578c9e",
   "metadata": {},
   "outputs": [
    {
     "data": {
      "text/plain": [
       "{'type': 'icon',\n",
       " 'interactivity': True,\n",
       " 'content': 'Save ',\n",
       " 'currentMouseX': 1551,\n",
       " 'currentMouseY': 100}"
      ]
     },
     "execution_count": 67,
     "metadata": {},
     "output_type": "execute_result"
    }
   ],
   "source": [
    "result1[28]"
   ]
  },
  {
   "cell_type": "code",
   "execution_count": 21,
   "id": "1b70111b-9451-4cd4-96f8-50a65623a56f",
   "metadata": {},
   "outputs": [
    {
     "data": {
      "text/plain": [
       "[{'type': 'text',\n",
       "  'interactivity': False,\n",
       "  'content': 'Activities',\n",
       "  'currentMouseX': 49,\n",
       "  'currentMouseY': 14},\n",
       " {'type': 'text',\n",
       "  'interactivity': False,\n",
       "  'content': '3A68',\n",
       "  'currentMouseX': 972,\n",
       "  'currentMouseY': 14},\n",
       " {'type': 'text',\n",
       "  'interactivity': False,\n",
       "  'content': '14.24',\n",
       "  'currentMouseX': 1023,\n",
       "  'currentMouseY': 16},\n",
       " {'type': 'text',\n",
       "  'interactivity': False,\n",
       "  'content': '0 % 0',\n",
       "  'currentMouseX': 1867,\n",
       "  'currentMouseY': 12},\n",
       " {'type': 'text',\n",
       "  'interactivity': False,\n",
       "  'content': 'mark  png',\n",
       "  'currentMouseX': 1853,\n",
       "  'currentMouseY': 579},\n",
       " {'type': 'text',\n",
       "  'interactivity': False,\n",
       "  'content': 'ecord txt',\n",
       "  'currentMouseX': 1857,\n",
       "  'currentMouseY': 812},\n",
       " {'type': 'icon',\n",
       "  'interactivity': True,\n",
       "  'content': 'Home ',\n",
       "  'currentMouseX': 1853,\n",
       "  'currentMouseY': 1020},\n",
       " {'type': 'icon',\n",
       "  'interactivity': True,\n",
       "  'content': 'clashyaml ',\n",
       "  'currentMouseX': 1848,\n",
       "  'currentMouseY': 677},\n",
       " {'type': 'icon',\n",
       "  'interactivity': True,\n",
       "  'content': 'command ',\n",
       "  'currentMouseX': 1852,\n",
       "  'currentMouseY': 906},\n",
       " {'type': 'icon',\n",
       "  'interactivity': True,\n",
       "  'content': 'Google Chrome web browser',\n",
       "  'currentMouseX': 35,\n",
       "  'currentMouseY': 546},\n",
       " {'type': 'icon',\n",
       "  'interactivity': True,\n",
       "  'content': 'Apple',\n",
       "  'currentMouseX': 34,\n",
       "  'currentMouseY': 404},\n",
       " {'type': 'icon',\n",
       "  'interactivity': True,\n",
       "  'content': 'Forms',\n",
       "  'currentMouseX': 34,\n",
       "  'currentMouseY': 336},\n",
       " {'type': 'icon',\n",
       "  'interactivity': True,\n",
       "  'content': 'File Manager',\n",
       "  'currentMouseX': 35,\n",
       "  'currentMouseY': 200},\n",
       " {'type': 'icon',\n",
       "  'interactivity': True,\n",
       "  'content': 'Target',\n",
       "  'currentMouseX': 33,\n",
       "  'currentMouseY': 269},\n",
       " {'type': 'icon',\n",
       "  'interactivity': True,\n",
       "  'content': 'Weather VPN',\n",
       "  'currentMouseX': 34,\n",
       "  'currentMouseY': 133},\n",
       " {'type': 'icon',\n",
       "  'interactivity': True,\n",
       "  'content': 'Help',\n",
       "  'currentMouseX': 35,\n",
       "  'currentMouseY': 475},\n",
       " {'type': 'icon',\n",
       "  'interactivity': True,\n",
       "  'content': 'Firefox',\n",
       "  'currentMouseX': 35,\n",
       "  'currentMouseY': 63},\n",
       " {'type': 'icon',\n",
       "  'interactivity': True,\n",
       "  'content': 'Toggle Terminal',\n",
       "  'currentMouseX': 35,\n",
       "  'currentMouseY': 612},\n",
       " {'type': 'icon',\n",
       "  'interactivity': True,\n",
       "  'content': 'Organization',\n",
       "  'currentMouseX': 1837,\n",
       "  'currentMouseY': 14},\n",
       " {'type': 'icon',\n",
       "  'interactivity': True,\n",
       "  'content': 'Keyboard',\n",
       "  'currentMouseX': 1753,\n",
       "  'currentMouseY': 14},\n",
       " {'type': 'icon',\n",
       "  'interactivity': True,\n",
       "  'content': 'Power',\n",
       "  'currentMouseX': 1894,\n",
       "  'currentMouseY': 14},\n",
       " {'type': 'icon',\n",
       "  'interactivity': True,\n",
       "  'content': 'Norton VPN',\n",
       "  'currentMouseX': 1794,\n",
       "  'currentMouseY': 15},\n",
       " {'type': 'icon',\n",
       "  'interactivity': True,\n",
       "  'content': 'Uncomm&ent',\n",
       "  'currentMouseX': 1866,\n",
       "  'currentMouseY': 14},\n",
       " {'type': 'icon',\n",
       "  'interactivity': True,\n",
       "  'content': 'Recycle Bin',\n",
       "  'currentMouseX': 38,\n",
       "  'currentMouseY': 684},\n",
       " {'type': 'icon',\n",
       "  'interactivity': True,\n",
       "  'content': 'Notepad',\n",
       "  'currentMouseX': 1852,\n",
       "  'currentMouseY': 767},\n",
       " {'type': 'icon',\n",
       "  'interactivity': True,\n",
       "  'content': 'App launcher',\n",
       "  'currentMouseX': 35,\n",
       "  'currentMouseY': 1039},\n",
       " {'type': 'icon',\n",
       "  'interactivity': True,\n",
       "  'content': 'a battery level indicator.',\n",
       "  'currentMouseX': 1914,\n",
       "  'currentMouseY': 14},\n",
       " {'type': 'icon',\n",
       "  'interactivity': True,\n",
       "  'content': 'A cloudy weather or weather-related feature.',\n",
       "  'currentMouseX': 983,\n",
       "  'currentMouseY': 705}]"
      ]
     },
     "execution_count": 21,
     "metadata": {},
     "output_type": "execute_result"
    }
   ],
   "source": [
    "result"
   ]
  },
  {
   "cell_type": "code",
   "execution_count": 38,
   "id": "a67df859-8415-4d13-a013-5de0c0dd8008",
   "metadata": {},
   "outputs": [],
   "source": [
    "df=convert_bbox_to_mouse_coords(output['parsed_content_list'])"
   ]
  },
  {
   "cell_type": "code",
   "execution_count": 60,
   "id": "37d6ae2b-645f-4bf3-8f4d-1915b1ea3b04",
   "metadata": {},
   "outputs": [],
   "source": [
    "# pyautogui.typewrite('Hello,word')"
   ]
  },
  {
   "cell_type": "code",
   "execution_count": 36,
   "id": "880fc9d7-f097-4afe-ae86-6016fab687b7",
   "metadata": {},
   "outputs": [],
   "source": [
    "import pandas as pd"
   ]
  },
  {
   "cell_type": "code",
   "execution_count": 9,
   "id": "982a00c5-c271-43ee-b156-077d5b72d5fb",
   "metadata": {},
   "outputs": [],
   "source": [
    "import time"
   ]
  },
  {
   "cell_type": "code",
   "execution_count": 65,
   "id": "149ee69b-0503-4180-8652-0f9a0a5e7ad7",
   "metadata": {},
   "outputs": [],
   "source": [
    "pyautogui.moveTo(34,404)"
   ]
  },
  {
   "cell_type": "code",
   "execution_count": 64,
   "id": "6d85244b-ff3e-47ed-a5cf-847af8c89493",
   "metadata": {},
   "outputs": [
    {
     "data": {
      "text/plain": [
       "'OK'"
      ]
     },
     "execution_count": 64,
     "metadata": {},
     "output_type": "execute_result"
    }
   ],
   "source": [
    "pyautogui.alert('This is an alert box.')"
   ]
  },
  {
   "cell_type": "code",
   "execution_count": 6,
   "id": "bad38d51-264d-4c67-be94-d78777e5b005",
   "metadata": {},
   "outputs": [],
   "source": [
    "def paste_chinese(text):\n",
    "    pyperclip.copy(text)  # 复制文本到剪贴板\n",
    "    time.sleep(0.1)\n",
    "    for i in '\\t\\t\\t\\t':\n",
    "        pyautogui.press(i, interval=0.25)\n",
    "    pyautogui.hotkey('ctrl', 'v')"
   ]
  },
  {
   "cell_type": "code",
   "execution_count": 7,
   "id": "cbc5e68f-3067-4201-ab3f-7aaea35261ac",
   "metadata": {},
   "outputs": [],
   "source": [
    "import pyperclip"
   ]
  },
  {
   "cell_type": "code",
   "execution_count": null,
   "id": "38235ad1-3a5b-4e8b-8fd8-56139595a411",
   "metadata": {},
   "outputs": [],
   "source": [
    "#open the Forms "
   ]
  },
  {
   "cell_type": "code",
   "execution_count": 56,
   "id": "0be7c80f-276a-4fbf-a39a-897f6f408d8b",
   "metadata": {},
   "outputs": [],
   "source": [
    "input_text='''\n",
    "The Model Context Protocol allows applications to provide context for LLMs in a standardized way, separating the concerns of providing context from the actual LLM interaction. This Python SDK implements the full MCP specification, making it easy to:\n",
    "\n",
    "Build MCP clients that can connect to any MCP server\n",
    "Create MCP servers that expose resources, prompts and tools\n",
    "Use standard transports like stdio and SSE\n",
    "Handle all MCP protocol messages and lifecycle events\n",
    "'''"
   ]
  },
  {
   "cell_type": "code",
   "execution_count": 79,
   "id": "74198de4-f948-4018-aa3f-d07b10cdaadc",
   "metadata": {},
   "outputs": [],
   "source": [
    "# pyautogui.moveTo(38,684, duration=2, tween=pyautogui.easeInOutQuad)\n",
    "pyautogui.moveTo(34,336, duration=1, tween=pyautogui.easeInOutQuad)\n",
    "pyautogui.click(34, 336)\n",
    "time.sleep(2)\n",
    "# for i in ['\\t','\\t','\\t','\\t']:\n",
    "#     pyautogui.press(i)\n",
    "# pyautogui.typewrite(['Hello,word'])\n",
    "# pyautogui.write('Hello world!') \n",
    "# pyautogui.keyDown('shift')\n",
    "# # pyautogui.keyUp('shift')\n",
    "# pyautogui.hotkey('ctrl','home')\n",
    "# pyautogui.press('shift')\n",
    "# for i in '\\t\\t\\t\\tWelcome to freedom World,HaHaHa!':\n",
    "#     pyautogui.press(i, interval=0.25) \n",
    "for i in input_text:\n",
    "    if i =='\\n':\n",
    "        pyautogui.press('enter', interval=0.02)\n",
    "    else:\n",
    "        pyautogui.press(i, interval=0.02)\n",
    "pyautogui.press('enter')\n",
    "\n",
    "# paste_chinese('你好世界') \n",
    "pyautogui.hotkey('ctrl', 'q')\n",
    "pyautogui.moveTo(1205,603, duration=1, tween=pyautogui.easeInOutQuad)\n",
    "pyautogui.click(1205, 603)\n",
    "time.sleep(1)\n",
    "# pyautogui.press('enter')\n",
    "# time.sleep(1)\n",
    "for i in 'mcp_server':\n",
    "     pyautogui.press(i, interval=0.02)\n",
    "pyautogui.moveTo(1551,100, duration=1, tween=pyautogui.easeInOutQuad)\n",
    "pyautogui.click(1551, 100)\n",
    "# pyautogui.press(\"left\")\n",
    "# time.sleep(1)\n",
    "# pyautogui.press(\"left\")\n",
    "# time.sleep(1)\n",
    "# pyautogui.press(\"enter\")"
   ]
  },
  {
   "cell_type": "code",
   "execution_count": 34,
   "id": "9b003962-dc75-479e-9e79-38acf09fcc9d",
   "metadata": {},
   "outputs": [],
   "source": [
    "import time"
   ]
  },
  {
   "cell_type": "code",
   "execution_count": 49,
   "id": "a1bf7fc2-b6ec-4fb8-b3f2-dfee40ca8688",
   "metadata": {},
   "outputs": [],
   "source": [
    "pyautogui.hotkey('win','d')\n",
    "pyautogui.hotkey('Ctrl','Alt','t')\n",
    "time.sleep(1)\n",
    "pyautogui.press(\"enter\")\n",
    "# pyautogui.hotkey(\"enter\")\n",
    "for i in 'source /oper/ch/autogen/.venv/bin/activate':\n",
    "    pyautogui.press(i,interval=0.05)\n",
    "# pyautogui.write(['echo Hello,word'])\n",
    "time.sleep(1)\n",
    "pyautogui.press(\"enter\")\n",
    "time.sleep(1)\n",
    "pyautogui.hotkey('Ctrl','d')"
   ]
  },
  {
   "cell_type": "code",
   "execution_count": 72,
   "id": "2ad40b30-4705-44ae-a789-a6b9e821dda9",
   "metadata": {},
   "outputs": [],
   "source": [
    "请帮忙构建多agent交互系统，该系统需包含以下基本功能。\n",
    "一、任务规划agent:\n",
    "你的工作是将复杂的任务分解为更小、更易于管理的子任务，确保每个子任务能够获得执行。\n",
    "当你无法一开始知道完成任务的所有步骤和细节，你应该探索下一步的执行步骤和完成此步骤需要的条件和对象。\n",
    "当你收集好执行每一个步骤所需的信息后，你应当分配任务给其他代理去执行。\n",
    "你能够根据其他代理的执行结果反馈，动态的修改自己的执行步骤或改变任务执行方案。\n",
    "你的团队的成员包含：\n",
    "信息处理agent:负责提供正确和完成的上下文输出。\n",
    "任务执行agent:负责代码生成和代码执行。\n",
    "你只计划和委派任务，并不亲自执行。\n",
    "分配任务时，请使用以下格式：\n",
    "1. <agent> : <task>\n",
    "所有任务完成后，总结结果并以“TERMINATE”结束。\n",
    "二、信息处理agent:\n",
    "你的工作是负责agent信息的管理，能够为其他agent执行任务提供必要的充分的上下文。\n",
    "你能够通过调用工具获取外部信息，也能够通过读取对话历史信息获取必要的上下文。\n",
    "你使用的工具包含：\n",
    "get_screen_info:获取屏幕图标输出。\n",
    "get_screen_shot:获取屏幕截屏。\n",
    "browser_info:通过浏览器获取互联网信息。\n",
    "retrival_from_vector:通过知识库获取内部专业信息。\n",
    "三、任务执行agent:\n",
    "你的工作是负责任务执行，你通过任务理解，在执行任务的过程中灵活的扮演不同的专家完成不同的任务。\n",
    "当你扮演代码专家时：\n",
    "你能够编写正确的代码，运行代码完成任务。\n",
    "你能够编写bash shell完成shell脚本任务。\n",
    "你能够编写python脚本完成任务。\n",
    "你使用pyautogui编写脚本完成鼠标和键盘操作。\n",
    "当你扮演其他专家是：\n",
    "你是一个多才多艺的聊天助手。"
   ]
  },
  {
   "cell_type": "code",
   "execution_count": null,
   "id": "855cb3ad-0f8f-4852-a8d1-dc587376b0b4",
   "metadata": {},
   "outputs": [],
   "source": [
    "# PyAutoGUI 自动化操作综合提示词模板\n",
    "\n",
    "## 工作流程核心指导\n",
    "\n",
    "### 任务处理标准步骤\n",
    "1. 任务语义理解\n",
    "2. 屏幕信息分析\n",
    "3. 动作精确分解\n",
    "4. 操作指令生成\n",
    "5. PyAutoGUI代码实现\n",
    "\n",
    "## 操作方法论\n",
    "\n",
    "### 快捷键优先原则\n",
    "- 返回桌面：`pyautogui.hotkey('win', 'd')`\n",
    "- 打开终端：`pyautogui.hotkey('ctrl', 'alt', 't')`\n",
    "- 关闭终端：`pyautogui.hotkey('ctrl', 'd')`\n",
    "- 关闭文件：`pyautogui.hotkey('ctrl', 'q')`\n",
    "- 全选：`pyautogui.hotkey('ctrl', 'a')`\n",
    "- 复制：`pyautogui.hotkey('ctrl', 'c')`\n",
    "- 粘贴：`pyautogui.hotkey('ctrl', 'v')`\n",
    "\n",
    "## 详细任务分解流程\n",
    "\n",
    "### 任务语义理解\n",
    "- 精确解读操作指令\n",
    "- 准确把握指令最终目标\n",
    "- 识别关键操作意图\n",
    "\n",
    "### 屏幕信息分析\n",
    "- 逐一检查屏幕元素信息\n",
    "- 根据关键词精确匹配目标\n",
    "- 提取目标对象具体坐标\n",
    "\n",
    "### 动作精确分解\n",
    "- 将复杂任务拆解为最小执行单元\n",
    "- 明确每个步骤具体操作方式\n",
    "- 确定交互路径（快捷键/点击/输入）\n",
    "\n",
    "### 操作指令生成策略\n",
    "- 优先使用系统快捷键\n",
    "- 选择最直接高效交互方式\n",
    "- 生成清晰、可执行的操作流程\n",
    "\n",
    "### PyAutoGUI代码实现\n",
    "- 导入必要库：\n",
    "  ```python\n",
    "  import pyautogui\n",
    "  import pyperclip\n",
    "  import time\n",
    "  ```\n",
    "- 使用最简洁代码实现\n",
    "- 确保与任务分解步骤一致\n",
    "\n",
    "## 输入方法最佳实践\n",
    "\n",
    "### 英文输入\n",
    "```python\n",
    "# 推荐方式：逐字符输入\n",
    "text = 'Welcome to freedom World,HaHaHa!'\n",
    "for char in text:\n",
    "    pyautogui.press(char, interval=0.25)\n",
    "```\n",
    "\n",
    "### 中文输入处理或者特殊字符处理\n",
    "```python\n",
    "# 使用剪贴板复制\n",
    "text = \"你好，世界！\"\n",
    "pyperclip.copy(text)\n",
    "pyautogui.hotkey('ctrl', 'v')\n",
    "```\n",
    "\n",
    "## 操作示例：打开谷歌浏览器\n",
    "\n",
    "### 任务分解\n",
    "1. 在屏幕信息中定位Chrome图标\n",
    "2. 识别坐标：(35, 546)\n",
    "3. 执行点击操作\n",
    "\n",
    "### 代码实现\n",
    "```python\n",
    "import pyautogui\n",
    "pyautogui.click(35, 546)\n",
    "```\n",
    "\n",
    "## 关键操作原则\n",
    "- 优先使用键盘快捷键\n",
    "- 精确分析任务流程\n",
    "- 最小化代码实现\n",
    "- 严格对应屏幕信息\n",
    "- 保证操作的系统兼容性\n",
    "\n",
    "## 高级实践技巧\n",
    "\n",
    "## 重要注意事项\n",
    "- 添加适当延迟确保操作稳定\n",
    "- 处理可能的系统延迟\n",
    "- 预留异常处理机制\n",
    "- 考虑不同系统的兼容性\n",
    "\n",
    "## 推荐库\n",
    "- `pyautogui`：系统交互\n",
    "- `pyperclip`：剪贴板操作\n",
    "- `time`：延迟控制\n",
    "\n",
    "## 环境准备\n",
    "```bash\n",
    "pip install pyautogui pyperclip\n",
    "```\n",
    "\n",
    "## 禁止使用方法\n",
    "- 避免 `pyautogui.typewrite()`\n",
    "- 避免 `pyautogui.write()`\n",
    "- 不推荐直接使用打字方法\n",
    "\n",
    "## 调试建议\n",
    "- 使用 `time.sleep()` 控制操作节奏\n",
    "- 添加异常捕获机制\n",
    "- 逐步验证每个步骤的正确性"
   ]
  },
  {
   "cell_type": "code",
   "execution_count": null,
   "id": "26b0e047-732b-4c4d-90fe-da78eb15866d",
   "metadata": {},
   "outputs": [],
   "source": [
    "# Global LLM configuration\n",
    "[llm]\n",
    "model = \"qwq:latest\"\n",
    "base_url = \"http://localhost:11434/v1/\"\n",
    "api_key = \"ollama\"  # Replace with your actual API key\n",
    "max_tokens = 4096\n",
    "temperature = 0.0\n",
    "\n",
    "# Optional configuration for specific LLM models\n",
    "[llm.vision]\n",
    "model = \"minicpm-v:8b-2.6-q8_0\"\n",
    "base_url = \"http://localhost:11434/v1/\"\n",
    "api_key = \"ollama\"  # Replace with your actual API key"
   ]
  }
 ],
 "metadata": {
  "kernelspec": {
   "display_name": "Python 3 (ipykernel)",
   "language": "python",
   "name": "python3"
  },
  "language_info": {
   "codemirror_mode": {
    "name": "ipython",
    "version": 3
   },
   "file_extension": ".py",
   "mimetype": "text/x-python",
   "name": "python",
   "nbconvert_exporter": "python",
   "pygments_lexer": "ipython3",
   "version": "3.10.12"
  }
 },
 "nbformat": 4,
 "nbformat_minor": 5
}
