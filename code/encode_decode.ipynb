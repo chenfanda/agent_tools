{
 "cells": [
  {
   "cell_type": "code",
   "execution_count": 1,
   "id": "686e17da",
   "metadata": {},
   "outputs": [],
   "source": [
    "from transformers import EncoderDecoderModel"
   ]
  },
  {
   "cell_type": "code",
   "execution_count": 1,
   "id": "3b8fedd7",
   "metadata": {},
   "outputs": [],
   "source": [
    "from transformers import BertGenerationDecoder"
   ]
  },
  {
   "cell_type": "code",
   "execution_count": 1,
   "id": "c7b96fb0",
   "metadata": {},
   "outputs": [],
   "source": [
    "from transformers import MT5Model, MT5TokenizerFast,MT5EncoderModel,MT5Tokenizer"
   ]
  },
  {
   "cell_type": "code",
   "execution_count": 14,
   "id": "16dc4d77",
   "metadata": {},
   "outputs": [],
   "source": [
    "# model = MT5EncoderModel.from_pretrained(\"/oper/ch/_tools/mt5/\")"
   ]
  },
  {
   "cell_type": "code",
   "execution_count": 3,
   "id": "70bd008b",
   "metadata": {},
   "outputs": [],
   "source": [
    "tokenizer = MT5Tokenizer.from_pretrained(\"google/mt5-base\")"
   ]
  },
  {
   "cell_type": "code",
   "execution_count": 4,
   "id": "29a68730",
   "metadata": {},
   "outputs": [
    {
     "name": "stderr",
     "output_type": "stream",
     "text": [
      "Some weights of the model checkpoint at google/mt5-base were not used when initializing MT5Model: ['lm_head.weight']\n",
      "- This IS expected if you are initializing MT5Model from the checkpoint of a model trained on another task or with another architecture (e.g. initializing a BertForSequenceClassification model from a BertForPreTraining model).\n",
      "- This IS NOT expected if you are initializing MT5Model from the checkpoint of a model that you expect to be exactly identical (initializing a BertForSequenceClassification model from a BertForSequenceClassification model).\n"
     ]
    }
   ],
   "source": [
    "model = MT5Model.from_pretrained(\"google/mt5-base\")"
   ]
  },
  {
   "cell_type": "code",
   "execution_count": 16,
   "id": "48c76fe8",
   "metadata": {},
   "outputs": [],
   "source": [
    "model.save_pretrained('/oper/ch/_tools/mt5-base/')"
   ]
  },
  {
   "cell_type": "code",
   "execution_count": 5,
   "id": "632267a2",
   "metadata": {},
   "outputs": [
    {
     "data": {
      "text/plain": [
       "('/oper/ch/_tools/mt5-base/tokenizer_config.json',\n",
       " '/oper/ch/_tools/mt5-base/special_tokens_map.json',\n",
       " '/oper/ch/_tools/mt5-base/spiece.model',\n",
       " '/oper/ch/_tools/mt5-base/added_tokens.json')"
      ]
     },
     "execution_count": 5,
     "metadata": {},
     "output_type": "execute_result"
    }
   ],
   "source": [
    "tokenizer.save_pretrained('/oper/ch/_tools/mt5-base/')"
   ]
  },
  {
   "cell_type": "code",
   "execution_count": 8,
   "id": "ef25ac0e",
   "metadata": {},
   "outputs": [],
   "source": [
    "from transformers import BertForSequenceClassification"
   ]
  },
  {
   "cell_type": "code",
   "execution_count": 14,
   "id": "779985b7",
   "metadata": {},
   "outputs": [],
   "source": [
    "import torch"
   ]
  },
  {
   "cell_type": "code",
   "execution_count": 35,
   "id": "6459ef4a",
   "metadata": {},
   "outputs": [],
   "source": [
    "BertForSequenceClassification??"
   ]
  },
  {
   "cell_type": "code",
   "execution_count": 19,
   "id": "5ec7c38a",
   "metadata": {},
   "outputs": [],
   "source": [
    "target = torch.ones([10, 64],) \n",
    "output = torch.full([10, 64], 1.5) "
   ]
  },
  {
   "cell_type": "code",
   "execution_count": 20,
   "id": "1a4f1bd3",
   "metadata": {},
   "outputs": [],
   "source": [
    "criterion = torch.nn.BCEWithLogitsLoss(pos_weight=pos_weight)"
   ]
  },
  {
   "cell_type": "code",
   "execution_count": 17,
   "id": "736e41a7",
   "metadata": {},
   "outputs": [],
   "source": [
    "pos_weight = torch.ones([64])"
   ]
  },
  {
   "cell_type": "code",
   "execution_count": 25,
   "id": "338b907f",
   "metadata": {},
   "outputs": [],
   "source": [
    "loss_fct = nn.BCEWithLogitsLoss()"
   ]
  },
  {
   "cell_type": "code",
   "execution_count": 47,
   "id": "943c2d4a",
   "metadata": {},
   "outputs": [
    {
     "data": {
      "text/plain": [
       "[1, 1, 0, 0, 0, 0, 0, 0, 1, 0, 0, 0, 0, 0, 0, 0, 0]"
      ]
     },
     "execution_count": 47,
     "metadata": {},
     "output_type": "execute_result"
    }
   ],
   "source": [
    "torch.nn.functional.one_hot(torch.tensor([0,1,8]),17).sum(axis=0).tolist()"
   ]
  },
  {
   "cell_type": "code",
   "execution_count": 53,
   "id": "af4e4f47",
   "metadata": {},
   "outputs": [
    {
     "name": "stdout",
     "output_type": "stream",
     "text": [
      "              precision    recall  f1-score   support\n",
      "\n",
      "           A       1.00      1.00      1.00         2\n",
      "           B       1.00      1.00      1.00         2\n",
      "           C       0.50      0.50      0.50         2\n",
      "\n",
      "   micro avg       0.83      0.83      0.83         6\n",
      "   macro avg       0.83      0.83      0.83         6\n",
      "weighted avg       0.83      0.83      0.83         6\n",
      " samples avg       0.83      0.83      0.78         6\n",
      "\n"
     ]
    }
   ],
   "source": [
    "from sklearn.metrics import classification_report\n",
    "import numpy as np\n",
    "\n",
    "labels =['A', 'B', 'C']\n",
    "\n",
    "y_true = np.array([[1, 0, 1],\n",
    "                   [0, 1, 0],\n",
    "                   [1, 1, 1]])\n",
    "y_pred = np.array([[1, 0, 0],\n",
    "                   [0, 1, 1],\n",
    "                   [1, 1, 1]])\n",
    "\n",
    "print(classification_report(y_true, y_pred, target_names=labels))"
   ]
  },
  {
   "cell_type": "code",
   "execution_count": 38,
   "id": "0c999f91",
   "metadata": {},
   "outputs": [
    {
     "data": {
      "text/plain": [
       "tensor([ 1.0262, -0.2544, -1.1700], requires_grad=True)"
      ]
     },
     "execution_count": 38,
     "metadata": {},
     "output_type": "execute_result"
    }
   ],
   "source": [
    "torch.randn(3, requires_grad=True)"
   ]
  },
  {
   "cell_type": "code",
   "execution_count": 48,
   "id": "91c74a59",
   "metadata": {},
   "outputs": [],
   "source": [
    "import numpy as np"
   ]
  },
  {
   "cell_type": "code",
   "execution_count": 60,
   "id": "7c79952c",
   "metadata": {},
   "outputs": [],
   "source": [
    "from transformers import GPT2ForSequenceClassification,GPT2ForTokenClassification"
   ]
  },
  {
   "cell_type": "code",
   "execution_count": 63,
   "id": "bd1cfe00",
   "metadata": {},
   "outputs": [],
   "source": [
    "from transformers import GPT2Model,GPT2TokenizerFast"
   ]
  },
  {
   "cell_type": "code",
   "execution_count": 78,
   "id": "f0b2f728",
   "metadata": {},
   "outputs": [],
   "source": [
    "# model=GPT2Model.from_pretrained('uer/gpt2-chinese-cluecorpussmall')"
   ]
  },
  {
   "cell_type": "code",
   "execution_count": 72,
   "id": "058883bc",
   "metadata": {},
   "outputs": [],
   "source": [
    "# tokenizer=GPT2Tokenizer.from_pretrained('uer/gpt2-chinese-cluecorpussmall')"
   ]
  },
  {
   "cell_type": "code",
   "execution_count": 76,
   "id": "fa9e41b8",
   "metadata": {},
   "outputs": [],
   "source": [
    "# model(inputs_embeds=torch.randn(2,10,768))"
   ]
  },
  {
   "cell_type": "code",
   "execution_count": 80,
   "id": "8a18bb17",
   "metadata": {},
   "outputs": [],
   "source": [
    "from transformers import MBart50Tokenizer,MBartModel"
   ]
  },
  {
   "cell_type": "code",
   "execution_count": 3,
   "id": "8feb0eeb",
   "metadata": {},
   "outputs": [],
   "source": [
    "from transformers import BertForTokenClassification,BertModel"
   ]
  },
  {
   "cell_type": "code",
   "execution_count": 6,
   "id": "7a308349",
   "metadata": {},
   "outputs": [],
   "source": [
    "BertForTokenClassification??"
   ]
  }
 ],
 "metadata": {
  "kernelspec": {
   "display_name": "Python 3 (ipykernel)",
   "language": "python",
   "name": "python3"
  },
  "language_info": {
   "codemirror_mode": {
    "name": "ipython",
    "version": 3
   },
   "file_extension": ".py",
   "mimetype": "text/x-python",
   "name": "python",
   "nbconvert_exporter": "python",
   "pygments_lexer": "ipython3",
   "version": "3.9.5"
  }
 },
 "nbformat": 4,
 "nbformat_minor": 5
}
