{
 "cells": [
  {
   "cell_type": "code",
   "execution_count": 1,
   "id": "2b7bccd8-c28a-4cc1-9af6-3f53aad880aa",
   "metadata": {},
   "outputs": [],
   "source": [
    "# import asyncio\n",
    "# from pathlib import Path\n",
    "# from autogen_ext.models.openai import OpenAIChatCompletionClient\n",
    "# from autogen_ext.tools.mcp import StdioServerParams, mcp_server_tools\n",
    "# from autogen_agentchat.agents import AssistantAgent\n",
    "# from autogen_core import CancellationToken\n",
    "# from autogen_ext.models.ollama import OllamaChatCompletionClient\n",
    "# from autogen_core.models import ModelInfo , UserMessage\n",
    "# import os "
   ]
  },
  {
   "cell_type": "code",
   "execution_count": 12,
   "id": "770aee63-5e57-48ea-a641-f464d8eb19fb",
   "metadata": {},
   "outputs": [],
   "source": [
    "# env_vars = os.environ"
   ]
  },
  {
   "cell_type": "code",
   "execution_count": 2,
   "id": "0844a3a6-1f39-493e-a848-b59b53306c42",
   "metadata": {},
   "outputs": [],
   "source": [
    "# model_client = OpenAIChatCompletionClient(\n",
    "#     model=\"qwen2.5:14b-instruct-q8_0\",\n",
    "#     base_url=\"http://localhost:11434/v1\",\n",
    "#     api_key=\"placeholder\",\n",
    "#     model_info={\n",
    "#         \"vision\": False,\n",
    "#         \"function_calling\": True,\n",
    "#         \"json_output\": False,\n",
    "#         \"family\": \"unknown\",\n",
    "#     },\n",
    "# )"
   ]
  },
  {
   "cell_type": "code",
   "execution_count": 30,
   "id": "95deaeab-0a85-40e3-8c35-adcaca39d5c8",
   "metadata": {},
   "outputs": [],
   "source": [
    "# model_client=OllamaChatCompletionClient(\n",
    "#     model=\"llama3.2:3b-instruct-fp16\",\n",
    "#     host=\"http://localhost:11434\",\n",
    "#     response_format=WriteFileArgs,\n",
    "#     model_info={\n",
    "#         \"vision\": False,\n",
    "#         \"function_calling\": True,\n",
    "#         \"json_output\": False,\n",
    "#         \"family\": \"unknown\",\n",
    "#     },\n",
    "#                           )"
   ]
  },
  {
   "cell_type": "code",
   "execution_count": 326,
   "id": "89a5d65e-7d2e-4e37-a62e-4eea87c0b700",
   "metadata": {},
   "outputs": [],
   "source": [
    "\n",
    "# # Setup server params for local filesystem access\n",
    "# desktop = str(Path.home() / \"Desktop\")\n",
    "\n",
    "# server_params = StdioServerParams(\n",
    "#     command=\"npx\", args=[\"-y\", \"@modelcontextprotocol/server-filesystem\", \"/oper/ch/code\"]\n",
    "# )\n",
    "\n",
    "# # Get all available tools from the server\n",
    "# tools = await mcp_server_tools(server_params)\n",
    "\n",
    "# # Create an agent that can use all the tools\n",
    "# agent = AssistantAgent(\n",
    "#     name=\"file_manager\",\n",
    "#     model_client=model_client,\n",
    "#     tools=tools,  # type: ignore\n",
    "#     reflect_on_tool_use=True\n",
    "# )\n",
    "\n",
    "# # The agent can now use any of the filesystem tools\n",
    "# await agent.run(task=\"读取test.txt文件，编辑文件删除第二行\", cancellation_token=CancellationToken())\n",
    "# # await model_client.create(messages=[UserMessage(source=\"user\", content=\"use write_file tool to Create a file called test.txt with some content\")], tools=tools)"
   ]
  },
  {
   "cell_type": "code",
   "execution_count": 9,
   "id": "b5cd6d38-874c-4034-b17c-19bfd69cc66a",
   "metadata": {},
   "outputs": [],
   "source": [
    "# asyncio.run(main())"
   ]
  },
  {
   "cell_type": "code",
   "execution_count": 3,
   "id": "2a9828fd-c07b-4f70-a6f9-b77a130b2314",
   "metadata": {},
   "outputs": [],
   "source": [
    "server_params = StdioServerParams(\n",
    "    command=\"npx\", args=[\"-y\", \"@modelcontextprotocol/server-filesystem\", \"/home/hao/Desktop\"]\n",
    ")"
   ]
  },
  {
   "cell_type": "code",
   "execution_count": 4,
   "id": "0ba6d664-0348-4d3f-abac-34ea9a5094d8",
   "metadata": {},
   "outputs": [],
   "source": [
    "tools = await mcp_server_tools(server_params)"
   ]
  },
  {
   "cell_type": "code",
   "execution_count": 10,
   "id": "7d7a690c-09c6-4abd-b576-075171da25fa",
   "metadata": {},
   "outputs": [],
   "source": [
    "from mcp import ClientSession, StdioServerParameters, types"
   ]
  },
  {
   "cell_type": "code",
   "execution_count": 3,
   "id": "e81d0dab-0d31-4f5b-a54a-6c7f46b9a750",
   "metadata": {},
   "outputs": [],
   "source": [
    "server_params = StdioServerParams(\n",
    "    command=\"mcp\", args=[ \"run\", \"/oper/ch/code/mcp_service.py\"]\n",
    ")"
   ]
  },
  {
   "cell_type": "code",
   "execution_count": 2,
   "id": "a3505d15-c0a8-4176-85e7-a15e51a68c39",
   "metadata": {},
   "outputs": [],
   "source": [
    "import os\n",
    "env_vars = os.environ\n",
    "env_vars[\"PLAYWRIGHT_WS_ENDPOINT\"]=\"ws://localhost:5544/\"\n",
    "server_params = StdioServerParams(\n",
    "    command=\"npx\", args=[ \"@playwright/mcp@latest\"],env=env_vars\n",
    ")"
   ]
  },
  {
   "cell_type": "code",
   "execution_count": 3,
   "id": "20c2b199-85b9-44f8-83b8-6fcb67c163e9",
   "metadata": {},
   "outputs": [],
   "source": [
    "tools = await mcp_server_tools(server_params)"
   ]
  },
  {
   "cell_type": "code",
   "execution_count": 327,
   "id": "083095f6-4708-42b5-a891-89099d04ea73",
   "metadata": {},
   "outputs": [],
   "source": [
    "# for tool in tools:\n",
    "#     # print(tool.name)\n",
    "#     print(f\"Tool Name: {tool.name}, Description: {tool.description}\")"
   ]
  },
  {
   "cell_type": "code",
   "execution_count": 43,
   "id": "c24ad41e-fe6e-478a-aa25-272a3ab3c4a6",
   "metadata": {},
   "outputs": [],
   "source": [
    "# for tool in tools:\n",
    "#     if tool.name == \"write_file\":\n",
    "#         print(f\"Parameters for {tool.name}: {tool.schema}\")\n",
    "#         break"
   ]
  },
  {
   "cell_type": "code",
   "execution_count": 11,
   "id": "cba2b35e-4127-41c4-a9f5-1c3bc35d1e87",
   "metadata": {},
   "outputs": [],
   "source": [
    "from pydantic import BaseModel\n",
    "\n",
    "class WriteFileArgs(BaseModel):\n",
    "    path: str\n",
    "    content: str"
   ]
  },
  {
   "cell_type": "code",
   "execution_count": 45,
   "id": "0211fe01-3276-4ed1-98ef-90a3f0197728",
   "metadata": {},
   "outputs": [],
   "source": [
    "args = WriteFileArgs(path=\"/home/hao/Desktop/test.txt\", content=\"This is a test file.\")"
   ]
  },
  {
   "cell_type": "code",
   "execution_count": 46,
   "id": "c1470133-b6ff-422a-8fd6-5483e9fded0c",
   "metadata": {},
   "outputs": [],
   "source": [
    "result = await tool.run(args=args, cancellation_token=CancellationToken())"
   ]
  },
  {
   "cell_type": "code",
   "execution_count": 47,
   "id": "b1c32a32-5ca6-4e21-8bbf-8d396e47b682",
   "metadata": {},
   "outputs": [],
   "source": [
    "# for tool in tools:\n",
    "#     # print(tool.name)\n",
    "#     print(f\"Tool Name: {tool.name}, Description: {tool.description}\")"
   ]
  },
  {
   "cell_type": "code",
   "execution_count": 38,
   "id": "55059bd3-68e1-4a7f-9c24-eeb4655ffaf0",
   "metadata": {},
   "outputs": [],
   "source": [
    "await main()"
   ]
  },
  {
   "cell_type": "code",
   "execution_count": 39,
   "id": "26a90e2c-2a3d-4f31-9185-c3ef8202bfc1",
   "metadata": {},
   "outputs": [],
   "source": [
    "fetch_mcp_server = StdioServerParams(command=\"uvx\", args=[\"mcp-server-fetch\"])\n",
    "tools = await mcp_server_tools(fetch_mcp_server)"
   ]
  },
  {
   "cell_type": "code",
   "execution_count": 46,
   "id": "bf152370-fb98-4aa9-a5cd-7e47f3e67f3c",
   "metadata": {},
   "outputs": [
    {
     "name": "stdout",
     "output_type": "stream",
     "text": [
      "finish_reason='function_calls' content=[FunctionCall(id='call_mkchfxlp', arguments='{\"max_length\":2000,\"url\":\"https://newsletter.victordibia.com/p/you-have-ai-fatigue-thats-why-you\"}', name='fetch')] usage=RequestUsage(prompt_tokens=309, completion_tokens=119) cached=False logprobs=None thought=None\n"
     ]
    }
   ],
   "source": [
    "result = await model_client.create(messages=[UserMessage(source=\"user\", content=\"Summarize the content of https://newsletter.victordibia.com/p/you-have-ai-fatigue-thats-why-you\")], tools=tools)\n",
    "print(result)"
   ]
  },
  {
   "cell_type": "code",
   "execution_count": 47,
   "id": "4d61303c-5ae1-4e3a-a6ae-cd93d165b520",
   "metadata": {},
   "outputs": [
    {
     "data": {
      "text/plain": [
       "CreateResult(finish_reason='function_calls', content=[FunctionCall(id='call_mkchfxlp', arguments='{\"max_length\":2000,\"url\":\"https://newsletter.victordibia.com/p/you-have-ai-fatigue-thats-why-you\"}', name='fetch')], usage=RequestUsage(prompt_tokens=309, completion_tokens=119), cached=False, logprobs=None, thought=None)"
      ]
     },
     "execution_count": 47,
     "metadata": {},
     "output_type": "execute_result"
    }
   ],
   "source": [
    "result"
   ]
  },
  {
   "cell_type": "code",
   "execution_count": 15,
   "id": "eaffeb59-eb4e-4dc4-915c-e6d0509d089a",
   "metadata": {},
   "outputs": [],
   "source": [
    "from autogen_ext.tools.mcp import SseMcpToolAdapter, SseServerParams"
   ]
  },
  {
   "cell_type": "code",
   "execution_count": 26,
   "id": "310fc1a1-54b6-4aba-b1b4-de3e838221f5",
   "metadata": {},
   "outputs": [],
   "source": [
    "server_params = SseServerParams(\n",
    "    url=\"http://127.0.0.1:8800/sse\",  # Adjust the URL to match your FastMCP server\n",
    "    headers={\"Content-Type\": \"application/json\"}\n",
    "    # api_key=\"your_api_key_if_needed\"  # Optional, if your server requires authentication\n",
    ")"
   ]
  },
  {
   "cell_type": "code",
   "execution_count": 27,
   "id": "fbceb0b3-7f90-4c4f-973c-96dbb5d3f9d6",
   "metadata": {},
   "outputs": [],
   "source": [
    "adapter = await SseMcpToolAdapter.from_server_params(server_params,tool_name='echo_tool')"
   ]
  },
  {
   "cell_type": "code",
   "execution_count": 32,
   "id": "6cfd20bd-2a7f-4368-ab21-9e8aa82ad30f",
   "metadata": {},
   "outputs": [
    {
     "data": {
      "text/plain": [
       "{'name': 'echo_tool',\n",
       " 'description': 'Echo a message as a tool',\n",
       " 'parameters': {'type': 'object',\n",
       "  'properties': {'message': {'title': 'Message', 'type': 'string'}},\n",
       "  'required': ['message'],\n",
       "  'additionalProperties': False},\n",
       " 'strict': False}"
      ]
     },
     "execution_count": 32,
     "metadata": {},
     "output_type": "execute_result"
    }
   ],
   "source": [
    "adapter.schema"
   ]
  },
  {
   "cell_type": "code",
   "execution_count": 36,
   "id": "f1796301-3681-4a6d-aff1-cbbb2ad48165",
   "metadata": {},
   "outputs": [],
   "source": [
    "import asyncio\n",
    "from mcp.client.sse import sse_client\n",
    "from mcp.client.session import ClientSession\n",
    "\n",
    "async def get_tools():\n",
    "    async with sse_client(\"http://localhost:8800/sse\") as streams:\n",
    "        async with ClientSession(streams[0], streams[1]) as session:\n",
    "            await session.initialize()\n",
    "\n",
    "            # List available tools\n",
    "            return await session.list_tools()\n",
    "async def main():\n",
    "    tools = await get_tools()\n",
    "    print(tools.tools)"
   ]
  },
  {
   "cell_type": "code",
   "execution_count": 40,
   "id": "e85cfe8c-1c23-42f6-aaf3-c1c87544a5b1",
   "metadata": {},
   "outputs": [
    {
     "name": "stdout",
     "output_type": "stream",
     "text": [
      "[Tool(name='echo_tool', description='Echo a message as a tool', inputSchema={'properties': {'message': {'title': 'Message', 'type': 'string'}}, 'required': ['message'], 'title': 'echo_toolArguments', 'type': 'object'})]\n"
     ]
    }
   ],
   "source": [
    "await main()"
   ]
  },
  {
   "cell_type": "code",
   "execution_count": 11,
   "id": "f95ec436-f5da-4958-8322-de015332b699",
   "metadata": {},
   "outputs": [],
   "source": [
    "from mcp import ClientSession, StdioServerParameters, types\n",
    "from mcp.client.stdio import stdio_client\n",
    "from contextlib import AsyncExitStack\n",
    "import asyncio\n",
    "# import nest_asyncio\n",
    "# Create server parameters for stdio connection\n",
    "# server_params = StdioServerParameters(\n",
    "#     command=\"python\",  # Executable\n",
    "#     args=[\"example_server.py\"],  # Optional command line arguments\n",
    "#     env=None,  # Optional environment variables\n",
    "# )\n",
    "# server_params = StdioServerParameters(\n",
    "#     command=\"npx\", args=[\"-y\", \"@modelcontextprotocol/server-filesystem\", \"/oper/ch/code\"]\n",
    "# )"
   ]
  },
  {
   "cell_type": "code",
   "execution_count": 2,
   "id": "9721f7b4-1852-4986-8a08-0ea434f96ac0",
   "metadata": {},
   "outputs": [
    {
     "name": "stdout",
     "output_type": "stream",
     "text": [
      "连接成功，以下是可用工具：\n"
     ]
    }
   ],
   "source": [
    "# async with stdio_client(server_params) as (read, write):\n",
    "#     async with AsyncExitStack() as stack:\n",
    "#         session = await stack.enter_async_context(ClientSession(read, write))\n",
    "\n",
    "#         await session.initialize()\n",
    "\n",
    "#         # 获取工具列表\n",
    "#         response = await session.list_tools()\n",
    "#         tools = response.tools\n",
    "\n",
    "#         print(\"连接成功，以下是可用工具：\")\n",
    "#         # for tool in tools:\n",
    "#         #     print(f\"- {tool.name}: {tool.description}\")\n",
    "#         tool_descriptions = \"\\n\".join(\n",
    "#             f\"{tool.name}: {tool.description}\" for tool in tools\n",
    "#         )\n",
    "#         content=await session.call_tool('read_file',{'path':'/oper/ch/code/test.txt'})"
   ]
  },
  {
   "cell_type": "code",
   "execution_count": 3,
   "id": "b6f51a1e-6ef5-4d4b-9d56-b22691c11544",
   "metadata": {},
   "outputs": [
    {
     "name": "stdout",
     "output_type": "stream",
     "text": [
      "国破山河在，城春草木深。\n",
      "感时花溅泪，恨别鸟惊心。\n",
      "烽火连三月，家书抵万金。\n",
      "白头搔更短，浑欲不胜簪。\n"
     ]
    }
   ],
   "source": [
    "# print(content.content[0].text)"
   ]
  },
  {
   "cell_type": "code",
   "execution_count": 83,
   "id": "80123132-7c5a-4f91-8b0d-ef8cafa507e1",
   "metadata": {},
   "outputs": [],
   "source": [
    "# print(await session.call_tool('read_file',{'path':'/oper/ch/code/test.txt'}))"
   ]
  },
  {
   "cell_type": "code",
   "execution_count": 4,
   "id": "2179f0a8-6e4b-4b1d-a42f-e1e814d09d3d",
   "metadata": {},
   "outputs": [],
   "source": [
    "# sessions = await asyncio.gather(*(mcp_client(p) for p in server_params_list))"
   ]
  },
  {
   "cell_type": "code",
   "execution_count": 9,
   "id": "d956d3e1-2997-47ae-9598-19d967ff6bba",
   "metadata": {},
   "outputs": [],
   "source": [
    "# response=await sessions[0]['session'].list_tools()"
   ]
  },
  {
   "cell_type": "code",
   "execution_count": 17,
   "id": "2ff03e55-98a2-4653-b965-af21af633ca8",
   "metadata": {},
   "outputs": [],
   "source": [
    "# for line in response.tools:\n",
    "#     print(line.name,line.description)"
   ]
  },
  {
   "cell_type": "code",
   "execution_count": 12,
   "id": "d23de94d-223d-4657-b762-93fb85f0256e",
   "metadata": {},
   "outputs": [],
   "source": [
    "async def mcp_client(server_params):\n",
    "    client = stdio_client(server_params)\n",
    "    read, write = await client.__aenter__()\n",
    "\n",
    "    session = ClientSession(read, write)\n",
    "    await session.__aenter__()\n",
    "    await session.initialize()\n",
    "\n",
    "    return {\"session\": session, \"read\": read, \"write\": write, \"client\": client}\n",
    "# # 关闭单个\n",
    "# async def close_mcp_session(session, read, write, client):\n",
    "#     # await session.__aexit__(None, None, None)\n",
    "#     # await client.__aexit__(None, None, None)\n",
    "#     # 如果你直接持有 read/write，也可以单独关闭它们：\n",
    "#     await read.aclose()\n",
    "#     await write.aclose()\n",
    "\n",
    "# async def get_tool_description(server_params_list):\n",
    "#     try:\n",
    "#         sessions = await asyncio.gather(*(mcp_client(p) for p in server_params_list))\n",
    "#         tool_descriptions=''\n",
    "#         session_index={}\n",
    "#         for idx,tool in enumerate(sessions):\n",
    "#             response=await tool['session'].list_tools()\n",
    "#             descriptions = \"\\n\".join(f\"{line.name}:{line.description}。inputSchema:{line.inputSchema}\" for line in response.tools)\n",
    "#             session_index=session_index|{line.name:idx for line in response.tools}\n",
    "#             tool_descriptions+=descriptions\n",
    "#     except Exception as e:\n",
    "#         print(f\"错误: {e}\")\n",
    "#     finally:\n",
    "#         await asyncio.gather(*(close_mcp_session(**e) for e in sessions))\n",
    "#     return tool_descriptions,session_index\n",
    "\n",
    "\n",
    "# async def mcp_tool_run(name,input_dict,server_params_list,session_index):\n",
    "#     try:\n",
    "#         sessions = await asyncio.gather(*(mcp_client(p) for p in server_params_list))\n",
    "#         session = sessions[session_index[name]]['session']\n",
    "#         content = await session.call_tool(name,input_dict)\n",
    "#     except Exception as e:\n",
    "#         print(f\"错误: {e}\")\n",
    "#     finally:\n",
    "#         await asyncio.gather(*(close_mcp_session(**e) for e in sessions))\n",
    "#     return content.content[0].text"
   ]
  },
  {
   "cell_type": "code",
   "execution_count": 56,
   "id": "0eafa3ad-c521-4055-b863-2d3815e7026b",
   "metadata": {},
   "outputs": [],
   "source": [
    "session_data=await mcp_client(server_params_list[0])"
   ]
  },
  {
   "cell_type": "code",
   "execution_count": 77,
   "id": "e92f313f-7a08-4087-b446-1c4d82645744",
   "metadata": {},
   "outputs": [],
   "source": [
    "sessions = await asyncio.gather(*(mcp_client(p) for p in server_params_list))"
   ]
  },
  {
   "cell_type": "code",
   "execution_count": 55,
   "id": "77a64e16-4135-4b01-bcd5-d00ba4d14172",
   "metadata": {},
   "outputs": [],
   "source": [
    "await sessions[0].get('read').aclose()\n",
    "await sessions[0].get('write').aclose()"
   ]
  },
  {
   "cell_type": "code",
   "execution_count": 69,
   "id": "6c255064-7643-445c-b82a-6670d94e28de",
   "metadata": {},
   "outputs": [],
   "source": [
    "# print(await sessions[3].get('session').list_tools())"
   ]
  },
  {
   "cell_type": "code",
   "execution_count": 83,
   "id": "3999931b-3175-409f-a63c-45a7d5a7fa48",
   "metadata": {},
   "outputs": [],
   "source": [
    "result=await sessions[3].get('session').call_tool(\"get_all_documents\",{})"
   ]
  },
  {
   "cell_type": "code",
   "execution_count": 328,
   "id": "844243af-6462-4381-80d2-33b2e2fbccae",
   "metadata": {},
   "outputs": [],
   "source": [
    "# json.loads(result.content[0].text)"
   ]
  },
  {
   "cell_type": "code",
   "execution_count": 61,
   "id": "d4f12f18-5e16-451f-94b7-a49365b082be",
   "metadata": {},
   "outputs": [],
   "source": [
    "async def close_mcp_session(session, read, write, client):\n",
    "    try:\n",
    "        await client.__aexit__(None, None, None)\n",
    "        await session.__aexit__(None, None, None)\n",
    "    except:\n",
    "        await read.aclose()\n",
    "        await write.aclose()"
   ]
  },
  {
   "cell_type": "code",
   "execution_count": 74,
   "id": "aa9ba5d9-87ee-4d7d-b0a6-5a4427ece4d7",
   "metadata": {},
   "outputs": [
    {
     "data": {
      "text/plain": [
       "[None, None, None, None]"
      ]
     },
     "execution_count": 74,
     "metadata": {},
     "output_type": "execute_result"
    }
   ],
   "source": [
    "await asyncio.gather(*(close_mcp_session(**p) for p in sessions))"
   ]
  },
  {
   "cell_type": "code",
   "execution_count": 60,
   "id": "7d56cc89-d840-44eb-9e75-1b091cd9747b",
   "metadata": {},
   "outputs": [],
   "source": [
    "# await session_data['session'].list_tools()"
   ]
  },
  {
   "cell_type": "code",
   "execution_count": 64,
   "id": "48c43308-8e68-43d7-89b6-37cbf12c31ab",
   "metadata": {},
   "outputs": [],
   "source": [
    "await close_mcp_session(**session_data)"
   ]
  },
  {
   "cell_type": "code",
   "execution_count": 30,
   "id": "8b82790b-c968-42c4-a2f7-a126c399a4f8",
   "metadata": {},
   "outputs": [
    {
     "data": {
      "text/plain": [
       "StdioServerParameters(command='npx', args=['--yes', '@modelcontextprotocol/server-filesystem', '/oper/ch/mcp_work'], env=None, cwd=None, encoding='utf-8', encoding_error_handler='strict')"
      ]
     },
     "execution_count": 30,
     "metadata": {},
     "output_type": "execute_result"
    }
   ],
   "source": [
    "server_params_list[0]"
   ]
  },
  {
   "cell_type": "code",
   "execution_count": 81,
   "id": "fa388423-335e-4c27-81b7-e3154e8419d2",
   "metadata": {},
   "outputs": [],
   "source": [
    "# session_data"
   ]
  },
  {
   "cell_type": "code",
   "execution_count": 45,
   "id": "d43ccda4-38c4-45c7-8876-a6929fb8f22f",
   "metadata": {},
   "outputs": [],
   "source": [
    "# tool_descriptions,session_index=await get_tool_description(server_params_list)"
   ]
  },
  {
   "cell_type": "code",
   "execution_count": 77,
   "id": "e07cd65b-0eaf-4f35-8302-0c99703618c8",
   "metadata": {},
   "outputs": [],
   "source": [
    "# content=await mcp_tool_run('read_file',{'path':'/oper/ch/code/test.txt'},server_params_list,session_index)"
   ]
  },
  {
   "cell_type": "code",
   "execution_count": 1,
   "id": "9e930a13-dfc5-48d2-992c-92d6ac572672",
   "metadata": {},
   "outputs": [],
   "source": [
    "from mcp_client_claude import MCPClientManager"
   ]
  },
  {
   "cell_type": "code",
   "execution_count": 98,
   "id": "b0fb16ec-eb96-4aac-98b4-79c3fa489678",
   "metadata": {},
   "outputs": [],
   "source": [
    "server_params_list = [StdioServerParameters(**{\"command\":\"uv\",\"args\":[\"run\",\"/oper/ch/code/chromadb_mcp.py\",\"--ollama_model\",\"bge-m3\",\"--collection_name\",\"my_ollama_documents\"]})]"
   ]
  },
  {
   "cell_type": "code",
   "execution_count": 5,
   "id": "79635d48-2e54-4d7c-ad6e-4e41d7b4c35f",
   "metadata": {},
   "outputs": [],
   "source": [
    "# server_params_list = [\n",
    "#     StdioServerParameters(command=\"npx\", args=[\"--yes\", \"@modelcontextprotocol/server-filesystem\", '/oper/ch/code']),\n",
    "#     StdioServerParameters(command=\"uvx\", args=[\"mcp-server-fetch\"]),\n",
    "#     StdioServerParameters(command=\"npx\", args=[\"-y\",\"@modelcontextprotocol/server-puppeteer\"])\n",
    "# ]\n",
    "manager = MCPClientManager(server_params_list)"
   ]
  },
  {
   "cell_type": "code",
   "execution_count": 6,
   "id": "7bcedbc3-20d1-4bb3-be8d-228cf692b498",
   "metadata": {},
   "outputs": [],
   "source": [
    "descriptions, _ = await manager.initialize()"
   ]
  },
  {
   "cell_type": "code",
   "execution_count": 198,
   "id": "717cbc47-a820-4380-8d06-ff4b4a9ab99e",
   "metadata": {},
   "outputs": [],
   "source": [
    "tools=await session['session'].list_tools()"
   ]
  },
  {
   "cell_type": "code",
   "execution_count": 211,
   "id": "9881bebb-c648-4109-a0fb-8e163c947448",
   "metadata": {},
   "outputs": [],
   "source": [
    "for tool in tools.tools:\n",
    "    print(f\"{tool.name}:{tool.description}\\n{tool.inputSchema}\")"
   ]
  },
  {
   "cell_type": "code",
   "execution_count": 189,
   "id": "9945686c-2db3-4651-8d93-8a977acf8f8e",
   "metadata": {},
   "outputs": [],
   "source": [
    "def simplify_type(schema: dict) -> str:\n",
    "    # 优先解析 anyOf\n",
    "    if \"anyOf\" in schema:\n",
    "        types = [t.get(\"type\", \"any\") for t in schema[\"anyOf\"] if t.get(\"type\") != \"null\"]\n",
    "        return simplify_type({\"type\": types[0]}) + \" (optional)\" if \"null\" in [t.get(\"type\") for t in schema[\"anyOf\"]] else simplify_type({\"type\": types[0]})\n",
    "    \n",
    "    t = schema.get(\"type\", \"any\")\n",
    "\n",
    "    # array with item types\n",
    "    if t == \"array\":\n",
    "        item_type = schema.get(\"items\", {}).get(\"type\", \"any\")\n",
    "        return f\"List[{map_type(item_type)}]\"\n",
    "\n",
    "    return map_type(t)\n",
    "\n",
    "def map_type(json_type: str) -> str:\n",
    "    return {\n",
    "        \"string\": \"str\",\n",
    "        \"integer\": \"int\",\n",
    "        \"number\": \"float\",\n",
    "        \"boolean\": \"bool\",\n",
    "        \"object\": \"dict\",\n",
    "        \"array\": \"list\",\n",
    "        \"null\": \"None\"\n",
    "    }.get(json_type, \"any\")\n",
    "\n",
    "def convert_schema_to_input_spec(schema: dict) -> dict:\n",
    "    props = schema.get(\"properties\", {})\n",
    "    return {key: simplify_type(value) for key, value in props.items()}"
   ]
  },
  {
   "cell_type": "code",
   "execution_count": 210,
   "id": "084f0341-2c00-4a77-add0-35d51151a5ee",
   "metadata": {},
   "outputs": [
    {
     "data": {
      "text/plain": [
       "{}"
      ]
     },
     "execution_count": 210,
     "metadata": {},
     "output_type": "execute_result"
    }
   ],
   "source": [
    "convert_schema_to_input_spec(tool.inputSchema)"
   ]
  },
  {
   "cell_type": "code",
   "execution_count": 5,
   "id": "9d98ac89-8274-498f-9f2a-35f168e09883",
   "metadata": {},
   "outputs": [],
   "source": [
    "from ollama import Client\n",
    "client = Client(host='http://localhost:11434')"
   ]
  },
  {
   "cell_type": "code",
   "execution_count": 6,
   "id": "acf62127-c79e-47e9-850a-78f49f851a14",
   "metadata": {},
   "outputs": [],
   "source": [
    "system_prompt=\"\"\"\n",
    "请根据输入的工具使用描述语言，输出查询使用工具的查询语言。\n",
    "输入:delete_current_collection:删除当前使用的集合\n",
    "输出： 删除集合、清除集合、移除当前集合、删除当前数据集\n",
    "\"\"\""
   ]
  },
  {
   "cell_type": "code",
   "execution_count": 270,
   "id": "c31f9003-4cf8-48d3-9172-8ffb18f84bad",
   "metadata": {},
   "outputs": [],
   "source": [
    "response = client.chat(\n",
    "    model=\"gemma3:27b\",\n",
    "    messages=[\n",
    "        {\"role\": \"system\", \"content\": system_prompt},{\"role\":\"user\",\"content\":'Read the complete contents of a file from the file system. Handles various text encodings and provides detailed error messages if the file cannot be read. Use this tool when you need to examine the contents of a single file. Only works within allowed directories.'}\n",
    "    ]\n",
    ")"
   ]
  },
  {
   "cell_type": "code",
   "execution_count": 271,
   "id": "80e13170-e997-422d-9cae-e9f88de8f230",
   "metadata": {},
   "outputs": [
    {
     "data": {
      "text/plain": [
       "'读取文件内容、加载文件、打开文件、查看文件、获取文件内容、文件内容读取、读取文本文件、检查文件内容、访问文件内容\\n'"
      ]
     },
     "execution_count": 271,
     "metadata": {},
     "output_type": "execute_result"
    }
   ],
   "source": [
    "response.message.content"
   ]
  },
  {
   "cell_type": "code",
   "execution_count": 10,
   "id": "6f50e1d2-4293-44d3-b225-0381d5875bd1",
   "metadata": {},
   "outputs": [],
   "source": [
    "import json"
   ]
  },
  {
   "cell_type": "code",
   "execution_count": 56,
   "id": "f6eddf08-8b89-4531-964f-a8b2ed993623",
   "metadata": {},
   "outputs": [],
   "source": [
    "async def mcptools2database(server_params_list):\n",
    "    metadata_list=[]\n",
    "    documents=[]\n",
    "    # for server_params in server_params_list:\n",
    "    try:\n",
    "        manager = MCPClientManager(server_params_list)\n",
    "        # session=await manager._create_mcp_client(server_params)\n",
    "        # tools=await session['session'].list_tools()\n",
    "        for p in server_params_list:\n",
    "            async with manager._create_session(p) as session_data:\n",
    "                tools = await session_data['session'].list_tools()\n",
    "                for tool in tools.tools:\n",
    "                    print(f\"{tool.name}工具正在登记\")\n",
    "                    # print(f\"{tool.name}:{tool.description}\\n{tool.inputSchema}\")\n",
    "                    response = client.chat(model=\"gemma3:27b\",\n",
    "                                           messages=[{\"role\": \"system\", \"content\": system_prompt},{\"role\":\"user\",\"content\":f\"输入：{tool.name}:{tool.description}\\n输出：\"}])\n",
    "                    documents.append(tool.description)\n",
    "                    metadata_list.append({\"tool_name\": tool.name,\n",
    "                                          \"description\": tool.description,\n",
    "                                          \"input_spec\":json.dumps(convert_schema_to_input_spec(tool.inputSchema)),\n",
    "                                           \"tags\": f\"{response.message.content}\"})\n",
    "    except Exception as e:\n",
    "        print(str(e))\n",
    "    finally:\n",
    "        await manager.close_all()\n",
    "    return documents,metadata_list"
   ]
  },
  {
   "cell_type": "code",
   "execution_count": null,
   "id": "2a0f4f4c-ffe3-4332-8205-afa4e8a00f16",
   "metadata": {},
   "outputs": [],
   "source": [
    "async def mcp_run_tool(name,input_dict,server_params_list):\n",
    "    try:\n",
    "        manager = MCPClientManager(server_params_list)\n",
    "        descriptions, _ = await manager.initialize()\n",
    "        result = await manager.run_tool(name,input_dict)\n",
    "    finally:\n",
    "        await manager.close_all()\n",
    "    return result"
   ]
  },
  {
   "cell_type": "code",
   "execution_count": 49,
   "id": "c3233add-afb4-4a16-8607-277723f4a49f",
   "metadata": {},
   "outputs": [],
   "source": [
    "async def mcptools2database(server_params_list):\n",
    "    metadata_list = []\n",
    "    documents = []\n",
    "    manager = None\n",
    "    \n",
    "    try:\n",
    "        manager = MCPClientManager(server_params_list)\n",
    "        print(\"MCPClientManager created, initializing connections...\")\n",
    "        \n",
    "        # Process each server parameter individually instead of using the manager's initialize method\n",
    "        for i, p in enumerate(server_params_list):\n",
    "            try:\n",
    "                print(f\"Connecting to server {i+1}/{len(server_params_list)}: {p.command} {' '.join(p.args)}\")\n",
    "                async with manager._create_session(p) as session_data:\n",
    "                    print(f\"Connected to server {i+1}, listing tools...\")\n",
    "                    tools = await session_data['session'].list_tools()\n",
    "                    print(f\"Found {len(tools.tools)} tools in server {i+1}\")\n",
    "                    \n",
    "                    for tool in tools.tools:\n",
    "                        print(f\"Registering tool: {tool.name}\")\n",
    "                        documents.append(tool.description)\n",
    "                        metadata_list.append({\n",
    "                            \"tool_name\": tool.name,\n",
    "                            \"description\": tool.description,\n",
    "                            \"input_schema\": tool.inputSchema,\n",
    "                        })\n",
    "            except Exception as e:\n",
    "                print(f\"Error processing server {i+1}: {p.command} {' '.join(p.args)}\")\n",
    "                print(f\"Error details: {str(e)}\")\n",
    "                # Continue with next server instead of failing completely\n",
    "        \n",
    "    except Exception as e:\n",
    "        print(f\"Failed to create MCPClientManager: {str(e)}\")\n",
    "    finally:\n",
    "        if manager:\n",
    "            print(\"Closing all connections...\")\n",
    "            await manager.close_all()\n",
    "            \n",
    "    return documents, metadata_list"
   ]
  },
  {
   "cell_type": "code",
   "execution_count": 57,
   "id": "55765d25-0ec4-4066-bdc5-7b67d752b4e9",
   "metadata": {},
   "outputs": [],
   "source": [
    "# documents,metadata_list=await mcptools2database(server_params_list)"
   ]
  },
  {
   "cell_type": "code",
   "execution_count": 59,
   "id": "4ae6ccd7-8d67-4201-bb2d-94ddfdf3d034",
   "metadata": {},
   "outputs": [
    {
     "data": {
      "text/plain": [
       "32"
      ]
     },
     "execution_count": 59,
     "metadata": {},
     "output_type": "execute_result"
    }
   ],
   "source": [
    "len(documents)"
   ]
  },
  {
   "cell_type": "code",
   "execution_count": 336,
   "id": "10e228a7-b4c0-4631-b07c-45d7cffa2987",
   "metadata": {},
   "outputs": [],
   "source": [
    "import time "
   ]
  },
  {
   "cell_type": "code",
   "execution_count": 338,
   "id": "9174fbf9-cef8-4d29-8fa0-a734457caf99",
   "metadata": {},
   "outputs": [],
   "source": [
    "# doc_list=[]\n",
    "# metadatas_list=[]\n",
    "# for line in server_params_list:\n",
    "#     documents,metadata_list=await mcptools2database([line])\n",
    "#     doc_list.extend(documents)\n",
    "#     metadatas_list.extend(metadata_list)\n",
    "#     time.sleep(5)\n",
    "#     # await mcp_run_tool(\"add_documents\",{\"documents\":documents,\"metadatas\":metadata_list},server_params)"
   ]
  },
  {
   "cell_type": "code",
   "execution_count": 31,
   "id": "e93d7d9c-a811-4af0-a1cd-4bc6ed3efdab",
   "metadata": {},
   "outputs": [],
   "source": [
    "# documents,metadata_list=await mcptools2database(server_params_list)"
   ]
  },
  {
   "cell_type": "code",
   "execution_count": 12,
   "id": "04488c92-7487-4da2-af04-a97ad07f3ef9",
   "metadata": {},
   "outputs": [],
   "source": [
    "server_params = [StdioServerParameters(command=\"uv\",args=[\"run\",\"/oper/ch/code/chromadb_mcp.py\",\"--ollama_model\",\"bge-large-zh-v1.5:f16\",\"--collection_name\",\"tools_collection\"])]"
   ]
  },
  {
   "cell_type": "code",
   "execution_count": null,
   "id": "a4218f74-1649-4e7a-9431-b509038dd340",
   "metadata": {},
   "outputs": [],
   "source": [
    "curl http://localhost:11434/api/embed -d '{\n",
    "  \"model\": \"bge-large-zh-v1.5:f16\",\n",
    "  \"input\": \"Llamas are members of the camelid family\"\n",
    "}'"
   ]
  },
  {
   "cell_type": "code",
   "execution_count": 69,
   "id": "6a599adb-de65-488e-a8c1-de659dde6326",
   "metadata": {},
   "outputs": [
    {
     "name": "stdout",
     "output_type": "stream",
     "text": [
      "All sessions closed\n"
     ]
    },
    {
     "data": {
      "text/plain": [
       "'44e43440-f3f3-47da-a6f1-07f53d1d661d'"
      ]
     },
     "execution_count": 69,
     "metadata": {},
     "output_type": "execute_result"
    }
   ],
   "source": [
    "await mcp_run_tool(\"add_documents\",{\"documents\":documents,\"metadatas\":metadata_list},server_params)"
   ]
  },
  {
   "cell_type": "code",
   "execution_count": 302,
   "id": "03cfb5d4-3855-4e93-ab11-e1301cfc847d",
   "metadata": {},
   "outputs": [],
   "source": [
    "result=await mcp_run_tool(\"get_all_documents\",{},server_params)"
   ]
  },
  {
   "cell_type": "code",
   "execution_count": 67,
   "id": "4956c49c-ebe4-4ceb-80ab-2d63baec13e4",
   "metadata": {},
   "outputs": [
    {
     "name": "stdout",
     "output_type": "stream",
     "text": [
      "All sessions closed\n"
     ]
    },
    {
     "data": {
      "text/plain": [
       "'成功删除集合: tools_collection'"
      ]
     },
     "execution_count": 67,
     "metadata": {},
     "output_type": "execute_result"
    }
   ],
   "source": [
    "await mcp_run_tool(\"delete_current_coll\"get_all_documents\",{}ection\",None,server_params)"
   ]
  },
  {
   "cell_type": "code",
   "execution_count": 70,
   "id": "393751be-ef39-4ca4-953b-0cc4aca05dc0",
   "metadata": {},
   "outputs": [
    {
     "name": "stdout",
     "output_type": "stream",
     "text": [
      "All sessions closed\n"
     ]
    }
   ],
   "source": [
    "result=await mcp_run_tool(\"search_documents\",{\"query\":\"写入文件`/oper/ch/work/test.txt`\",\"include\":[\"documents\", \"metadatas\"] },server_params)"
   ]
  },
  {
   "cell_type": "code",
   "execution_count": 73,
   "id": "8dcd5409-ab22-4eb6-86e2-dd4880a3fa19",
   "metadata": {},
   "outputs": [],
   "source": [
    "# json.loads(result)"
   ]
  },
  {
   "cell_type": "code",
   "execution_count": 319,
   "id": "845a4527-b663-4862-969c-194b70155cb7",
   "metadata": {},
   "outputs": [],
   "source": [
    "# curl http://localhost:11434/api/embed -d '{\n",
    "#   \"model\": \"snowflake-arctic-embed2:latest\",\n",
    "#   \"input\": \"Llamas are members of the camelid family\"\n",
    "# }'"
   ]
  },
  {
   "cell_type": "code",
   "execution_count": 304,
   "id": "3e9bf865-ceef-4fbd-957d-81809b6625c9",
   "metadata": {},
   "outputs": [],
   "source": [
    "# json.loads(result)"
   ]
  },
  {
   "cell_type": "code",
   "execution_count": 161,
   "id": "c3321dd2-bd9c-47da-939c-e4eb95b8e877",
   "metadata": {},
   "outputs": [],
   "source": [
    "# 将字典保存为 JSON 文件\n",
    "def save_dict_to_json(data, file_path):\n",
    "    \"\"\"\n",
    "    将字典保存为 JSON 文件。\n",
    "    \n",
    "    :param data: 要保存的字典\n",
    "    :param file_path: JSON 文件的路径\n",
    "    \"\"\"\n",
    "    try:\n",
    "        # 打开文件并写入 JSON 数据\n",
    "        with open(file_path, 'w', encoding='utf-8') as json_file:\n",
    "            json.dump(data, json_file, ensure_ascii=False, indent=4)\n",
    "        print(f\"字典已成功保存到 {file_path}\")\n",
    "    except Exception as e:\n",
    "        print(f\"保存字典时出错: {e}\")"
   ]
  },
  {
   "cell_type": "code",
   "execution_count": 180,
   "id": "ff57ab66-e694-4373-9883-3507006f4d92",
   "metadata": {},
   "outputs": [
    {
     "name": "stdout",
     "output_type": "stream",
     "text": [
      "字典已成功保存到 /oper/ch/mcp_work/filesystem_tools.json\n"
     ]
    }
   ],
   "source": [
    "save_dict_to_json(input_data, \"/oper/ch/mcp_work/filesystem_tools.json\")"
   ]
  },
  {
   "cell_type": "code",
   "execution_count": 163,
   "id": "72ffd6bc-a994-4d8e-9b1b-68e7db558bfb",
   "metadata": {},
   "outputs": [],
   "source": [
    "# input_data"
   ]
  },
  {
   "cell_type": "code",
   "execution_count": 278,
   "id": "25ec3bc6-5f22-4258-8c4b-c6b60dac9ccc",
   "metadata": {},
   "outputs": [],
   "source": [
    "# document = [\n",
    "#     \"添加文档到ChromaDB集合\"\n",
    "# ]\n",
    "# metadata=[\n",
    "#     {\n",
    "#         \"service_name\": \"chromadb_service\",\n",
    "#         \"service_params\": {\n",
    "#             \"command\": \"uv\",\n",
    "#             \"args\": [\"run\", \"/oper/ch/code/chromadb_mcp.py\"]\n",
    "#         },\n",
    "#         \"tool_name\": \"add_documents\",\n",
    "#         \"tool_usage\": \"添加文档到 ChromaDB 集合\\n\\nArgs:\\n    documents: 文本内容列表\\n    metadatas: 元数据列表（可选）\\n    ids: ID列表（可选，如不提供将自动生成）\\n\\nReturns:\\n    添加的文档ID列表\",\n",
    "#         \"inputSchema\": {\n",
    "#             \"type\": \"object\",\n",
    "#             \"title\": \"add_documentsArguments\",\n",
    "#             \"required\": [\"documents\"],\n",
    "#             \"properties\": {\n",
    "#                 \"documents\": {\"type\": \"array\", \"items\": {\"type\": \"string\"}, \"title\": \"Documents\"},\n",
    "#                 \"metadatas\": {\n",
    "#                     \"anyOf\": [{\"type\": \"array\", \"items\": {\"type\": \"object\"}}, {\"type\": \"null\"}],\n",
    "#                     \"default\": None, \"title\": \"Metadatas\"\n",
    "#                 },\n",
    "#                 \"ids\": {\n",
    "#                     \"anyOf\": [{\"type\": \"array\", \"items\": {\"type\": \"string\"}}, {\"type\": \"null\"}],\n",
    "#                     \"default\": None, \"title\": \"Ids\"\n",
    "#                 }\n",
    "#             }\n",
    "#         }\n",
    "#     }]"
   ]
  },
  {
   "cell_type": "code",
   "execution_count": 172,
   "id": "6161ef3a-4297-4007-916d-0650429688a5",
   "metadata": {},
   "outputs": [],
   "source": [
    "def prepare_metadata(tool_item: dict):\n",
    "    return {\n",
    "        \"tool_name\": tool_item[\"tool_name\"],\n",
    "        \"tool_usage\": tool_item[\"tool_usage\"],\n",
    "        \"inputSchema\": json.dumps(tool_item[\"inputSchema\"]),\n",
    "        \"service_name\": tool_item[\"service_name\"],\n",
    "        \"service_params\": json.dumps(tool_item[\"service_params\"]),\n",
    "    }"
   ]
  },
  {
   "cell_type": "code",
   "execution_count": 175,
   "id": "74225872-e75e-4f77-b260-783dc6a9dc56",
   "metadata": {},
   "outputs": [],
   "source": [
    "input_data={\"documents\":documents,\"metadatas\":[prepare_metadata(line)  for line in metadata]}"
   ]
  },
  {
   "cell_type": "code",
   "execution_count": 260,
   "id": "421cc9fe-b65c-4bb7-98bf-5c116bccc3cd",
   "metadata": {},
   "outputs": [],
   "source": [
    "# print(descriptions)"
   ]
  },
  {
   "cell_type": "code",
   "execution_count": 177,
   "id": "0929bbe9-660b-46c3-bdf7-3b1ccfe28b83",
   "metadata": {},
   "outputs": [],
   "source": [
    "result = await manager.run_tool(\"add_documents\",input_data)"
   ]
  },
  {
   "cell_type": "code",
   "execution_count": 212,
   "id": "d47a3644-7c76-46c8-ac91-8ab55dc8126d",
   "metadata": {},
   "outputs": [],
   "source": [
    "result = await manager.run_tool(\"get_collection_info\",None)"
   ]
  },
  {
   "cell_type": "code",
   "execution_count": 214,
   "id": "3c00d4d8-4001-4a0d-b8f1-4ae51863fda8",
   "metadata": {},
   "outputs": [],
   "source": [
    "result = await manager.run_tool(\"delete_current_collection\",None)"
   ]
  },
  {
   "cell_type": "code",
   "execution_count": 215,
   "id": "4cce2f84-b9aa-4a44-a136-5dd759c1d735",
   "metadata": {},
   "outputs": [
    {
     "name": "stdout",
     "output_type": "stream",
     "text": [
      "{\"name\": \"tools_collection\", \"count\": 24}\n"
     ]
    }
   ],
   "source": [
    "print(result)"
   ]
  },
  {
   "cell_type": "code",
   "execution_count": 118,
   "id": "33330747-6b53-470c-8693-340acab8c08a",
   "metadata": {},
   "outputs": [
    {
     "data": {
      "text/plain": [
       "[StdioServerParameters(command='uv', args=['run', '/oper/ch/code/chromadb_mcp.py', '--ollama_model', 'bge-large-zh-v1.5:f16', '--collection_name', 'tools_collection'], env=None, cwd=None, encoding='utf-8', encoding_error_handler='strict')]"
      ]
     },
     "execution_count": 118,
     "metadata": {},
     "output_type": "execute_result"
    }
   ],
   "source": [
    "server_params"
   ]
  },
  {
   "cell_type": "code",
   "execution_count": 19,
   "id": "2883024e-0634-4a2d-8caa-2a6e753435ee",
   "metadata": {},
   "outputs": [],
   "source": [
    "from pydantic import BaseModel\n",
    "from enum import Enum\n",
    "from typing import Dict, Any, List, Union, Optional, Literal\n",
    "import json,re"
   ]
  },
  {
   "cell_type": "code",
   "execution_count": 101,
   "id": "8e3a3d61-806e-451b-95d0-19aed739b1c4",
   "metadata": {},
   "outputs": [],
   "source": [
    "# 定义数据模型\n",
    "from pydantic import BaseModel\n",
    "from enum import Enum\n",
    "from typing import Dict, Any, List, Union, Optional, Literal\n",
    "    \n",
    "class ActionInfo(BaseModel):\n",
    "    action_name: str\n",
    "    action_type: Union[Tool, Instruction]\n",
    "\n",
    "class WorkFlow(BaseModel):\n",
    "    task_name: str\n",
    "    workflow: List[ActionInfo]\n",
    "\n",
    "# ========== 期望输出 ==========\n",
    "class DesireOutput(BaseModel):\n",
    "    expected_result: Optional[str] = None          # For Instruction\n",
    "    expected_data: Optional[Dict[str, Any]] = None # For Tool\n",
    "    expected_workflow_result: Optional[str] = None # For WorkFlow\n",
    "\n",
    "# ========== 评估模型 ==========\n",
    "class InstructionEval(BaseModel):\n",
    "    correct: bool\n",
    "    feedback: Optional[str] = None\n",
    "\n",
    "class ToolEval(BaseModel):\n",
    "    success: bool\n",
    "    result_summary: Optional[str] = None\n",
    "    error: Optional[str] = None\n",
    "\n",
    "class WorkFlowEval(BaseModel):\n",
    "    completed_steps: int\n",
    "    total_steps: int\n",
    "    summary: Optional[str] = None\n",
    "\n",
    "class Evaluation(BaseModel):\n",
    "    evaluation_type: Literal[\"instruction\", \"tool\", \"workflow\"]\n",
    "    instruction_eval: Optional[InstructionEval] = None\n",
    "    tool_eval: Optional[ToolEval] = None\n",
    "    workflow_eval: Optional[WorkFlowEval] = None\n",
    "    next_goal: Optional[str] = None\n",
    "    last_step: Optional[bool] = False\n",
    "\n",
    "# ========== 步骤定义 ==========\n",
    "class StepInfo(BaseModel):\n",
    "    step_id: int\n",
    "    step_name: str\n",
    "    step_description: str\n",
    "    actions_name: List[str]\n",
    "    actions: List[Union[Instruction, Tool, WorkFlow]]\n",
    "    desire_output: DesireOutput\n",
    "    evaluation: Evaluation\n"
   ]
  },
  {
   "cell_type": "code",
   "execution_count": 7,
   "id": "6dce5e5c-c1f4-44d0-b1c9-9c09aab75ff5",
   "metadata": {},
   "outputs": [],
   "source": [
    "class Tool(BaseModel):\n",
    "    name: str\n",
    "    arguments: Dict[str, Any]\n",
    "    action: str\n",
    "    async def execute(self) -> Dict[str, Any]:\n",
    "        try:\n",
    "            descriptions,_= await manager.initialize()\n",
    "            response = await manager.run_tool(self.name,self.arguments)\n",
    "            await manager.close_all()\n",
    "            if response:\n",
    "                return {\"tool_name\": self.name,\n",
    "                        \"info\": f\"Executed {self.action} with {self.arguments}\",\n",
    "                        \"result\": response\n",
    "                       }\n",
    "            else:\n",
    "                  return {\"tool_name\": self.name,\n",
    "                          \"info\": f\"Executed {self.action} with {self.arguments}\",\n",
    "                          \"result\": \"tool call is success. \"\n",
    "                       }\n",
    "        except Exception as e:\n",
    "            return  {\"tool_name\": self.name,\n",
    "                    \"info\": f\"Executed {self.action} with {self.arguments}\",\n",
    "                    \"error\": str(e)\n",
    "                   }"
   ]
  },
  {
   "cell_type": "code",
   "execution_count": 377,
   "id": "d2d64725-df1b-427c-9a05-4e24d7a49fbc",
   "metadata": {},
   "outputs": [],
   "source": [
    "tool=Tool(**{\"name\": \"fetch\", \"arguments\": {\"url\": \"https://github.com/browser-use/browser-use/blob/main/browser_use/agent/system_prompt.md\",\"raw\":False}, \"action\": \"查询天气预报\"})"
   ]
  },
  {
   "cell_type": "code",
   "execution_count": 378,
   "id": "d1a4f4f6-b100-4f3a-aa7e-1a1937bd374b",
   "metadata": {},
   "outputs": [],
   "source": [
    "response = await tool.execute()"
   ]
  },
  {
   "cell_type": "code",
   "execution_count": 380,
   "id": "22baed08-b27e-41f7-a2b6-625b4dedb393",
   "metadata": {},
   "outputs": [],
   "source": [
    "# print(response['result'])"
   ]
  },
  {
   "cell_type": "code",
   "execution_count": 1,
   "id": "1ac603d4-088c-4ac0-bff0-e380a317b1d7",
   "metadata": {},
   "outputs": [],
   "source": [
    "from ollama import AsyncClient"
   ]
  },
  {
   "cell_type": "code",
   "execution_count": 36,
   "id": "3605f2c1-80da-47a3-a454-53f367753596",
   "metadata": {},
   "outputs": [],
   "source": [
    "# client= AsyncClient(\"http://localhost:11434\")"
   ]
  },
  {
   "cell_type": "code",
   "execution_count": 37,
   "id": "d49fecbe-3903-4bdb-8636-4340bd0d0927",
   "metadata": {},
   "outputs": [],
   "source": [
    "# response = await client.chat(model=\"gemma3:27b\",messages=[{\"role\":'user',\"content\":'hi'}])"
   ]
  },
  {
   "cell_type": "code",
   "execution_count": 279,
   "id": "8c4e410c-e275-40b2-bea2-8f721487d9db",
   "metadata": {},
   "outputs": [],
   "source": [
    "async def Ollama_Asyncclient(query,host,model,prompt=None,format_output=\"json\"):\n",
    "    client = AsyncClient(host)\n",
    "    if not prompt:\n",
    "        message = [{'role': 'user', 'content': query}]\n",
    "    else:\n",
    "         message = [{'role':'system','content':prompt},{'role': 'user', 'content': query}]\n",
    "    response = await client.chat(model = model ,messages = message, format= format_output)\n",
    "    return response "
   ]
  },
  {
   "cell_type": "code",
   "execution_count": 274,
   "id": "f8bb2045-2522-4c74-a5ee-e547453365b9",
   "metadata": {},
   "outputs": [],
   "source": [
    "class Instruction(BaseModel):\n",
    "    prompt: Optional[str] = None  \n",
    "    query: str\n",
    "    async def execute(self,model=\"qwen3:4b-fp16\",host=\"http://localhost:11434\",format_output='json'):\n",
    "        try:\n",
    "        \n",
    "            response = await Ollama_Asyncclient(query = self.query,\n",
    "                                                prompt = self.prompt,\n",
    "                                                host = host,\n",
    "                                                model = model,\n",
    "                                                format_output = format_output\n",
    "                                                )\n",
    "         \n",
    "            return {\"result\": response}\n",
    "        except Exception as e: \n",
    "            return {\"error\": f\"{e}\" }"
   ]
  },
  {
   "cell_type": "code",
   "execution_count": 135,
   "id": "30b867d4-65e0-4ad6-9f84-2969fbc38108",
   "metadata": {},
   "outputs": [],
   "source": [
    "tool=Tool(name=\"search_documents\",arguments={\"query\":\"请作一首诗描写深圳湾海景,然后把诗写入文件`/oper/ch/work/test.txt`\",\"include\":[\"documents\", \"metadatas\"],\"n_results\":3},action=\"写入文件\")"
   ]
  },
  {
   "cell_type": "code",
   "execution_count": 136,
   "id": "a33a6e5c-dd0d-433d-ae18-aa6cc0c7374c",
   "metadata": {},
   "outputs": [],
   "source": [
    "result=await tool.execute()"
   ]
  },
  {
   "cell_type": "code",
   "execution_count": 142,
   "id": "e0b3ffef-66bf-45ac-9147-2df69e72e94e",
   "metadata": {},
   "outputs": [],
   "source": [
    "tool_descriptions=\"\\n\".join([ f\"{line['tool_name']}:{line['description']}input_spec:{line['input_spec']}\"for line in json.loads(result[\"result\"])['metadatas'][0]])"
   ]
  },
  {
   "cell_type": "code",
   "execution_count": 138,
   "id": "21b45f1e-6ae7-472c-879e-a0dcb1e870f5",
   "metadata": {},
   "outputs": [],
   "source": [
    "format_output=get_format_instructions(Tool)"
   ]
  },
  {
   "cell_type": "code",
   "execution_count": 144,
   "id": "1dabfcba-a334-4abb-856a-1b18f64cd38b",
   "metadata": {},
   "outputs": [],
   "source": [
    "await manager.close_all()"
   ]
  },
  {
   "cell_type": "code",
   "execution_count": 141,
   "id": "0b8b03ba-2e3a-4c03-86e9-e595106a9c52",
   "metadata": {},
   "outputs": [
    {
     "name": "stdout",
     "output_type": "stream",
     "text": [
      "edit_file:Make line-based edits to a text file. Each edit replaces exact line sequences with new content. Returns a git-style diff showing the changes made. Only works within allowed directories.input_spec:{\"path\": \"str\", \"edits\": \"List[dict]\", \"dryRun\": \"bool\"}\n",
      "get_document_count:获取集合中文档的数量\n",
      "    \n",
      "    Returns:\n",
      "        文档数量\n",
      "    input_spec:{}\n",
      "get_collection_info:获取集合信息\n",
      "    \n",
      "    Returns:\n",
      "        集合信息\n",
      "    input_spec:{}\n"
     ]
    }
   ],
   "source": [
    "print(descriptions)"
   ]
  },
  {
   "cell_type": "code",
   "execution_count": 160,
   "id": "b4949a38-7978-4cd6-8a81-474508995a84",
   "metadata": {},
   "outputs": [],
   "source": [
    "query=f\"\"\"\n",
    "你可以调用以下工具来完成任务：\n",
    "{tool_descriptions}\n",
    "\n",
    "请根据用户的请求选择最合适的工具来完成。如果**没有任何工具**可以合理完成请求，请直接返回字符串 `没有合适的工具完成给定任务`，不要尝试编造或虚构实现方式。\n",
    "\n",
    "用户的请求是：\n",
    "\"请作一首诗描写深圳湾海景,然后把诗写入文件 `/oper/ch/work/test.txt`\"\n",
    "\n",
    "请按以下格式返回结果：\n",
    "{format_output}\n",
    "\"\"\""
   ]
  },
  {
   "cell_type": "code",
   "execution_count": 329,
   "id": "94c99f6d-15b8-4490-9a28-b56d1aac4373",
   "metadata": {},
   "outputs": [],
   "source": [
    "# print(tool_descriptions)"
   ]
  },
  {
   "cell_type": "code",
   "execution_count": 155,
   "id": "f74614d9-be7f-4c45-b19b-71231d4fe90e",
   "metadata": {},
   "outputs": [],
   "source": [
    "instruction=Instruction(query=query)"
   ]
  },
  {
   "cell_type": "code",
   "execution_count": 156,
   "id": "d010f271-9fd0-40c5-9353-c8f8dd52b39c",
   "metadata": {},
   "outputs": [],
   "source": [
    "response=await instruction.execute()"
   ]
  },
  {
   "cell_type": "code",
   "execution_count": 157,
   "id": "63a7151c-dad3-4a60-a0d7-0fd2e86366cf",
   "metadata": {},
   "outputs": [
    {
     "data": {
      "text/plain": [
       "'{\"name\": \"write_file\", \"arguments\": {\"path\": \"/oper/ch/work/test.txt\", \"content\": \"深圳湾畔景，碧波映霞光。\\\\n海鸥翩跹舞，浪花逐夕阳。\\\\n高楼林立起，科技耀鹏程。\\\\n南国春常在，繁华似梦境。\"}, \"action\": \"write_file\"}'"
      ]
     },
     "execution_count": 157,
     "metadata": {},
     "output_type": "execute_result"
    }
   ],
   "source": [
    "response['result']['message']['content']"
   ]
  },
  {
   "cell_type": "code",
   "execution_count": 162,
   "id": "8f32ee3d-fad6-4ace-8c90-ee0b58a660f4",
   "metadata": {},
   "outputs": [],
   "source": [
    "test=json.loads(response['result']['message']['content'])"
   ]
  },
  {
   "cell_type": "code",
   "execution_count": 235,
   "id": "b5b61ea5-6eb5-47a9-a320-da2a9f93ca35",
   "metadata": {},
   "outputs": [],
   "source": [
    "ToolPrompt=\"\"\"\n",
    "你将收到一个用户请求为: `user_request` 和一个上下文 `knowledge_context`，请根据用户请求和上下文的格式和内容，判断属于以下哪种情况，并严格按照指定格式返回 JSON 结果：\n",
    "---\n",
    "### 🔷 **第一种情况：用户请求匹配的是知识库工具的使用描述**\n",
    "\n",
    "例如如下形式：\n",
    "\n",
    "```\n",
    "edit_file:Make line-based edits to a text file. Each edit replaces exact line sequences with new content. Returns a git-style diff showing the changes made. Only works within allowed directories.input_spec:{\"path\": \"str\", \"edits\": \"List[dict]\", \"dryRun\": \"bool\"}\n",
    "get_document_count:获取集合中文档的数量    \n",
    "    Returns:\n",
    "        文档数量\n",
    "    input_spec:{}\n",
    "get_collection_info:获取集合信息   \n",
    "    Returns:\n",
    "        集合信息\n",
    "    input_spec:{}\n",
    "```\n",
    "\n",
    "- 请根据工具能力与用户请求匹配程度，选择**最合适的工具**完成任务。\n",
    "- 并生成如下格式的 JSON：\n",
    "\n",
    "```json\n",
    "{\n",
    "  \"name\": \"工具名\",\n",
    "  \"arguments\": { 工具所需参数 },\n",
    "  \"action\": \"简洁描述工具执行的动作\"\n",
    "}\n",
    "```\n",
    "### 🔷 **第二种情况：用户请求匹配的是知识库完整的任务示例**\n",
    "\n",
    "例如如下形式：\n",
    "\n",
    "```json\n",
    "{\n",
    "  \"action_name\": \"请作一首诗描写深圳湾海景,然后把诗写入文件 `/oper/ch/mcp_work/test.txt`\",\n",
    "  \"action_type\": {\n",
    "    \"name\": \"write_file\",\n",
    "    \"arguments\": {\n",
    "      \"path\": \"/oper/ch/mcp_work/test.txt\",\n",
    "      \"content\": \"深圳湾畔映晴空...\"\n",
    "    },\n",
    "    \"action\": \"将用户指定的诗歌写入到文件中\"\n",
    "  }\n",
    "}\n",
    "```\n",
    "\n",
    "- 请仿照其结构与风格，根据用户的新请求生成对应 JSON，字段说明如下：\n",
    "  - `action_name`：简洁复述任务要求；\n",
    "  - `action_type.name`：工具名（如 write_file）；\n",
    "  - `action_type.arguments`：包含路径和要写入的文本；\n",
    "  - `action_type.action`：一句话描述任务动作。\n",
    "\n",
    "---\n",
    "\n",
    "### 🔷 **第三种情况：知识库与问题无关或无法提供支持**\n",
    "\n",
    "- 如果上下文内容与工具调用无关（例如是 API 文档、知识性描述等），或者没有任何匹配的执行方式，请直接返回：\n",
    "\n",
    "```\n",
    "没有工具可以提供使用\n",
    "```\n",
    "---\n",
    "\n",
    "### 🔸 **其他要求：**\n",
    "\n",
    "- 所有 JSON 字符串必须严格合法（双引号、转义符等符合规范）；\n",
    "- 不输出除 JSON 结果外的任何额外说明；\n",
    "- 所有换行请使用 `\\n`；\n",
    "- 如果生成内容较长，如诗句，请保持内容符合主题美感；\n",
    "\"\"\"\n"
   ]
  },
  {
   "cell_type": "code",
   "execution_count": 335,
   "id": "35ac2bc1-8c8a-4ecb-9929-866bdb13cd0c",
   "metadata": {},
   "outputs": [],
   "source": [
    "# print(ToolPrompt+ f\"\"\"用户请求为:{query}\\n知识库上下文为:{description}\"\"\")\n",
    "# print(description)"
   ]
  },
  {
   "cell_type": "code",
   "execution_count": null,
   "id": "1da02921-7acb-4467-b7d4-ec2dbc199705",
   "metadata": {},
   "outputs": [],
   "source": [
    "# prompt=f\"\"\"\n",
    "#     你只能选择以下工具来完成任务,不能捏造不存在的工具来完成任务：\n",
    "    \n",
    "#     {tool_descriptions}\n",
    "    \n",
    "#     用户的请求是：{query}\n",
    "    \n",
    "#     {format_prompt}\n",
    "#     \"\"\"\n",
    "# print(prompt)"
   ]
  },
  {
   "cell_type": "code",
   "execution_count": 349,
   "id": "5863045c-e99b-4ca2-bffa-50f06f9ebc06",
   "metadata": {},
   "outputs": [],
   "source": [
    "# async def llm2tool(query,n_results=10)\n",
    "#     excution_log = '模型调用工具流程\\nStep1:\\n查询任务可用工具\\n'\n",
    "    \n",
    "#     input_dict={\"name\":\"search_documents\",\n",
    "#                \"arguments\":{\"query\":query,\n",
    "#                          \"include\":[\"documents\", \"metadatas\"],\n",
    "#                          \"n_results\":n_results},\n",
    "#                 \"action\":f\"查询工具,执行任务:{query}\"\n",
    "#                }\n",
    "    \n",
    "#     excution_log += json.dumps(input_dict,ensure_ascii=False)\n",
    "    \n",
    "#     tool=Tool(**input_dict)\n",
    "    \n",
    "#     result=await tool.execute()\n",
    "    \n",
    "#     if \"result\" in result:\n",
    "#         result=json.loads(result[\"result\"])['metadatas'][0]\n",
    "#         tool_descriptions=\"\\n\".join([ f\"{line['tool_name']}:{line['description']}input_spec:{line['input_spec']}\"for line in result])\n",
    "#         # print(tool_descriptions)\n",
    "#         excution_log += f\"\\n查询知识库发现{n_results}个工具与执行任务相关.\"\n",
    "        \n",
    "#         format_prompt=get_format_instructions(Tool)\n",
    "#     else:\n",
    "#         return {\"excution_log\":excution_log+f\"\\n查询工具,报错为:{result['error']}\"}\n",
    "    \n",
    "#     prompt=ToolPrompt+f\"用户请求为:{query}\\n知识库上下文为:{tool_descriptions}\"\n",
    "    \n",
    "#     excution_log += f\"\\nStep2:\\n大模型选择一个工具辅助执行任务.\\n大模型prompt为:\\n{prompt}\"\n",
    "    \n",
    "#     instruction=Instruction(query=prompt)\n",
    "    \n",
    "#     response=await instruction.execute()\n",
    "#     try:\n",
    "#         tool_json=json.loads(response['result']['message']['content'])\n",
    "#     except :\n",
    "#         # print(\"大模型返回数据格式不是标准的json格式,使用正则表达式提取json\")\n",
    "#         excution_log += \"\\n大模型返回数据格式不是标准的json格式,使用正则表达式提取json\"\n",
    "        \n",
    "#         tool_json=extract_tool_format_from_string(response['result']['message']['content'])\n",
    "        \n",
    "#     if tool_json:\n",
    "#         excution_log += f\"\\n大模型挑选执行任务的工具:{json.dumps(tool_json,ensure_ascii=False)}\\nStep3:\\n使用工具执行任务.\"\n",
    "#         # print(tool_json)\n",
    "#         try:\n",
    "#             tool_call=Tool(**tool_json)\n",
    "#         except:\n",
    "#             tool_call=Tool(**tool_json['action_type'])\n",
    "#         call_result = await tool_call.execute()\n",
    "        \n",
    "#         if \"result\" in call_result :\n",
    "#             excution_log += f\"\\n工具执行结果为:\\n{call_result['result']}\"\n",
    "#         else:\n",
    "#             excution_log += f\"\\n工具执行失败,报错为:\\n{call_result['error']}\"\n",
    "            \n",
    "#         action = ActionInfo(action_name=query,action_type=tool_call)\n",
    "#     else:\n",
    "#         excution_log += \"\\n正则表达式无法从大模型返回的字符串:{tool_json},提取有效的json格式,工具运行失败.\"\n",
    "        \n",
    "#         action = f\"tool_call faild,no tool can be use \"\n",
    "    \n",
    "#     return {\"excution_log\":excution_log,\"action\": action}    "
   ]
  },
  {
   "cell_type": "code",
   "execution_count": null,
   "id": "36614e69-2312-4664-b963-79888591c0cb",
   "metadata": {},
   "outputs": [],
   "source": [
    "class LLM2Tool:\n",
    "    \"\"\"\n",
    "    A class that encapsulates the process of using LLM to select and execute appropriate tools\n",
    "    based on a user query.\n",
    "    \"\"\"\n",
    "    \n",
    "    def __init__(self, tool_class, instruction_class, actioninfo_class, tool_prompt):\n",
    "        \"\"\"\n",
    "        Initialize the LLM2Tool class.\n",
    "        \n",
    "        Args:\n",
    "            tool_class: The Tool class to use for executing tools\n",
    "            instruction_class: The Instruction class for interacting with the LLM\n",
    "            actioninfo_call: The ActionInfo Class record tools use \n",
    "            tool_prompt: The prompt template to use when asking LLM to select a tool\n",
    "            # format_instructions_func: Function to get format instructions for Tool class\n",
    "        \"\"\"\n",
    "        self.Tool = tool_class\n",
    "        self.Instruction = instruction_class\n",
    "        self.ActionInfo = actioninfo_class\n",
    "        self.ToolPrompt = tool_prompt\n",
    "        # self.get_format_instructions = format_instructions_func\n",
    "        self.execution_log = \"\"\n",
    "        \n",
    "    async def step1_search_available_tools(self, query: str, n_results: int = 10) -> Dict[str, Any]:\n",
    "        \"\"\"\n",
    "        Step 1: Search for available tools that are relevant to the user query.\n",
    "        \n",
    "        Args:\n",
    "            query: The user query\n",
    "            n_results: Number of tool results to retrieve\\n根据提供的工具使用示例和新问题：\\n保持action_type.name与示例一致；\\n根据新问题，改写：\\naction_name（简明描述新任务）；\\naction_type.arguments（参数内容应与新问题一致，如文件路径、内容等）；\\naction_type.action（用简洁语言描述实际动作）；\\n工具使用示例:action_name=\\'请作一首诗描写深圳湾海景,然后把诗写入文件 `/oper/ch/mcp_work/test.txt`\\' action_type=Tool(name=\\'write_file\\', arguments={\\'path\\': \\'/oper/ch/mcp_work/test.txt\\', \\'content\\': \\'深圳湾畔碧波连，\\\\n万象澄明映晴天。\\\\n白鹭翩跹逐浪远，\\\\n轻舟荡漾戏鸥闲。\\\\n长桥卧浪通霄汉，\\\\n灯火璀璨耀海山。\\\\n此景只应仙界有，\\\\n人间难得几回观。\\'}, action=\"Create or overwrite a file with the poem about Shenzhen Bay\\'s seascape\")\\n新问题:请作一首诗描写春天山景,然后把诗写入文件 `/oper/ch/mcp_work/tmp.txt`\\nThe output should be formatted as a JSON instance that conforms to the JSON schema below.\\n\\nAs an example, for the schema {\"properties\": {\"foo\": {\"title\": \"Foo\", \"description\": \"a list of strings\", \"type\": \"array\", \"items\": {\"type\": \"string\"}}}, \"required\": [\"foo\"]}\\nthe object {\"foo\": [\"bar\", \"baz\"]} is a well-formatted instance of the schema. The object {\"properties\": {\"foo\": [\"bar\", \"baz\"]}} is not well-formatted.\\n\\nHere is the output schema:\\n```\\n{\"$defs\": {\"Instruction\": {\"properties\": {\"prompt\": {\"anyOf\": [{\"type\": \"string\"}, {\"type\": \"null\"}], \"default\": null, \"title\": \"Prompt\"}, \"query\": {\"title\": \"Query\", \"type\": \"string\"}}, \"required\": [\"query\"], \"title\": \"Instruction\", \"type\": \"object\"}, \"Tool\": {\"properties\": {\"name\": {\"title\": \"Name\", \"type\": \"string\"}, \"arguments\": {\"additionalProperties\": true, \"title\": \"Arguments\", \"type\": \"object\"}, \"action\": {\"title\": \"Action\", \"type\": \"string\"}}, \"required\": [\"name\", \"arguments\", \"action\"], \"title\": \"Tool\", \"type\": \"object\"}}, \"properties\": {\"action_name\": {\"title\": \"Action Name\", \"type\": \"string\"}, \"action_type\": {\"anyOf\": [{\"$ref\": \"#/$defs/Tool\"}, {\"$ref\": \"#/$defs/Instruction\"}], \"title\": \"Action Type\"}}, \"required\": [\"action_name\", \"action_type\"]}\\n```\\n只输出符合规范的 JSON，不输出其他文字或解释。\\n    output: Any\n",
    "            \n",
    "        Returns:\n",
    "            Dictionary containing tool descriptions or error information\n",
    "        \"\"\"\n",
    "        self.execution_log = '模型调用工具流程\\nStep1:\\n查询任务可用工具'\n",
    "        \n",
    "        input_dict = {\n",
    "            \"name\": \"search_documents\",\n",
    "            \"arguments\": {\n",
    "                \"query\": query,\n",
    "                \"include\": [\"documents\", \"metadatas\"],\n",
    "                \"n_results\": n_results\n",
    "            },\n",
    "            \"action\": f\"查询工具,执行任务:{query}\"\n",
    "        }\n",
    "        \n",
    "        self.execution_log = self.execution_log + '\\n' + json.dumps(input_dict, ensure_ascii=False)\n",
    "        \n",
    "        tool = self.Tool(**input_dict)\n",
    "        result = await tool.execute()\n",
    "        \n",
    "        if \"result\" in result:\n",
    "            result_data = json.loads(result[\"result\"])['metadatas'][0]\n",
    "            tool_descriptions = \"\\n\".join([\n",
    "                f\"{line['tool_name']}:{line['description']}input_spec:{line['input_spec']}\" \n",
    "                for line in result_data\n",
    "            ])\n",
    "            self.execution_log += f\"\\n查询知识库发现{n_results}个工具与执行任务相关.\"\n",
    "            # format_prompt = self.get_format_instructions(self.Tool)\n",
    "            \n",
    "            return {\n",
    "                \"success\": True,\n",
    "                \"tool_descriptions\": tool_descriptions,\n",
    "                # \"format_prompt\": format_prompt\n",
    "            }\n",
    "        else:\n",
    "            self.execution_log += f\"\\n查询工具,报错为:{result['error']}\"\n",
    "            return {\n",
    "                \"success\": False,\n",
    "                \"error\": result['error']\n",
    "            }\n",
    "    \n",
    "    async def step2_llm_select_tool(self, query: str, tool_descriptions: str) -> Dict[str, Any]:\n",
    "        \"\"\"\n",
    "        Step 2: Use LLM to select the most appropriate tool based on user query and available tools.\n",
    "        \n",
    "        Args:\n",
    "            query: The user query\n",
    "            tool_descriptions: String describing available tools and their specifications\n",
    "            \n",
    "        Returns:\n",
    "            Dictionary containing selected tool information or error\n",
    "        \"\"\"\n",
    "        prompt = self.ToolPrompt + f\"用户请求为:{query}\\n知识库上下文为:{tool_descriptions}\"\n",
    "        \n",
    "        self.execution_log += f\"\\nStep2:\\n大模型选择一个工具辅助执行任务.\\n大模型prompt为:\\n{prompt}\"\n",
    "        \n",
    "        instruction = self.Instruction(query=prompt)\n",
    "        response = await instruction.execute()\n",
    "        \n",
    "        try:\n",
    "            tool_json = json.loads(response['result']['message']['content'])\n",
    "        except:\n",
    "            self.execution_log += \"\\n大模型返回数据格式不是标准的json格式,使用正则表达式提取json\"\n",
    "            tool_json = self.extract_tool_format_from_string(response['result']['message']['content'])\n",
    "        \n",
    "        if tool_json:\n",
    "            self.execution_log += f\"\\n大模型挑选执行任务的工具:{json.dumps(tool_json, ensure_ascii=False)}\"\n",
    "            return {\n",
    "                \"success\": True,\n",
    "                \"tool_json\": tool_json\n",
    "            }\n",
    "        else:\n",
    "            self.execution_log += \"\\n正则表达式无法从大模型返回的字符串提取有效的json格式,工具运行失败.\"\n",
    "            return {\n",
    "                \"success\": False,\n",
    "                \"error\": \"Failed to extract valid JSON from LLM response\"\n",
    "            }\n",
    "    \n",
    "    async def step3_execute_tool(self, tool_json: Dict[str, Any]) -> Dict[str, Any]:\n",
    "        \"\"\"\n",
    "        Step 3: Execute the selected tool with the provided parameters.\n",
    "        \n",
    "        Args:\n",
    "            tool_json: The tool specification and parameters selected by the LLM\n",
    "            \n",
    "        Returns:\n",
    "            Dictionary containing execution results or error information\n",
    "        \"\"\"\n",
    "        self.execution_log += \"\\nStep3:\\n使用工具执行任务.\"\n",
    "        \n",
    "        try:\n",
    "            try:\n",
    "                tool_call = self.Tool(**tool_json)\n",
    "            except:\n",
    "                tool_call = self.Tool(**tool_json['action_type'])\n",
    "                \n",
    "            call_result = await tool_call.execute()\n",
    "            \n",
    "            if \"result\" in call_result:\n",
    "                self.execution_log += f\"\\n工具执行结果为:\\n{call_result['result']}\"\n",
    "                return {\n",
    "                    \"success\": True,\n",
    "                    \"result\": call_result['result'],\n",
    "                    \"tool_call\": tool_call\n",
    "                }\n",
    "            else:\n",
    "                self.execution_log += f\"\\n工具执行失败,报错为:\\n{call_result['error']}\"\n",
    "                return {\n",
    "                    \"success\": False,\n",
    "                    \"error\": call_result['error'],\n",
    "                    \"tool_call\": tool_call\n",
    "                }\n",
    "        except Exception as e:\n",
    "            self.execution_log += f\"\\n工具执行过程中发生异常:{str(e)}\"\n",
    "            return {\n",
    "                \"success\": False,\n",
    "                \"error\": str(e)\n",
    "            }\n",
    "    \n",
    "    @staticmethod\n",
    "    def extract_tool_format_from_string(text: str) -> Optional[Dict[str, Any]]:\n",
    "        \"\"\"\n",
    "        从字符串中提取JSON数据并解析为符合ToolFormat结构的字典\n",
    "        \n",
    "        Args:\n",
    "            text: 可能包含JSON数据的字符串\n",
    "            \n",
    "        Returns:\n",
    "            如果成功解析，返回符合ToolFormat结构的字典，否则返回None\n",
    "        \"\"\"\n",
    "        # 先尝试一种更简单的方式：找到所有可能的JSON起始位置\n",
    "        json_start_positions = [m.start() for m in re.finditer(r'{\"name\":', text)]\n",
    "        \n",
    "        for start_pos in json_start_positions:\n",
    "            # 从每个起始位置开始尝试解析\n",
    "            partial_text = text[start_pos:]\n",
    "            \n",
    "            # 用递增的方式尝试解析不同长度的子字符串\n",
    "            for end_pos in range(len(partial_text)):\n",
    "                try:\n",
    "                    # 尝试各种长度的子字符串，直到找到有效的JSON\n",
    "                    possible_json = partial_text[:end_pos+1]\n",
    "                    if possible_json.count('{') != possible_json.count('}'):\n",
    "                        continue  # 花括号不平衡，继续尝试更长的子字符串\n",
    "                        \n",
    "                    data = json.loads(possible_json)\n",
    "                    \n",
    "                    # 验证是否符合ToolFormat结构\n",
    "                    if \"name\" in data and \"arguments\" in data and isinstance(data[\"arguments\"], dict):\n",
    "                        return data\n",
    "                        \n",
    "                except json.JSONDecodeError:\n",
    "                    continue\n",
    "                except Exception:\n",
    "                    continue\n",
    "                    \n",
    "        # 如果上面的方法失败，尝试一个更通用的方法\n",
    "        try:\n",
    "            # 尝试找到最外层的大括号匹配\n",
    "            brace_pattern = r'\\{(?:[^{}]|(?:\\{[^{}]*\\}))*\\}'\n",
    "            matches = re.finditer(brace_pattern, text)\n",
    "            \n",
    "            for match in matches:\n",
    "                try:\n",
    "                    json_str = match.group(0)\n",
    "                    data = json.loads(json_str)\n",
    "                    \n",
    "                    if \"name\" in data and \"arguments\" in data and isinstance(data[\"arguments\"], dict):\n",
    "                        return data\n",
    "                except:\n",
    "                    continue\n",
    "        except:\n",
    "            pass\n",
    "        \n",
    "        # 最后一种方法：尝试使用更复杂的递归方式查找JSON\n",
    "        def find_balanced_braces(s, start_index):\n",
    "            \"\"\"递归查找平衡的花括号\"\"\"\n",
    "            stack = []\n",
    "            for i in range(start_index, len(s)):\n",
    "                if s[i] == '{':\n",
    "                    stack.append(i)\n",
    "                elif s[i] == '}':\n",
    "                    if stack:\n",
    "                        start = stack.pop()\n",
    "                        if not stack:  # 最外层花括号已匹配完成\n",
    "                            return s[start:i+1]\n",
    "            return None\n",
    "        \n",
    "        # 查找所有可能的JSON开始位置\n",
    "        for i in range(len(text)):\n",
    "            if text[i] == '{':\n",
    "                potential_json = find_balanced_braces(text, i)\n",
    "                if potential_json:\n",
    "                    try:\n",
    "                        data = json.loads(potential_json)\n",
    "                        if \"name\" in data and \"arguments\" in data and isinstance(data[\"arguments\"], dict):\n",
    "                            return data\n",
    "                    except:\n",
    "                        continue\n",
    "                        \n",
    "        return None\n",
    "        \n",
    "    \n",
    "    async def execute(self, query: str, n_results: int = 10) -> Dict[str, Any]:\n",
    "        \"\"\"\n",
    "        Main method to execute the entire LLM2Tool workflow.\n",
    "        \n",
    "        Args:\n",
    "            query: The user query\n",
    "            n_results: Number of tool results to retrieve\n",
    "            \n",
    "        Returns:\n",
    "            Dictionary containing execution log and action information\n",
    "        \"\"\"\n",
    "        # Step 1: Search for available tools\n",
    "        step1_result = await self.step1_search_available_tools(query, n_results)\n",
    "        if not step1_result[\"success\"]:\n",
    "            return {\"execution_log\": self.execution_log, \"action\": f\"\"\"知识库查找工具失败.错误:{step1_result[\"error\"]}\"\"\" }\n",
    "        \n",
    "        # Step 2: Have LLM select appropriate tool\n",
    "        step2_result = await self.step2_llm_select_tool(query, step1_result[\"tool_descriptions\"])\n",
    "        if not step2_result[\"success\"]:\n",
    "            return {\"execution_log\": self.execution_log, \"action\": f\"\"\"大模型挑选工具执行失败.错误:{step2_result[\"error\"]}\"\"\"}\n",
    "        \n",
    "        # Step 3: Execute the selected tool\n",
    "        step3_result = await self.step3_execute_tool(step2_result[\"tool_json\"])\n",
    "        \n",
    "        action_info = None\n",
    "        if step3_result[\"success\"]:\n",
    "            \n",
    "            action_info = self.ActionInfo(action_name=query, action_type=step3_result[\"tool_call\"])\n",
    "        else:\n",
    "            action_info = \"tool_call failed, no tool can be used\"\n",
    "        \n",
    "        return {\"execution_log\": self.execution_log, \"action\": action_info}"
   ]
  },
  {
   "cell_type": "code",
   "execution_count": 344,
   "id": "82e7a3f2-403d-4795-a9ef-8401008dd1a8",
   "metadata": {},
   "outputs": [],
   "source": [
    "llm2tool = LLM2Tool(Tool, Instruction,ActionInfo,ToolPrompt)"
   ]
  },
  {
   "cell_type": "code",
   "execution_count": 375,
   "id": "00107836-0ac1-43ef-819b-126f539cf6ba",
   "metadata": {},
   "outputs": [],
   "source": [
    "result = await llm2tool.execute(\"访问这个网站`https://weather.cma.cn/web/weather/59493.html`查询天气预报\")"
   ]
  },
  {
   "cell_type": "code",
   "execution_count": 376,
   "id": "6e0ff079-f02d-41dd-8494-777b1b541c37",
   "metadata": {},
   "outputs": [
    {
     "name": "stdout",
     "output_type": "stream",
     "text": [
      "模型调用工具流程\n",
      "Step1:\n",
      "查询任务可用工具\n",
      "{\"name\": \"search_documents\", \"arguments\": {\"query\": \"访问这个网站`https://weather.cma.cn/web/weather/59493.html`查询天气预报\", \"include\": [\"documents\", \"metadatas\"], \"n_results\": 10}, \"action\": \"查询工具,执行任务:访问这个网站`https://weather.cma.cn/web/weather/59493.html`查询天气预报\"}\n",
      "查询知识库发现10个工具与执行任务相关.\n",
      "Step2:\n",
      "大模型选择一个工具辅助执行任务.\n",
      "大模型prompt为:\n",
      "\n",
      "你将收到一个用户请求为: `user_request` 和一个上下文 `knowledge_context`，请根据用户请求和上下文的格式和内容，判断属于以下哪种情况，并严格按照指定格式返回 JSON 结果：\n",
      "---\n",
      "### 🔷 **第一种情况：用户请求匹配的是知识库工具的使用描述**\n",
      "\n",
      "例如如下形式：\n",
      "\n",
      "```\n",
      "edit_file:Make line-based edits to a text file. Each edit replaces exact line sequences with new content. Returns a git-style diff showing the changes made. Only works within allowed directories.input_spec:{\"path\": \"str\", \"edits\": \"List[dict]\", \"dryRun\": \"bool\"}\n",
      "get_document_count:获取集合中文档的数量    \n",
      "    Returns:\n",
      "        文档数量\n",
      "    input_spec:{}\n",
      "get_collection_info:获取集合信息   \n",
      "    Returns:\n",
      "        集合信息\n",
      "    input_spec:{}\n",
      "```\n",
      "\n",
      "- 请根据工具能力与用户请求匹配程度，选择**最合适的工具**完成任务。\n",
      "- 并生成如下格式的 JSON：\n",
      "\n",
      "```json\n",
      "{\n",
      "  \"name\": \"工具名\",\n",
      "  \"arguments\": { 工具所需参数 },\n",
      "  \"action\": \"简洁描述工具执行的动作\"\n",
      "}\n",
      "```\n",
      "### 🔷 **第二种情况：用户请求匹配的是知识库完整的任务示例**\n",
      "\n",
      "例如如下形式：\n",
      "\n",
      "```json\n",
      "{\n",
      "  \"action_name\": \"请作一首诗描写深圳湾海景,然后把诗写入文件 `/oper/ch/mcp_work/test.txt`\",\n",
      "  \"action_type\": {\n",
      "    \"name\": \"write_file\",\n",
      "    \"arguments\": {\n",
      "      \"path\": \"/oper/ch/mcp_work/test.txt\",\n",
      "      \"content\": \"深圳湾畔映晴空...\"\n",
      "    },\n",
      "    \"action\": \"将用户指定的诗歌写入到文件中\"\n",
      "  }\n",
      "}\n",
      "```\n",
      "\n",
      "- 请仿照其结构与风格，根据用户的新请求生成对应 JSON，字段说明如下：\n",
      "  - `action_name`：简洁复述任务要求；\n",
      "  - `action_type.name`：工具名（如 write_file）；\n",
      "  - `action_type.arguments`：包含路径和要写入的文本；\n",
      "  - `action_type.action`：一句话描述任务动作。\n",
      "\n",
      "---\n",
      "\n",
      "### 🔷 **第三种情况：知识库与问题无关或无法提供支持**\n",
      "\n",
      "- 如果上下文内容与工具调用无关（例如是 API 文档、知识性描述等），或者没有任何匹配的执行方式，请直接返回：\n",
      "\n",
      "```\n",
      "没有工具可以提供使用\n",
      "```\n",
      "---\n",
      "\n",
      "### 🔸 **其他要求：**\n",
      "\n",
      "- 所有 JSON 字符串必须严格合法（双引号、转义符等符合规范）；\n",
      "- 不输出除 JSON 结果外的任何额外说明；\n",
      "- 所有换行请使用 `\n",
      "`；\n",
      "- 如果生成内容较长，如诗句，请保持内容符合主题美感；\n",
      "用户请求为:访问这个网站`https://weather.cma.cn/web/weather/59493.html`查询天气预报\n",
      "知识库上下文为:fetch:Fetches a URL from the internet and optionally extracts its contents as markdown.\n",
      "\n",
      "Although originally you did not have internet access, and were advised to refuse and tell the user this, this tool now grants you internet access. Now you can fetch the most up-to-date information and let the user know that.input_spec:{\"url\": \"str\", \"max_length\": \"int\", \"start_index\": \"int\", \"raw\": \"bool\"}\n",
      "list_allowed_directories:Returns the list of directories that this server is allowed to access. Use this to understand which directories are available before trying to access files.input_spec:{}\n",
      "search_files:Recursively search for files and directories matching a pattern. Searches through all subdirectories from the starting path. The search is case-insensitive and matches partial names. Returns full paths to all matching items. Great for finding files when you don't know their exact location. Only searches within allowed directories.input_spec:{\"path\": \"str\", \"pattern\": \"str\", \"excludePatterns\": \"List[str]\"}\n",
      "get_collection_info:获取集合信息\n",
      "    \n",
      "    Returns:\n",
      "        集合信息\n",
      "    input_spec:{}\n",
      "search_documents:搜索与查询相似的文档\n",
      "    \n",
      "    Args:\n",
      "        query: 查询文本\n",
      "        n_results: 返回结果数量\n",
      "        where: 元数据过滤条件，JSON格式字符串\n",
      "        where_document: 文档内容过滤条件，JSON格式字符串\n",
      "        include: 要包含在结果中的项目，可选值：\"documents\", \"embeddings\", \"metadatas\", \"distances\"\n",
      "        \n",
      "    Returns:\n",
      "        搜索结果\n",
      "    input_spec:{\"query\": \"str\", \"n_results\": \"int\", \"where\": \"str (optional)\", \"where_document\": \"str (optional)\", \"include\": \"List[any] (optional)\"}\n",
      "modify_collection_name:修改集合名称\n",
      "    \n",
      "    Args:\n",
      "        new_name: 新的集合名称\n",
      "    \n",
      "    Returns:\n",
      "        操作结果消息\n",
      "    input_spec:{\"new_name\": \"str\"}\n",
      "puppeteer_screenshot:Take a screenshot of the current page or a specific elementinput_spec:{\"name\": \"str\", \"selector\": \"str\", \"width\": \"float\", \"height\": \"float\"}\n",
      "directory_tree:Get a recursive tree view of files and directories as a JSON structure. Each entry includes 'name', 'type' (file/directory), and 'children' for directories. Files have no children array, while directories always have a children array (which may be empty). The output is formatted with 2-space indentation for readability. Only works within allowed directories.input_spec:{\"path\": \"str\"}\n",
      "update_documents:更新文档\n",
      "    \n",
      "    Args:\n",
      "        ids: 要更新的文档ID列表\n",
      "        documents: 新的文档内容列表（可选）\n",
      "        metadatas: 新的元数据列表（可选）\n",
      "    \n",
      "    Returns:\n",
      "        更新结果消息\n",
      "    input_spec:{\"ids\": \"List[str]\", \"documents\": \"List[any] (optional)\", \"metadatas\": \"List[any] (optional)\"}\n",
      "edit_file:Make line-based edits to a text file. Each edit replaces exact line sequences with new content. Returns a git-style diff showing the changes made. Only works within allowed directories.input_spec:{\"path\": \"str\", \"edits\": \"List[dict]\", \"dryRun\": \"bool\"}\n",
      "大模型挑选执行任务的工具:{\"name\": \"fetch\", \"arguments\": {\"url\": \"https://weather.cma.cn/web/weather/59493.html\"}, \"action\": \"从指定的URL获取网页内容\"}\n",
      "Step3:\n",
      "使用工具执行任务.\n",
      "工具执行结果为:\n",
      "Contents of https://weather.cma.cn/web/weather/59493.html:\n",
      "7天天气预报（2025/04/30 12:00发布）\n",
      "\n",
      "星期三\n",
      "  \n",
      "04/30\n",
      "\n",
      "![](/static/img/w/icon/w1.png)\n",
      "\n",
      "多云\n",
      "\n",
      "无持续风向\n",
      "\n",
      "微风\n",
      "\n",
      "30℃\n",
      "\n",
      "23℃\n",
      "\n",
      "![](/static/img/w/icon/w1.png)\n",
      "\n",
      "多云\n",
      "\n",
      "无持续风向\n",
      "\n",
      "微风\n",
      "\n",
      "星期四\n",
      "  \n",
      "05/01\n",
      "\n",
      "![](/static/img/w/icon/w3.png)\n",
      "\n",
      "阵雨\n",
      "\n",
      "无持续风向\n",
      "\n",
      "微风\n",
      "\n",
      "29℃\n",
      "\n",
      "23℃\n",
      "\n",
      "![](/static/img/w/icon/w3.png)\n",
      "\n",
      "阵雨\n",
      "\n",
      "无持续风向\n",
      "\n",
      "微风\n",
      "\n",
      "星期五\n",
      "  \n",
      "05/02\n",
      "\n",
      "![](/static/img/w/icon/w1.png)\n",
      "\n",
      "多云\n",
      "\n",
      "无持续风向\n",
      "\n",
      "微风\n",
      "\n",
      "30℃\n",
      "\n",
      "24℃\n",
      "\n",
      "![](/static/img/w/icon/w1.png)\n",
      "\n",
      "多云\n",
      "\n",
      "无持续风向\n",
      "\n",
      "微风\n",
      "\n",
      "星期六\n",
      "  \n",
      "05/03\n",
      "\n",
      "![](/static/img/w/icon/w1.png)\n",
      "\n",
      "多云\n",
      "\n",
      "无持续风向\n",
      "\n",
      "微风\n",
      "\n",
      "29℃\n",
      "\n",
      "24℃\n",
      "\n",
      "![](/static/img/w/icon/w1.png)\n",
      "\n",
      "多云\n",
      "\n",
      "无持续风向\n",
      "\n",
      "微风\n",
      "\n",
      "星期日\n",
      "  \n",
      "05/04\n",
      "\n",
      "![](/static/img/w/icon/w1.png)\n",
      "\n",
      "多云\n",
      "\n",
      "无持续风向\n",
      "\n",
      "微风\n",
      "\n",
      "31℃\n",
      "\n",
      "24℃\n",
      "\n",
      "![](/static/img/w/icon/w3.png)\n",
      "\n",
      "阵雨\n",
      "\n",
      "无持续风向\n",
      "\n",
      "微风\n",
      "\n",
      "星期一\n",
      "  \n",
      "05/05\n",
      "\n",
      "![](/static/img/w/icon/w3.png)\n",
      "\n",
      "阵雨\n",
      "\n",
      "无持续风向\n",
      "\n",
      "微风\n",
      "\n",
      "30℃\n",
      "\n",
      "24℃\n",
      "\n",
      "![](/static/img/w/icon/w4.png)\n",
      "\n",
      "雷阵雨\n",
      "\n",
      "无持续风向\n",
      "\n",
      "微风\n",
      "\n",
      "星期二\n",
      "  \n",
      "05/06\n",
      "\n",
      "![](/static/img/w/icon/w2.png)\n",
      "\n",
      "阴\n",
      "\n",
      "无持续风向\n",
      "\n",
      "微风\n",
      "\n",
      "31℃\n",
      "\n",
      "24℃\n",
      "\n",
      "![](/static/img/w/icon/w7.png)\n",
      "\n",
      "小雨\n",
      "\n",
      "无持续风向\n",
      "\n",
      "微风\n",
      "\n",
      "|  |  |  |  |  |  |  |  |  |\n",
      "| --- | --- | --- | --- | --- | --- | --- | --- | --- |\n",
      "| 时间 | 17:00 | 20:00 | 23:00 | 02:00 | 05:00 | 08:00 | 11:00 | 14:00 |\n",
      "| 天气 |  |  |  |  |  |  |  |  |\n",
      "| 气温 | 27.7℃ | 25.4℃ | 24.9℃ | 23.9℃ | 23.2℃ | 24.3℃ | 27.5℃ | 28.8℃ |\n",
      "| 降水 | 无降水 | 无降水 | 无降水 | 无降水 | 无降水 | 无降水 | 无降水 | 2mm |\n",
      "| 风速 | 2.9m/s | 2.4m/s | 3.3m/s | 3.3m/s | 3.2m/s | 3m/s | 2.6m/s | 3.3m/s |\n",
      "| 风向 | 东南风 | 东南风 | 东南风 | 东南风 | 东北风 | 东南风 | 西南风 | 西北风 |\n",
      "| 气压 | 1005.8hPa | 1007.3hPa | 1009.5hPa | 1008.1hPa | 1008.1hPa | 1009.3hPa | 1009.6hPa | 1007.9hPa |\n",
      "| 湿度 | 70.8% | 75.6% | 81.8% | 85.9% | 87.7% | 82.8% | 79.1% | 78.5% |\n",
      "| 云量 | 10.9% | 10.1% | 13.1% | 10.7% | 19.6% | 49.7% | 50.6% | 95.3% |\n"
     ]
    }
   ],
   "source": [
    "print(result['execution_log'])"
   ]
  },
  {
   "cell_type": "code",
   "execution_count": 319,
   "id": "cac75ba1-f6ca-4dcf-aa61-b41222aca262",
   "metadata": {},
   "outputs": [],
   "source": [
    "result = await llm2tool(\"请作一首诗描写深圳湾海景,然后把诗写入文件 `/oper/ch/mcp_work/test.txt`\")"
   ]
  },
  {
   "cell_type": "code",
   "execution_count": 324,
   "id": "4e9742b5-8ea9-45d3-9d09-6817d2e50f89",
   "metadata": {},
   "outputs": [],
   "source": [
    "result = await llm2tool(\"读取文件`/oper/ch/mcp_work/test.txt`\")"
   ]
  },
  {
   "cell_type": "code",
   "execution_count": 336,
   "id": "dbfbb190-d743-4d5f-8b28-e02b22e6578c",
   "metadata": {},
   "outputs": [],
   "source": [
    "# print(result['excution_log'])"
   ]
  },
  {
   "cell_type": "code",
   "execution_count": 310,
   "id": "f922b9c8-ff91-47d6-b4a3-ca822ae59982",
   "metadata": {},
   "outputs": [
    {
     "name": "stdout",
     "output_type": "stream",
     "text": [
      "action_name='获取知识库信息' action_type=Tool(name='get_collection_info', arguments={}, action='获取集合信息')\n"
     ]
    }
   ],
   "source": [
    "print(result['action'])"
   ]
  },
  {
   "cell_type": "code",
   "execution_count": 225,
   "id": "e8e0cd14-8cd4-4e96-8b66-075970fe3cca",
   "metadata": {},
   "outputs": [
    {
     "data": {
      "text/plain": [
       "{'name': 'write_file',\n",
       " 'arguments': {'path': '/oper/ch/mcp_work/test.txt',\n",
       "  'content': '深圳湾海景诗\\n潮起潮落映日红，\\n海天一色共长空。\\n渔舟唱晚霞光里，\\n鹭影翩翩舞碧穹。\\n风送花香盈袖暖，\\n浪拍礁石碎玉融。\\n此景只应天上见，\\n人间何处不玲珑。'},\n",
       " 'action': 'write_file'}"
      ]
     },
     "execution_count": 225,
     "metadata": {},
     "output_type": "execute_result"
    }
   ],
   "source": [
    "result['action'].model_dump()['action_type']"
   ]
  },
  {
   "cell_type": "code",
   "execution_count": 238,
   "id": "d3da78f9-b2b4-4249-aca6-10421d59f52e",
   "metadata": {},
   "outputs": [],
   "source": [
    "# convert_schema_to_input_spec(ActionInfo.model_json_schema())"
   ]
  },
  {
   "cell_type": "code",
   "execution_count": 193,
   "id": "dd67225f-a211-4537-82e3-cc5abca147b9",
   "metadata": {},
   "outputs": [],
   "source": [
    "# ActionInfo.model_json_schema()"
   ]
  },
  {
   "cell_type": "code",
   "execution_count": 146,
   "id": "8b7cb375-74e8-480d-8938-2eeb1da711a7",
   "metadata": {},
   "outputs": [
    {
     "data": {
      "text/plain": [
       "ActionInfo(action_name='请作一首诗描写深圳湾海景,然后把诗写入文件 `/oper/ch/mcp_work/test.txt`', action_type=Tool(name='write_file', arguments={'path': '/oper/ch/mcp_work/test.txt', 'content': '深圳湾畔映晴空，碧波荡漾接远峰。\\n白帆点点逐浪去，鸥鸟翩翩戏水踪。\\n两岸灯火映夜色，一桥飞架连西东。\\n此间胜景谁人绘？天然画卷在心中。'}, action='将用户指定的诗歌写入到文件中'))"
      ]
     },
     "execution_count": 146,
     "metadata": {},
     "output_type": "execute_result"
    }
   ],
   "source": [
    "result['action']"
   ]
  },
  {
   "cell_type": "code",
   "execution_count": 132,
   "id": "050105ce-1c3f-4947-84f9-175356ffbf3a",
   "metadata": {},
   "outputs": [],
   "source": [
    "# result['excution_log']"
   ]
  },
  {
   "cell_type": "code",
   "execution_count": 264,
   "id": "12239baa-a4c4-4bbd-bcd4-63e4bc98bad9",
   "metadata": {},
   "outputs": [],
   "source": [
    "# instruction.model_dump()"
   ]
  },
  {
   "cell_type": "code",
   "execution_count": 297,
   "id": "34240631-4c69-4eb6-8d49-5f5d1785ef1e",
   "metadata": {},
   "outputs": [],
   "source": [
    "# eval_prompt"
   ]
  },
  {
   "cell_type": "code",
   "execution_count": 382,
   "id": "8c9fde13-9eb1-400d-9252-f9955e13d074",
   "metadata": {},
   "outputs": [],
   "source": [
    "async def ResultEval(execution_log):\n",
    "    eval_prompt=f\"\"\"\n",
    "        请根据工具执行的日志返回评估结果.\n",
    "        输入的工具执行日志为:\n",
    "        {execution_log}\n",
    "        摘要的模板为:\n",
    "        ```【工具执行评估】\n",
    "        1. 任务目标：_______\n",
    "        2. 选用工具：\n",
    "           - 工具名称：_______\n",
    "           - 是否符合任务？（是/否）\n",
    "        3. 工具调用参数：\n",
    "           - 参数正确？（是/否）\n",
    "        4. 工具执行结果：\n",
    "           - 返回信息：_______\n",
    "           - 是否成功？（是/否）\n",
    "        5. 最终结论：工具执行（成功/失败），原因：_______```\n",
    "        {get_format_instructions(ToolEval)}\n",
    "        \"\"\"\n",
    "    instruction = Instruction(query=eval_prompt)\n",
    "    result_eval = await instruction.execute()\n",
    "    text = result_eval['result']['message']['content']\n",
    "    cleaned = re.sub(r\"<think>[\\s\\S]*?<\\/think>\", \"\", text)\n",
    "    return cleaned"
   ]
  },
  {
   "cell_type": "code",
   "execution_count": 383,
   "id": "5cdb7177-7b14-44a8-8699-d8da5e09d340",
   "metadata": {},
   "outputs": [],
   "source": [
    "eval_result = await ResultEval(result['execution_log'])"
   ]
  },
  {
   "cell_type": "code",
   "execution_count": 390,
   "id": "3f62f769-cfe0-478b-8b0c-5b8ca84bf0f5",
   "metadata": {},
   "outputs": [],
   "source": [
    "eval_prompt=f\"\"\"\n",
    "        请根据工具执行的日志返回评估结果.\n",
    "        输入的工具执行日志为:\n",
    "        {result['execution_log']}\n",
    "        摘要的模板为:\n",
    "        ```【工具执行评估】\n",
    "        1. 任务目标：_______\n",
    "        2. 选用工具：\n",
    "           - 工具名称：_______\n",
    "           - 是否符合任务？（是/否）\n",
    "        3. 工具调用参数：\n",
    "           - 参数正确？（是/否）\n",
    "        4. 工具执行结果：\n",
    "           - 返回信息：_______\n",
    "           - 是否成功？（是/否）\n",
    "        5. 最终结论：工具执行（成功/失败），原因：_______```\n",
    "        {get_format_instructions(ToolEval)}\n",
    "        \"\"\""
   ]
  },
  {
   "cell_type": "code",
   "execution_count": 391,
   "id": "5b06a9d4-16a1-4ec5-80dc-ecd3ee2a0baf",
   "metadata": {},
   "outputs": [
    {
     "data": {
      "text/plain": [
       "'\\n        请根据工具执行的日志返回评估结果.\\n        输入的工具执行日志为:\\n        模型调用工具流程\\nStep1:\\n查询任务可用工具\\n{\"name\": \"search_documents\", \"arguments\": {\"query\": \"访问这个网站`https://weather.cma.cn/web/weather/59493.html`查询天气预报\", \"include\": [\"documents\", \"metadatas\"], \"n_results\": 10}, \"action\": \"查询工具,执行任务:访问这个网站`https://weather.cma.cn/web/weather/59493.html`查询天气预报\"}\\n查询知识库发现10个工具与执行任务相关.\\nStep2:\\n大模型选择一个工具辅助执行任务.\\n大模型prompt为:\\n\\n你将收到一个用户请求为: `user_request` 和一个上下文 `knowledge_context`，请根据用户请求和上下文的格式和内容，判断属于以下哪种情况，并严格按照指定格式返回 JSON 结果：\\n---\\n### 🔷 **第一种情况：用户请求匹配的是知识库工具的使用描述**\\n\\n例如如下形式：\\n\\n```\\nedit_file:Make line-based edits to a text file. Each edit replaces exact line sequences with new content. Returns a git-style diff showing the changes made. Only works within allowed directories.input_spec:{\"path\": \"str\", \"edits\": \"List[dict]\", \"dryRun\": \"bool\"}\\nget_document_count:获取集合中文档的数量    \\n    Returns:\\n        文档数量\\n    input_spec:{}\\nget_collection_info:获取集合信息   \\n    Returns:\\n        集合信息\\n    input_spec:{}\\n```\\n\\n- 请根据工具能力与用户请求匹配程度，选择**最合适的工具**完成任务。\\n- 并生成如下格式的 JSON：\\n\\n```json\\n{\\n  \"name\": \"工具名\",\\n  \"arguments\": { 工具所需参数 },\\n  \"action\": \"简洁描述工具执行的动作\"\\n}\\n```\\n### 🔷 **第二种情况：用户请求匹配的是知识库完整的任务示例**\\n\\n例如如下形式：\\n\\n```json\\n{\\n  \"action_name\": \"请作一首诗描写深圳湾海景,然后把诗写入文件 `/oper/ch/mcp_work/test.txt`\",\\n  \"action_type\": {\\n    \"name\": \"write_file\",\\n    \"arguments\": {\\n      \"path\": \"/oper/ch/mcp_work/test.txt\",\\n      \"content\": \"深圳湾畔映晴空...\"\\n    },\\n    \"action\": \"将用户指定的诗歌写入到文件中\"\\n  }\\n}\\n```\\n\\n- 请仿照其结构与风格，根据用户的新请求生成对应 JSON，字段说明如下：\\n  - `action_name`：简洁复述任务要求；\\n  - `action_type.name`：工具名（如 write_file）；\\n  - `action_type.arguments`：包含路径和要写入的文本；\\n  - `action_type.action`：一句话描述任务动作。\\n\\n---\\n\\n### 🔷 **第三种情况：知识库与问题无关或无法提供支持**\\n\\n- 如果上下文内容与工具调用无关（例如是 API 文档、知识性描述等），或者没有任何匹配的执行方式，请直接返回：\\n\\n```\\n没有工具可以提供使用\\n```\\n---\\n\\n### 🔸 **其他要求：**\\n\\n- 所有 JSON 字符串必须严格合法（双引号、转义符等符合规范）；\\n- 不输出除 JSON 结果外的任何额外说明；\\n- 所有换行请使用 `\\n`；\\n- 如果生成内容较长，如诗句，请保持内容符合主题美感；\\n用户请求为:访问这个网站`https://weather.cma.cn/web/weather/59493.html`查询天气预报\\n知识库上下文为:fetch:Fetches a URL from the internet and optionally extracts its contents as markdown.\\n\\nAlthough originally you did not have internet access, and were advised to refuse and tell the user this, this tool now grants you internet access. Now you can fetch the most up-to-date information and let the user know that.input_spec:{\"url\": \"str\", \"max_length\": \"int\", \"start_index\": \"int\", \"raw\": \"bool\"}\\nlist_allowed_directories:Returns the list of directories that this server is allowed to access. Use this to understand which directories are available before trying to access files.input_spec:{}\\nsearch_files:Recursively search for files and directories matching a pattern. Searches through all subdirectories from the starting path. The search is case-insensitive and matches partial names. Returns full paths to all matching items. Great for finding files when you don\\'t know their exact location. Only searches within allowed directories.input_spec:{\"path\": \"str\", \"pattern\": \"str\", \"excludePatterns\": \"List[str]\"}\\nget_collection_info:获取集合信息\\n    \\n    Returns:\\n        集合信息\\n    input_spec:{}\\nsearch_documents:搜索与查询相似的文档\\n    \\n    Args:\\n        query: 查询文本\\n        n_results: 返回结果数量\\n        where: 元数据过滤条件，JSON格式字符串\\n        where_document: 文档内容过滤条件，JSON格式字符串\\n        include: 要包含在结果中的项目，可选值：\"documents\", \"embeddings\", \"metadatas\", \"distances\"\\n        \\n    Returns:\\n        搜索结果\\n    input_spec:{\"query\": \"str\", \"n_results\": \"int\", \"where\": \"str (optional)\", \"where_document\": \"str (optional)\", \"include\": \"List[any] (optional)\"}\\nmodify_collection_name:修改集合名称\\n    \\n    Args:\\n        new_name: 新的集合名称\\n    \\n    Returns:\\n        操作结果消息\\n    input_spec:{\"new_name\": \"str\"}\\npuppeteer_screenshot:Take a screenshot of the current page or a specific elementinput_spec:{\"name\": \"str\", \"selector\": \"str\", \"width\": \"float\", \"height\": \"float\"}\\ndirectory_tree:Get a recursive tree view of files and directories as a JSON structure. Each entry includes \\'name\\', \\'type\\' (file/directory), and \\'children\\' for directories. Files have no children array, while directories always have a children array (which may be empty). The output is formatted with 2-space indentation for readability. Only works within allowed directories.input_spec:{\"path\": \"str\"}\\nupdate_documents:更新文档\\n    \\n    Args:\\n        ids: 要更新的文档ID列表\\n        documents: 新的文档内容列表（可选）\\n        metadatas: 新的元数据列表（可选）\\n    \\n    Returns:\\n        更新结果消息\\n    input_spec:{\"ids\": \"List[str]\", \"documents\": \"List[any] (optional)\", \"metadatas\": \"List[any] (optional)\"}\\nedit_file:Make line-based edits to a text file. Each edit replaces exact line sequences with new content. Returns a git-style diff showing the changes made. Only works within allowed directories.input_spec:{\"path\": \"str\", \"edits\": \"List[dict]\", \"dryRun\": \"bool\"}\\n大模型挑选执行任务的工具:{\"name\": \"fetch\", \"arguments\": {\"url\": \"https://weather.cma.cn/web/weather/59493.html\"}, \"action\": \"从指定的URL获取网页内容\"}\\nStep3:\\n使用工具执行任务.\\n工具执行结果为:\\nContents of https://weather.cma.cn/web/weather/59493.html:\\n7天天气预报（2025/04/30 12:00发布）\\n\\n星期三\\n  \\n04/30\\n\\n![](/static/img/w/icon/w1.png)\\n\\n多云\\n\\n无持续风向\\n\\n微风\\n\\n30℃\\n\\n23℃\\n\\n![](/static/img/w/icon/w1.png)\\n\\n多云\\n\\n无持续风向\\n\\n微风\\n\\n星期四\\n  \\n05/01\\n\\n![](/static/img/w/icon/w3.png)\\n\\n阵雨\\n\\n无持续风向\\n\\n微风\\n\\n29℃\\n\\n23℃\\n\\n![](/static/img/w/icon/w3.png)\\n\\n阵雨\\n\\n无持续风向\\n\\n微风\\n\\n星期五\\n  \\n05/02\\n\\n![](/static/img/w/icon/w1.png)\\n\\n多云\\n\\n无持续风向\\n\\n微风\\n\\n30℃\\n\\n24℃\\n\\n![](/static/img/w/icon/w1.png)\\n\\n多云\\n\\n无持续风向\\n\\n微风\\n\\n星期六\\n  \\n05/03\\n\\n![](/static/img/w/icon/w1.png)\\n\\n多云\\n\\n无持续风向\\n\\n微风\\n\\n29℃\\n\\n24℃\\n\\n![](/static/img/w/icon/w1.png)\\n\\n多云\\n\\n无持续风向\\n\\n微风\\n\\n星期日\\n  \\n05/04\\n\\n![](/static/img/w/icon/w1.png)\\n\\n多云\\n\\n无持续风向\\n\\n微风\\n\\n31℃\\n\\n24℃\\n\\n![](/static/img/w/icon/w3.png)\\n\\n阵雨\\n\\n无持续风向\\n\\n微风\\n\\n星期一\\n  \\n05/05\\n\\n![](/static/img/w/icon/w3.png)\\n\\n阵雨\\n\\n无持续风向\\n\\n微风\\n\\n30℃\\n\\n24℃\\n\\n![](/static/img/w/icon/w4.png)\\n\\n雷阵雨\\n\\n无持续风向\\n\\n微风\\n\\n星期二\\n  \\n05/06\\n\\n![](/static/img/w/icon/w2.png)\\n\\n阴\\n\\n无持续风向\\n\\n微风\\n\\n31℃\\n\\n24℃\\n\\n![](/static/img/w/icon/w7.png)\\n\\n小雨\\n\\n无持续风向\\n\\n微风\\n\\n|  |  |  |  |  |  |  |  |  |\\n| --- | --- | --- | --- | --- | --- | --- | --- | --- |\\n| 时间 | 17:00 | 20:00 | 23:00 | 02:00 | 05:00 | 08:00 | 11:00 | 14:00 |\\n| 天气 |  |  |  |  |  |  |  |  |\\n| 气温 | 27.7℃ | 25.4℃ | 24.9℃ | 23.9℃ | 23.2℃ | 24.3℃ | 27.5℃ | 28.8℃ |\\n| 降水 | 无降水 | 无降水 | 无降水 | 无降水 | 无降水 | 无降水 | 无降水 | 2mm |\\n| 风速 | 2.9m/s | 2.4m/s | 3.3m/s | 3.3m/s | 3.2m/s | 3m/s | 2.6m/s | 3.3m/s |\\n| 风向 | 东南风 | 东南风 | 东南风 | 东南风 | 东北风 | 东南风 | 西南风 | 西北风 |\\n| 气压 | 1005.8hPa | 1007.3hPa | 1009.5hPa | 1008.1hPa | 1008.1hPa | 1009.3hPa | 1009.6hPa | 1007.9hPa |\\n| 湿度 | 70.8% | 75.6% | 81.8% | 85.9% | 87.7% | 82.8% | 79.1% | 78.5% |\\n| 云量 | 10.9% | 10.1% | 13.1% | 10.7% | 19.6% | 49.7% | 50.6% | 95.3% |\\n        摘要的模板为:\\n        ```【工具执行评估】\\n        1. 任务目标：_______\\n        2. 选用工具：\\n           - 工具名称：_______\\n           - 是否符合任务？（是/否）\\n        3. 工具调用参数：\\n           - 参数正确？（是/否）\\n        4. 工具执行结果：\\n           - 返回信息：_______\\n           - 是否成功？（是/否）\\n        5. 最终结论：工具执行（成功/失败），原因：_______```\\n        The output should be formatted as a JSON instance that conforms to the JSON schema below.\\n\\nAs an example, for the schema {\"properties\": {\"foo\": {\"title\": \"Foo\", \"description\": \"a list of strings\", \"type\": \"array\", \"items\": {\"type\": \"string\"}}}, \"required\": [\"foo\"]}\\nthe object {\"foo\": [\"bar\", \"baz\"]} is a well-formatted instance of the schema. The object {\"properties\": {\"foo\": [\"bar\", \"baz\"]}} is not well-formatted.\\n\\nHere is the output schema:\\n```\\n{\"properties\": {\"success\": {\"title\": \"Success\", \"type\": \"boolean\"}, \"result_summary\": {\"anyOf\": [{\"type\": \"string\"}, {\"type\": \"null\"}], \"default\": null, \"title\": \"Result Summary\"}, \"error\": {\"anyOf\": [{\"type\": \"string\"}, {\"type\": \"null\"}], \"default\": null, \"title\": \"Error\"}}, \"required\": [\"success\"]}\\n```\\n        '"
      ]
     },
     "execution_count": 391,
     "metadata": {},
     "output_type": "execute_result"
    }
   ],
   "source": [
    "eval_prompt"
   ]
  },
  {
   "cell_type": "code",
   "execution_count": 388,
   "id": "5db97764-d524-4f54-aaac-4282bd079887",
   "metadata": {},
   "outputs": [],
   "source": [
    "# json.loads(eval_result)['result_summary']"
   ]
  },
  {
   "cell_type": "code",
   "execution_count": 128,
   "id": "4d7bdfd2-7c10-43c7-8ad0-ded34df0aff3",
   "metadata": {},
   "outputs": [],
   "source": [
    "def ReuseToolPrompt(action,query):\n",
    "    actioninfo=get_format_instructions(ActionInfo)\n",
    "    return f\"\"\"\n",
    "根据提供的工具使用示例和新问题：\n",
    "保持action_type.name与示例一致；\n",
    "根据新问题，改写：\n",
    "action_name（简明描述新任务）；\n",
    "action_type.arguments（参数内容应与新问题一致，如文件路径、内容等）；\n",
    "action_type.action（用简洁语言描述实际动作）；\n",
    "工具使用示例:{action}\n",
    "新问题:{query}\n",
    "{actioninfo}\n",
    "只输出符合规范的 JSON，不输出其他文字或解释。\n",
    "\"\"\""
   ]
  },
  {
   "cell_type": "code",
   "execution_count": 153,
   "id": "bab874b8-cad0-4a87-891c-287882a05c61",
   "metadata": {},
   "outputs": [
    {
     "data": {
      "text/plain": [
       "'{\"action_name\":\"请作一首诗描写深圳湾海景,然后把诗写入文件 `/oper/ch/mcp_work/test.txt`\",\"action_type\":{\"name\":\"write_file\",\"arguments\":{\"path\":\"/oper/ch/mcp_work/test.txt\",\"content\":\"深圳湾畔映晴空，碧波荡漾接远峰。\\\\n白帆点点逐浪去，鸥鸟翩翩戏水踪。\\\\n两岸灯火映夜色，一桥飞架连西东。\\\\n此间胜景谁人绘？天然画卷在心中。\"},\"action\":\"将用户指定的诗歌写入到文件中\"}}'"
      ]
     },
     "execution_count": 153,
     "metadata": {},
     "output_type": "execute_result"
    }
   ],
   "source": [
    "result['action'].model_dump_json()"
   ]
  },
  {
   "cell_type": "code",
   "execution_count": 157,
   "id": "702410e5-2b13-442c-82c4-5752b541f32a",
   "metadata": {},
   "outputs": [
    {
     "name": "stdout",
     "output_type": "stream",
     "text": [
      "edit_file:Make line-based edits to a text file. Each edit replaces exact line sequences with new content. Returns a git-style diff showing the changes made. Only works within allowed directories.input_spec:{\"path\": \"str\", \"edits\": \"List[dict]\", \"dryRun\": \"bool\"}\n",
      "get_document_count:获取集合中文档的数量\n",
      "    \n",
      "    Returns:\n",
      "        文档数量\n",
      "    input_spec:{}\n",
      "get_collection_info:获取集合信息\n",
      "    \n",
      "    Returns:\n",
      "        集合信息\n",
      "    input_spec:{}\n"
     ]
    }
   ],
   "source": [
    "print(tool_descriptions)"
   ]
  },
  {
   "cell_type": "code",
   "execution_count": 159,
   "id": "142ebc8e-3a6c-431c-bd5b-71a967fe33cf",
   "metadata": {},
   "outputs": [
    {
     "name": "stdout",
     "output_type": "stream",
     "text": [
      "\n",
      "根据提供的工具使用示例和新问题：\n",
      "保持action_type.name与示例一致；\n",
      "根据新问题，改写：\n",
      "action_name（简明描述新任务）；\n",
      "action_type.arguments（参数内容应与新问题一致，如文件路径、内容等）；\n",
      "action_type.action（用简洁语言描述实际动作）；\n",
      "工具使用示例:{\"action_name\":\"请作一首诗描写深圳湾海景,然后把诗写入文件 `/oper/ch/mcp_work/test.txt`\",\"action_type\":{\"name\":\"write_file\",\"arguments\":{\"path\":\"/oper/ch/mcp_work/test.txt\",\"content\":\"深圳湾畔映晴空，碧波荡漾接远峰。\\n白帆点点逐浪去，鸥鸟翩翩戏水踪。\\n两岸灯火映夜色，一桥飞架连西东。\\n此间胜景谁人绘？天然画卷在心中。\"},\"action\":\"将用户指定的诗歌写入到文件中\"}}\n",
      "新问题:请作一首诗描写春天山景,然后把诗写入文件 `/oper/ch/mcp_work/tmp.txt`\n",
      "The output should be formatted as a JSON instance that conforms to the JSON schema below.\n",
      "\n",
      "As an example, for the schema {\"properties\": {\"foo\": {\"title\": \"Foo\", \"description\": \"a list of strings\", \"type\": \"array\", \"items\": {\"type\": \"string\"}}}, \"required\": [\"foo\"]}\n",
      "the object {\"foo\": [\"bar\", \"baz\"]} is a well-formatted instance of the schema. The object {\"properties\": {\"foo\": [\"bar\", \"baz\"]}} is not well-formatted.\n",
      "\n",
      "Here is the output schema:\n",
      "```\n",
      "{\"$defs\": {\"Instruction\": {\"properties\": {\"prompt\": {\"anyOf\": [{\"type\": \"string\"}, {\"type\": \"null\"}], \"default\": null, \"title\": \"Prompt\"}, \"query\": {\"title\": \"Query\", \"type\": \"string\"}}, \"required\": [\"query\"], \"title\": \"Instruction\", \"type\": \"object\"}, \"Tool\": {\"properties\": {\"name\": {\"title\": \"Name\", \"type\": \"string\"}, \"arguments\": {\"additionalProperties\": true, \"title\": \"Arguments\", \"type\": \"object\"}, \"action\": {\"title\": \"Action\", \"type\": \"string\"}}, \"required\": [\"name\", \"arguments\", \"action\"], \"title\": \"Tool\", \"type\": \"object\"}}, \"properties\": {\"action_name\": {\"title\": \"Action Name\", \"type\": \"string\"}, \"action_type\": {\"anyOf\": [{\"$ref\": \"#/$defs/Tool\"}, {\"$ref\": \"#/$defs/Instruction\"}], \"title\": \"Action Type\"}}, \"required\": [\"action_name\", \"action_type\"]}\n",
      "```\n",
      "只输出符合规范的 JSON，不输出其他文字或解释。\n",
      "\n"
     ]
    }
   ],
   "source": [
    "print(ReuseToolPrompt(result['action'].model_dump_json(),'请作一首诗描写春天山景,然后把诗写入文件 `/oper/ch/mcp_work/tmp.txt`'))"
   ]
  },
  {
   "cell_type": "code",
   "execution_count": 165,
   "id": "bf1e299e-7f2a-48a8-931d-a2f76a2751f1",
   "metadata": {},
   "outputs": [],
   "source": [
    "query='请作一首诗描写春天山景,然后把诗写入文件 `/oper/ch/mcp_work/tmp.txt`'"
   ]
  },
  {
   "cell_type": "code",
   "execution_count": 169,
   "id": "41772859-6252-4ad6-a481-b1a54fa28897",
   "metadata": {},
   "outputs": [],
   "source": [
    "description=tool_descriptions+'\\n'+result['action'].model_dump_json()"
   ]
  },
  {
   "cell_type": "code",
   "execution_count": 170,
   "id": "f6f7bcfd-6c18-4920-a785-daa41e1dbf15",
   "metadata": {},
   "outputs": [
    {
     "data": {
      "text/plain": [
       "'edit_file:Make line-based edits to a text file. Each edit replaces exact line sequences with new content. Returns a git-style diff showing the changes made. Only works within allowed directories.input_spec:{\"path\": \"str\", \"edits\": \"List[dict]\", \"dryRun\": \"bool\"}\\nget_document_count:获取集合中文档的数量\\n    \\n    Returns:\\n        文档数量\\n    input_spec:{}\\nget_collection_info:获取集合信息\\n    \\n    Returns:\\n        集合信息\\n    input_spec:{}\\n{\"action_name\":\"请作一首诗描写深圳湾海景,然后把诗写入文件 `/oper/ch/mcp_work/test.txt`\",\"action_type\":{\"name\":\"write_file\",\"arguments\":{\"path\":\"/oper/ch/mcp_work/test.txt\",\"content\":\"深圳湾畔映晴空，碧波荡漾接远峰。\\\\n白帆点点逐浪去，鸥鸟翩翩戏水踪。\\\\n两岸灯火映夜色，一桥飞架连西东。\\\\n此间胜景谁人绘？天然画卷在心中。\"},\"action\":\"将用户指定的诗歌写入到文件中\"}}'"
      ]
     },
     "execution_count": 170,
     "metadata": {},
     "output_type": "execute_result"
    }
   ],
   "source": [
    "description"
   ]
  },
  {
   "cell_type": "code",
   "execution_count": 126,
   "id": "4b9e378d-37a1-4da9-8f7c-c4a287dbd8cf",
   "metadata": {},
   "outputs": [],
   "source": [
    "# print(result['excution_log'])print(result['excution_log'])"
   ]
  },
  {
   "cell_type": "code",
   "execution_count": 338,
   "id": "74bdc3cb-5171-432a-a2b9-d6d0d546e191",
   "metadata": {},
   "outputs": [],
   "source": [
    "import json\n",
    "import re\n",
    "from typing import Dict, Any, Optional\n",
    "\n",
    "def extract_tool_format_from_string(text: str) -> Optional[Dict[str, Any]]:\n",
    "    \"\"\"\n",
    "    从字符串中提取JSON数据并解析为符合ToolFormat结构的字典\n",
    "    \n",
    "    Args:\n",
    "        text: 可能包含JSON数据的字符串\n",
    "        \n",
    "    Returns:\n",
    "        如果成功解析，返回符合ToolFormat结构的字典，否则返回None\n",
    "    \"\"\"\n",
    "    # 先尝试一种更简单的方式：找到所有可能的JSON起始位置\n",
    "    json_start_positions = [m.start() for m in re.finditer(r'{\"name\":', text)]\n",
    "    \n",
    "    for start_pos in json_start_positions:\n",
    "        # 从每个起始位置开始尝试解析\n",
    "        partial_text = text[start_pos:]\n",
    "        \n",
    "        # 用递增的方式尝试解析不同长度的子字符串\n",
    "        for end_pos in range(len(partial_text)):\n",
    "            try:\n",
    "                # 尝试各种长度的子字符串，直到找到有效的JSON\n",
    "                possible_json = partial_text[:end_pos+1]\n",
    "                if possible_json.count('{') != possible_json.count('}'):\n",
    "                    continue  # 花括号不平衡，继续尝试更长的子字符串\n",
    "                    \n",
    "                data = json.loads(possible_json)\n",
    "                \n",
    "                # 验证是否符合ToolFormat结构\n",
    "                if \"name\" in data and \"arguments\" in data and isinstance(data[\"arguments\"], dict):\n",
    "                    return data\n",
    "                    \n",
    "            except json.JSONDecodeError:\n",
    "                continue\n",
    "            except Exception:\n",
    "                continue\n",
    "                \n",
    "    # 如果上面的方法失败，尝试一个更通用的方法\n",
    "    try:\n",
    "        # 尝试找到最外层的大括号匹配\n",
    "        brace_pattern = r'\\{(?:[^{}]|(?:\\{[^{}]*\\}))*\\}'\n",
    "        matches = re.finditer(brace_pattern, text)\n",
    "        \n",
    "        for match in matches:\n",
    "            try:\n",
    "                json_str = match.group(0)\n",
    "                data = json.loads(json_str)\n",
    "                \n",
    "                if \"name\" in data and \"arguments\" in data and isinstance(data[\"arguments\"], dict):\n",
    "                    return data\n",
    "            except:\n",
    "                continue\n",
    "    except:\n",
    "        pass\n",
    "        \n",
    "    # 最后一种方法：尝试使用更复杂的递归方式查找JSON\n",
    "    def find_balanced_braces(s, start_index):\n",
    "        \"\"\"递归查找平衡的花括号\"\"\"\n",
    "        stack = []\n",
    "        for i in range(start_index, len(s)):\n",
    "            if s[i] == '{':\n",
    "                stack.append(i)\n",
    "            elif s[i] == '}':\n",
    "                if stack:\n",
    "                    start = stack.pop()\n",
    "                    if not stack:  # 最外层花括号已匹配完成\n",
    "                        return s[start:i+1]\n",
    "        return None\n",
    "    \n",
    "    # 查找所有可能的JSON开始位置\n",
    "    for i in range(len(text)):\n",
    "        if text[i] == '{':\n",
    "            potential_json = find_balanced_braces(text, i)\n",
    "            if potential_json:\n",
    "                try:\n",
    "                    data = json.loads(potential_json)\n",
    "                    if \"name\" in data and \"arguments\" in data and isinstance(data[\"arguments\"], dict):\n",
    "                        return data\n",
    "                except:\n",
    "                    continue\n",
    "                    \n",
    "    return None"
   ]
  },
  {
   "cell_type": "code",
   "execution_count": 29,
   "id": "f1f41d67-4298-4f68-8e34-ba067bc05064",
   "metadata": {},
   "outputs": [],
   "source": [
    "# sample_text1 = \"\"\"\n",
    "#     这是一些文本，其中包含了一个工具定义：\n",
    "#     {\"name\": \"calculator\", \"arguments\": {\"x\": 10, \"y\": 5, \"operation\": \"add\"}}\n",
    "#     这是一些后续文本\n",
    "#     \"\"\"\n",
    "    \n",
    "# # 示例2: 包含无效数据的字符串\n",
    "# sample_text2 = \"\"\"\n",
    "# 这是一些文本，但没有有效的工具定义\n",
    "# {\"name\": \"incomplete\"}\n",
    "# \"\"\"\n",
    "\n",
    "# # 示例3: 包含嵌套JSON的复杂例子\n",
    "# # sample_text3 = \"\"\"\n",
    "# # {\"name\": \"data_processor\", \"arguments\": {\"config\": {\"max_items\": 100, \"filters\": [\"date\", \"category\"]}, \"input_file\": \"data.csv\"}}\n",
    "# # \"\"\"\n",
    "# sample_text3 = \"\"\"```json\n",
    "# {\"name\": \"data_processor\", \"arguments\": {\"config\": {\"max_items\": 100, \"filters\": [\"date\", \"category\"]}, \"input_file\": \"data.csv\"}}```\n",
    "# \"\"\"\n",
    "# for i, sample in enumerate([sample_text1, sample_text2, sample_text3], 1):\n",
    "#     result = extract_tool_format_from_string(sample)\n",
    "#     print(result)\n",
    "#     if result:\n",
    "#         print(f\"示例{i} - 成功提取工具:\")\n",
    "#         print(f\"  名称: {result.get('name')}\")\n",
    "#         print(f\"  参数: {result.get('arguments')}\")\n",
    "#     else:\n",
    "#         print(f\"示例{i} - 未找到有效的工具定义\")\n",
    "#     print()  "
   ]
  },
  {
   "cell_type": "code",
   "execution_count": 34,
   "id": "19c3a677-9cff-4ca0-9e82-7bb45724cb10",
   "metadata": {},
   "outputs": [],
   "source": [
    "from mcp_client import MCPClientManager"
   ]
  },
  {
   "cell_type": "code",
   "execution_count": 60,
   "id": "d9787ab4-2e38-477a-a577-1609f01d3cbb",
   "metadata": {},
   "outputs": [],
   "source": [
    "manager=MCPClientManager(server_params_list)"
   ]
  },
  {
   "cell_type": "code",
   "execution_count": 59,
   "id": "4dad1232-dfec-4717-919b-3fdadd8e147a",
   "metadata": {},
   "outputs": [],
   "source": [
    "server_params_list = [\n",
    "    StdioServerParameters(command=\"npx\", args=[\"--yes\", \"@modelcontextprotocol/server-filesystem\", '/oper/ch/mcp_work']),\n",
    "    StdioServerParameters(command=\"uv\", args=[\"run\",\"-m\",\"mcp_server_fetch\"]),\n",
    "    StdioServerParameters(command=\"npx\", args=[\"-y\",\"@modelcontextprotocol/server-puppeteer\"]),\n",
    "    StdioServerParameters(command=\"uv\",args=[\"run\",\"/oper/ch/code/chromadb_mcp.py\",\"--ollama_model\",\"bge-large-zh-v1.5:f16\",\"--collection_name\",\"tools_collection\"])\n",
    "]"
   ]
  },
  {
   "cell_type": "code",
   "execution_count": 7,
   "id": "5b13d1a0-2910-41ed-91f1-f2568c7ade1a",
   "metadata": {},
   "outputs": [],
   "source": [
    "descriptions,_= await manager.initialize()"
   ]
  },
  {
   "cell_type": "code",
   "execution_count": 8,
   "id": "884f9d6c-9c11-47c4-ad68-0e164861489d",
   "metadata": {},
   "outputs": [],
   "source": [
    "result = await manager.run_tool(\"search_documents\",{\"query\":\"write or create new file\",\"include\":[\"documents\", \"metadatas\"],\"n_results\":3})"
   ]
  },
  {
   "cell_type": "code",
   "execution_count": 11,
   "id": "a42c8262-3eb8-43a4-80ff-bd526a3ee563",
   "metadata": {},
   "outputs": [],
   "source": [
    "response=json.loads(result)"
   ]
  },
  {
   "cell_type": "code",
   "execution_count": 47,
   "id": "ddd0e504-30f1-4ae1-b881-3f5e510e507c",
   "metadata": {},
   "outputs": [],
   "source": [
    "# response['metadatas'][0]"
   ]
  },
  {
   "cell_type": "code",
   "execution_count": 13,
   "id": "c1cb5211-7536-4aed-89a7-8f58d439520f",
   "metadata": {},
   "outputs": [],
   "source": [
    "response=\"\\n\".join(set([f\"{i['tool_name']}:{i['description']}input_spec:{i['input_spec']}\" for i in  response['metadatas'][0]]))"
   ]
  },
  {
   "cell_type": "code",
   "execution_count": 15,
   "id": "b102b634-a07c-4f3e-9e75-1c8a9c4eb3ea",
   "metadata": {},
   "outputs": [],
   "source": [
    "await manager.close_all()"
   ]
  },
  {
   "cell_type": "code",
   "execution_count": 4,
   "id": "cb9296cc-5054-412b-8f53-b0e538db3c9b",
   "metadata": {},
   "outputs": [],
   "source": [
    "import json\n",
    "from pydantic import BaseModel\n",
    "from typing import Any,Dict\n",
    "def get_format_instructions(pydantic_object:BaseModel) -> str:\n",
    "    \"\"\"Return the format instructions for the JSON output.\n",
    "\n",
    "    Returns:\n",
    "        The format instructions for the JSON output.\n",
    "    \"\"\"\n",
    "    # Copy schema to avoid altering original Pydantic schema.\n",
    "    schema = dict(pydantic_object.model_json_schema().items())\n",
    "\n",
    "    # Remove extraneous fields.\n",
    "    reduced_schema = schema\n",
    "    if \"title\" in reduced_schema:\n",
    "        del reduced_schema[\"title\"]\n",
    "    if \"type\" in reduced_schema:\n",
    "        del reduced_schema[\"type\"]\n",
    "    # Ensure json in context is well-formed with double quotes.\n",
    "    schema_str = json.dumps(reduced_schema, ensure_ascii=False)\n",
    "\n",
    "    return _PYDANTIC_FORMAT_INSTRUCTIONS.format(schema=schema_str)\n",
    "\n",
    "\n",
    "_PYDANTIC_FORMAT_INSTRUCTIONS = \"\"\"The output should be formatted as a JSON instance that conforms to the JSON schema below.\n",
    "\n",
    "As an example, for the schema {{\"properties\": {{\"foo\": {{\"title\": \"Foo\", \"description\": \"a list of strings\", \"type\": \"array\", \"items\": {{\"type\": \"string\"}}}}}}, \"required\": [\"foo\"]}}\n",
    "the object {{\"foo\": [\"bar\", \"baz\"]}} is a well-formatted instance of the schema. The object {{\"properties\": {{\"foo\": [\"bar\", \"baz\"]}}}} is not well-formatted.\n",
    "\n",
    "Here is the output schema:\n",
    "```\n",
    "{schema}\n",
    "```\"\"\" \n",
    "class ToolFormat(BaseModel):\n",
    "    name:str\n",
    "    arguments:Dict[str,Any]\n",
    "class CodeWrite(BaseModel):\n",
    "    codeblock:str\n",
    "    usage:str"
   ]
  },
  {
   "cell_type": "code",
   "execution_count": 14,
   "id": "3dfa4a59-e6e1-43ae-b039-ca5cc7123425",
   "metadata": {},
   "outputs": [],
   "source": [
    "format_prompt=get_format_instructions(ToolFormat)"
   ]
  },
  {
   "cell_type": "code",
   "execution_count": 17,
   "id": "4ba4983e-38ef-41ff-bc6d-445a40199363",
   "metadata": {},
   "outputs": [
    {
     "data": {
      "text/plain": [
       "'The output should be formatted as a JSON instance that conforms to the JSON schema below.\\n\\nAs an example, for the schema {\"properties\": {\"foo\": {\"title\": \"Foo\", \"description\": \"a list of strings\", \"type\": \"array\", \"items\": {\"type\": \"string\"}}}, \"required\": [\"foo\"]}\\nthe object {\"foo\": [\"bar\", \"baz\"]} is a well-formatted instance of the schema. The object {\"properties\": {\"foo\": [\"bar\", \"baz\"]}} is not well-formatted.\\n\\nHere is the output schema:\\n```\\n{\"properties\": {\"name\": {\"title\": \"Name\", \"type\": \"string\"}, \"arguments\": {\"additionalProperties\": true, \"title\": \"Arguments\", \"type\": \"object\"}}, \"required\": [\"name\", \"arguments\"]}\\n```'"
      ]
     },
     "execution_count": 17,
     "metadata": {},
     "output_type": "execute_result"
    }
   ],
   "source": [
    "format_prompt"
   ]
  },
  {
   "cell_type": "code",
   "execution_count": null,
   "id": "d09cbc37-7a25-4f46-ba84-28214e0369c1",
   "metadata": {},
   "outputs": [],
   "source": [
    "codeprompt=get_format_instructions(CodeWrite)gte-multilingual-reranker-base/"
   ]
  },
  {
   "cell_type": "code",
   "execution_count": null,
   "id": "2c3d0957-095b-4860-97e5-92824b1ff56f",
   "metadata": {},
   "outputs": [],
   "source": [
    "import requests\n",
    "\n",
    "# 替换为你的 Ollama Server 地址（通常是本地的 http://localhost:11434）\n",
    "OLLAMA_SERVER = \"http://localhost:11434\"\n",
    "\n",
    "def chat_with_ollama(model: str, prompt: str):\n",
    "    url = f\"{OLLAMA_SERVER}/api/generate\"\n",
    "    payload = {\n",
    "        \"model\": model,\n",
    "        \"prompt\": prompt,\n",
    "        \"stream\": False  # 如果你想流式返回，就设置为 True，并处理响应流\n",
    "    }\n",
    "\n",
    "    response = requests.post(url, json=payload)\n",
    "    response.raise_for_status()  # 抛出 HTTP 错误（如有）\n",
    "\n",
    "    result = response.json()\n",
    "    return result[\"response\"]\n"
   ]
  },
  {
   "cell_type": "code",
   "execution_count": 70,
   "id": "5db680f8-7c58-4a67-a847-f3c8f9d340bc",
   "metadata": {},
   "outputs": [],
   "source": [
    "user_input=\"\"\"请帮我写一首李白的静夜思，写好后保存文件为`/oper/ch/code/test.txt`\"\"\"\n",
    "prompt = f\"\"\"\n",
    "你可以调用以下工具来完成任务：\n",
    "\n",
    "{descriptions}\n",
    "\n",
    "用户的请求是：{user_input}\n",
    "\n",
    "{format_prompt}\n",
    "\"\"\""
   ]
  },
  {
   "cell_type": "code",
   "execution_count": 14,
   "id": "e88c29b2-8360-46ab-aef4-be25e0d29a12",
   "metadata": {},
   "outputs": [],
   "source": [
    "user_input=\"\"\"请帮我写一首李白的将进酒，写好后保存文件为`/oper/ch/code/test.txt`\"\"\""
   ]
  },
  {
   "cell_type": "code",
   "execution_count": 42,
   "id": "4ce8737b-a136-4e87-aa39-bb3eb22801f8",
   "metadata": {},
   "outputs": [],
   "source": [
    "prompt = f\"\"\"\n",
    "你可以调用以下工具来完成任务：\n",
    "\n",
    "{descriptions}\n",
    "\n",
    "用户的请求是：{user_input}\n",
    "\n",
    "你的任务是：\n",
    "\n",
    "1. **优先尝试调用可用工具**来完成用户的请求。\n",
    "2. 如果**没有一个工具可以直接满足**请求，请编写一段 Python 代码，尽可能完成用户的任务。\n",
    "3. 编写代码时，请确保逻辑清晰、注释完整、可直接运行。\n",
    "调用工具，输出格式如下：\n",
    "{format_prompt}\n",
    "编写代码，输出格式如下：\n",
    "{codeprompt}\n",
    "\"\"\""
   ]
  },
  {
   "cell_type": "code",
   "execution_count": 4,
   "id": "a188e58d-b3b8-4bda-a54c-f6718350c3a0",
   "metadata": {},
   "outputs": [],
   "source": [
    "response={\n",
    "  \"name\": \"write_file\",\n",
    "  \"input_dict\": {\n",
    "    \"path\": \"/oper/ch/code/test.txt\",\n",
    "    \"content\": \"床前明月光，\\n疑是地上霜。\\n举头望明月，\\n低头思故乡。\"\n",
    "  }\n",
    "}"
   ]
  },
  {
   "cell_type": "code",
   "execution_count": 20,
   "id": "6b9642cb-400f-4fbb-8b0b-29bd01738616",
   "metadata": {},
   "outputs": [],
   "source": [
    "response={\n",
    "\"name\": \"write_file\",\n",
    "\"input_dict\": {\n",
    "\"path\": \"/oper/ch/code/test.txt\",\n",
    "\"content\": \"君不见黄河之水天上来，奔流到海不复回。\\n君不见高堂明镜悲白发，朝如青丝暮成雪。\\n人生得意须尽欢，莫使金樽空对月。\\n天生我材必有用，千金散尽还复来。\\n烹羊宰牛且为乐，会须一饮三百杯。\\n岑夫子，丹丘生，将进酒，杯莫停。\\n与君歌一曲，请君为我倾耳听。\\n钟鼓馔玉不足贵，但愿长醉不复醒。\\n古来圣贤皆寂寞，惟有饮者留其名。\\n陈王昔时宴平乐，斗酒十千恣欢谑。\\n主人何为言少钱，径须沽取对君酌。\\n五花马，千金裘，呼儿将出换美酒，与尔同销万古愁。\"\n",
    "}\n",
    "}"
   ]
  },
  {
   "cell_type": "code",
   "execution_count": 23,
   "id": "0604bce1-10f6-4388-9360-8f7062b1afd0",
   "metadata": {},
   "outputs": [],
   "source": [
    "result = await manager.run_tool(response['name'],response['input_dict'])"
   ]
  },
  {
   "cell_type": "code",
   "execution_count": 22,
   "id": "a1e6389d-e0ba-4040-a7d7-193a78484465",
   "metadata": {},
   "outputs": [],
   "source": [
    "# content=await mcp_tool_run(response['tool'],response['input_dict'],server_params_list,session_index)"
   ]
  },
  {
   "cell_type": "code",
   "execution_count": 27,
   "id": "11c74f6d-c44e-410e-a6f8-edef00f566cf",
   "metadata": {},
   "outputs": [],
   "source": [
    "# tool_descriptions=''\n",
    "# for tool in sessions:\n",
    "#     response=await tool['session'].list_tools()\n",
    "#     descriptions = \"\\n\".join(f\"{line.name}:{line.description}。inputSchema:{line.inputSchema}\" for line in response.tools)\n",
    "#     tool_descriptions+=descriptions"
   ]
  },
  {
   "cell_type": "code",
   "execution_count": 30,
   "id": "826a789e-e076-42fa-abeb-f1495e9bdb98",
   "metadata": {},
   "outputs": [
    {
     "data": {
      "text/plain": [
       "[None, None]"
      ]
     },
     "execution_count": 30,
     "metadata": {},
     "output_type": "execute_result"
    }
   ],
   "source": [
    "await asyncio.gather(*(close_mcp_session(**e) for e in sessions))"
   ]
  },
  {
   "cell_type": "code",
   "execution_count": 75,
   "id": "16499e95-6d4e-4af4-982e-d30301c2daf9",
   "metadata": {},
   "outputs": [],
   "source": [
    "tools=await sessions[0]['session'].list_tools()"
   ]
  }
 ],
 "metadata": {
  "kernelspec": {
   "display_name": "Python 3 (ipykernel)",
   "language": "python",
   "name": "python3"
  },
  "language_info": {
   "codemirror_mode": {
    "name": "ipython",
    "version": 3
   },
   "file_extension": ".py",
   "mimetype": "text/x-python",
   "name": "python",
   "nbconvert_exporter": "python",
   "pygments_lexer": "ipython3",
   "version": "3.10.12"
  }
 },
 "nbformat": 4,
 "nbformat_minor": 5
}
