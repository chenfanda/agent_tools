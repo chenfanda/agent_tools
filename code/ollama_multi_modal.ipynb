{
 "cells": [
  {
   "cell_type": "code",
   "execution_count": 1,
   "id": "f1b79aad-bcdd-4af3-b981-2221f36a5223",
   "metadata": {},
   "outputs": [],
   "source": [
    "# import ollama\n",
    "# import asyncio\n",
    "from ollama import Client\n",
    "import base64\n",
    "from io import BytesIO\n",
    "from PIL import Image"
   ]
  },
  {
   "cell_type": "code",
   "execution_count": 6,
   "id": "e0e8f04f-0682-4807-9c80-d8999a4dbe22",
   "metadata": {},
   "outputs": [],
   "source": [
    "client=Client(host='http://localhost:11434')"
   ]
  },
  {
   "cell_type": "code",
   "execution_count": 2,
   "id": "a131499c-adcc-46fc-8ef7-ed62b2b7d81b",
   "metadata": {},
   "outputs": [],
   "source": [
    "def convert_to_base64(image_path):\n",
    "    with Image.open(image_path) as img:\n",
    "        buffered = BytesIO()\n",
    "        img.save(buffered, format=\"PNG\")\n",
    "        return base64.b64encode(buffered.getvalue()).decode(\"utf-8\")"
   ]
  },
  {
   "cell_type": "code",
   "execution_count": 3,
   "id": "1512c00e-04f5-4d35-9d16-447a93b86f90",
   "metadata": {},
   "outputs": [],
   "source": [
    "image=convert_to_base64('/home/hao/Desktop/Screenshot.png')"
   ]
  },
  {
   "cell_type": "code",
   "execution_count": 4,
   "id": "ecd99dd9-73bb-41e6-b551-e00e308ff63c",
   "metadata": {},
   "outputs": [],
   "source": [
    "prompt=\"\"\"\n",
    "请分析以下桌面截图，识别当前正在运行的所有软件、命令窗口以及相关应用程序。描述每个图标和窗口的名称、状态（如活动、最小化或悬浮）以及其它关键视觉细节。仅依据截屏上显示的内容进行反馈，为后续的软件操作步骤提供必要的视觉信息，不添加额外假设。\"\"\""
   ]
  },
  {
   "cell_type": "code",
   "execution_count": 7,
   "id": "a370e92c-0f26-4c72-8bd0-78776196fdcb",
   "metadata": {},
   "outputs": [
    {
     "name": "stdout",
     "output_type": "stream",
     "text": [
      "根据截图，以下是正在运行的软件和应用程序：\n",
      "\n",
      "**1. 活动概览 (Activities Overview):**\n",
      "   * 状态：活动/显示\n",
      "   * 视觉细节：位于屏幕左侧，显示应用程序启动器和系统菜单。\n",
      "\n",
      "**2. 文件管理器 (Nautilus/Files):**\n",
      "   * 状态：显示，有多个文件图标可见\n",
      "   * 视觉细节：在桌面右侧显示多个文件图标，包括：\n",
      "      * `mark1.png` (图像文件)\n",
      "      * `clash.yaml` (YAML配置文件)\n",
      "      * `record.txt` (文本文件)\n",
      "      * `command.txt` (文本文件)\n",
      "      * `Home` (文件夹图标)\n",
      "\n",
      "**3. 终端 (Terminal):**\n",
      "   * 状态：最小化/悬浮\n",
      "   * 视觉细节：位于屏幕右下角，显示一个终端窗口的缩略图。\n",
      "\n",
      "**4. 浏览器 (Firefox):**\n",
      "   * 状态：最小化/悬浮\n",
      "   * 视觉细节：位于屏幕右上角，显示一个Firefox浏览器窗口的缩略图。\n",
      "\n",
      "**5. 其他应用程序:**\n",
      "   * 屏幕左侧的活动概览中显示了其他应用程序的图标，包括：\n",
      "      * 文本编辑器\n",
      "      * 软件中心\n",
      "      * 设置\n",
      "      * 帮助\n",
      "      * 终端\n",
      "      * 文件管理器\n",
      "      * 浏览器\n",
      "      * 以及其他未明确标识的应用程序。\n",
      "\n",
      "**其他视觉细节:**\n",
      "\n",
      "*   桌面背景：风景照片，显示山丘、田野和蓝天。\n",
      "*   时间显示：屏幕顶部显示“3月8日 14:24”。\n",
      "*   系统托盘：屏幕右上角显示系统托盘图标。\n",
      "\n",
      "请注意，以上分析仅基于截图中的可见内容。\n"
     ]
    }
   ],
   "source": [
    "response = client.chat(\n",
    "model='gemma3:27b',\n",
    "messages=[{'role':'system',\n",
    "           'content':prompt},\n",
    "  {\n",
    "    'role': 'user',\n",
    "    'content': '那些软件在运行',\n",
    "    'images': [image],\n",
    "  },\n",
    "],\n",
    ")\n",
    "print(response['message']['content'])"
   ]
  },
  {
   "cell_type": "code",
   "execution_count": 30,
   "id": "50261044-04ce-4703-aadb-c457fd5ea3bc",
   "metadata": {},
   "outputs": [],
   "source": [
    "# with open('/home/hao/Desktop/Screenshot.png', 'rb') as file:\n",
    "#   response = client.chat(\n",
    "#     model='minicpm-v:8b-2.6-q8_0',\n",
    "#     messages=[\n",
    "#       {\n",
    "#         'role': 'user',\n",
    "#         'content': '桌面上有什么网页吗',\n",
    "#         'images': [file.read()],\n",
    "#       },\n",
    "#     ],\n",
    "#   )\n",
    "# print(response['message']['content'])"
   ]
  },
  {
   "cell_type": "code",
   "execution_count": 9,
   "id": "4d94eba5-70e7-4969-bb7b-327d2c66e434",
   "metadata": {},
   "outputs": [],
   "source": [
    "# async def chat(content,image,model='MiniCPM-o-2_6:latest'):\n",
    "#     with open(image, 'rb') as file:\n",
    "#         message = {'role': 'user', 'content': content,'images':[file.read()]}\n",
    "#     async for part in await AsyncClient(host='http://localhost:11434').chat(model=model, messages=[message], stream=True):\n",
    "#         print(part['message']['content'], end='', flush=True)"
   ]
  },
  {
   "cell_type": "code",
   "execution_count": 13,
   "id": "3e605127-19b9-487e-9aed-42cef30e57ef",
   "metadata": {},
   "outputs": [],
   "source": [
    "# loop = asyncio.get_event_loop()\n",
    "# loop.run_until_complete(chat(content='谷歌浏览器有没有打开',image='/home/hao/Desktop/Screenshot.png'))"
   ]
  }
 ],
 "metadata": {
  "kernelspec": {
   "display_name": "Python 3 (ipykernel)",
   "language": "python",
   "name": "python3"
  },
  "language_info": {
   "codemirror_mode": {
    "name": "ipython",
    "version": 3
   },
   "file_extension": ".py",
   "mimetype": "text/x-python",
   "name": "python",
   "nbconvert_exporter": "python",
   "pygments_lexer": "ipython3",
   "version": "3.10.12"
  }
 },
 "nbformat": 4,
 "nbformat_minor": 5
}
