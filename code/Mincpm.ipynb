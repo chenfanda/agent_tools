{
 "cells": [
  {
   "cell_type": "code",
   "execution_count": 3,
   "id": "4e26737b-0058-48bd-8673-47c991730cfe",
   "metadata": {},
   "outputs": [
    {
     "name": "stderr",
     "output_type": "stream",
     "text": [
      "Special tokens have been added in the vocabulary, make sure the associated word embeddings are fine-tuned or trained.\n"
     ]
    }
   ],
   "source": [
    "from transformers import AutoModelForCausalLM, AutoTokenizer\n",
    "import torch\n",
    "\n",
    "path = \"/oper/ch/git/MiniCPM3-4B/\"\n",
    "device = \"cuda\"\n",
    "\n",
    "tokenizer = AutoTokenizer.from_pretrained(path, trust_remote_code=True)\n",
    "model = AutoModelForCausalLM.from_pretrained(path, torch_dtype=torch.bfloat16, device_map=device, trust_remote_code=True)"
   ]
  },
  {
   "cell_type": "code",
   "execution_count": 2,
   "id": "2438fb6d-1926-46ad-9570-a29db1682a4c",
   "metadata": {},
   "outputs": [
    {
     "name": "stdout",
     "output_type": "stream",
     "text": [
      "Looking in indexes: https://mirrors.aliyun.com/pypi/simple/\n",
      "Collecting datamodel_code_generator\n",
      "  Downloading https://mirrors.aliyun.com/pypi/packages/32/38/0bee91a0776a9bdab1b58138527a6c2ce144556c0b7c8169b7e7456d6c57/datamodel_code_generator-0.26.0-py3-none-any.whl (110 kB)\n",
      "Collecting argcomplete<4.0,>=1.10 (from datamodel_code_generator)\n",
      "  Downloading https://mirrors.aliyun.com/pypi/packages/41/e8/ba56bcc0d48170c0fc5a7f389488eddce47f98ed976a24ae62db402f33ae/argcomplete-3.5.0-py3-none-any.whl (43 kB)\n",
      "Collecting black>=19.10b0 (from datamodel_code_generator)\n",
      "  Downloading https://mirrors.aliyun.com/pypi/packages/7a/b4/d34099e95c437b53d01c4aa37cf93944b233066eb034ccf7897fa4e5f286/black-24.8.0-cp310-cp310-manylinux_2_17_x86_64.manylinux2014_x86_64.manylinux_2_28_x86_64.whl (1.8 MB)\n",
      "\u001b[2K     \u001b[38;2;114;156;31m━━━━━━━━━━━━━━━━━━━━━━━━━━━━━━━━━━━━━━━━\u001b[0m \u001b[32m1.8/1.8 MB\u001b[0m \u001b[31m404.3 kB/s\u001b[0m eta \u001b[36m0:00:00\u001b[0m1m408.3 kB/s\u001b[0m eta \u001b[36m0:00:01\u001b[0m\n",
      "\u001b[?25hCollecting genson<2.0,>=1.2.1 (from datamodel_code_generator)\n",
      "  Downloading https://mirrors.aliyun.com/pypi/packages/f8/5c/e226de133afd8bb267ec27eead9ae3d784b95b39a287ed404caab39a5f50/genson-1.3.0-py3-none-any.whl (21 kB)\n",
      "Collecting inflect<6.0,>=4.1.0 (from datamodel_code_generator)\n",
      "  Downloading https://mirrors.aliyun.com/pypi/packages/df/d8/3e1a32d305215166f5c32652c473aa766bd7809cd10b34c544dbc31facb5/inflect-5.6.2-py3-none-any.whl (33 kB)\n",
      "Collecting isort<6.0,>=4.3.21 (from datamodel_code_generator)\n",
      "  Downloading https://mirrors.aliyun.com/pypi/packages/d1/b3/8def84f539e7d2289a02f0524b944b15d7c75dab7628bedf1c4f0992029c/isort-5.13.2-py3-none-any.whl (92 kB)\n",
      "Requirement already satisfied: jinja2<4.0,>=2.10.1 in /oper/ch/env/llm_train/lib/python3.10/site-packages (from datamodel_code_generator) (3.1.4)\n",
      "Requirement already satisfied: packaging in /oper/ch/env/llm_train/lib/python3.10/site-packages (from datamodel_code_generator) (24.1)\n",
      "Requirement already satisfied: pydantic!=2.4.0,<3.0,>=1.9.0 in /oper/ch/env/llm_train/lib/python3.10/site-packages (from pydantic[email]!=2.4.0,<3.0,>=1.9.0; python_version >= \"3.10\" and python_version < \"3.11\"->datamodel_code_generator) (2.9.1)\n",
      "Requirement already satisfied: pyyaml>=6.0.1 in /oper/ch/env/llm_train/lib/python3.10/site-packages (from datamodel_code_generator) (6.0.2)\n",
      "Requirement already satisfied: toml<1.0.0,>=0.10.0 in /oper/ch/env/llm_train/lib/python3.10/site-packages (from datamodel_code_generator) (0.10.2)\n",
      "Requirement already satisfied: click>=8.0.0 in /oper/ch/env/llm_train/lib/python3.10/site-packages (from black>=19.10b0->datamodel_code_generator) (8.1.7)\n",
      "Collecting mypy-extensions>=0.4.3 (from black>=19.10b0->datamodel_code_generator)\n",
      "  Downloading https://mirrors.aliyun.com/pypi/packages/2a/e2/5d3f6ada4297caebe1a2add3b126fe800c96f56dbe5d1988a2cbe0b267aa/mypy_extensions-1.0.0-py3-none-any.whl (4.7 kB)\n",
      "Collecting pathspec>=0.9.0 (from black>=19.10b0->datamodel_code_generator)\n",
      "  Downloading https://mirrors.aliyun.com/pypi/packages/cc/20/ff623b09d963f88bfde16306a54e12ee5ea43e9b597108672ff3a408aad6/pathspec-0.12.1-py3-none-any.whl (31 kB)\n",
      "Requirement already satisfied: platformdirs>=2 in /oper/ch/env/llm_train/lib/python3.10/site-packages (from black>=19.10b0->datamodel_code_generator) (4.3.3)\n",
      "Requirement already satisfied: tomli>=1.1.0 in /oper/ch/env/llm_train/lib/python3.10/site-packages (from black>=19.10b0->datamodel_code_generator) (2.0.1)\n",
      "Requirement already satisfied: typing-extensions>=4.0.1 in /oper/ch/env/llm_train/lib/python3.10/site-packages (from black>=19.10b0->datamodel_code_generator) (4.12.2)\n",
      "Requirement already satisfied: MarkupSafe>=2.0 in /oper/ch/env/llm_train/lib/python3.10/site-packages (from jinja2<4.0,>=2.10.1->datamodel_code_generator) (2.1.5)\n",
      "Requirement already satisfied: annotated-types>=0.6.0 in /oper/ch/env/llm_train/lib/python3.10/site-packages (from pydantic!=2.4.0,<3.0,>=1.9.0->pydantic[email]!=2.4.0,<3.0,>=1.9.0; python_version >= \"3.10\" and python_version < \"3.11\"->datamodel_code_generator) (0.7.0)\n",
      "Requirement already satisfied: pydantic-core==2.23.3 in /oper/ch/env/llm_train/lib/python3.10/site-packages (from pydantic!=2.4.0,<3.0,>=1.9.0->pydantic[email]!=2.4.0,<3.0,>=1.9.0; python_version >= \"3.10\" and python_version < \"3.11\"->datamodel_code_generator) (2.23.3)\n",
      "Collecting email-validator>=2.0.0 (from pydantic[email]!=2.4.0,<3.0,>=1.9.0; python_version >= \"3.10\" and python_version < \"3.11\"->datamodel_code_generator)\n",
      "  Downloading https://mirrors.aliyun.com/pypi/packages/d7/ee/bf0adb559ad3c786f12bcbc9296b3f5675f529199bef03e2df281fa1fadb/email_validator-2.2.0-py3-none-any.whl (33 kB)\n",
      "Collecting dnspython>=2.0.0 (from email-validator>=2.0.0->pydantic[email]!=2.4.0,<3.0,>=1.9.0; python_version >= \"3.10\" and python_version < \"3.11\"->datamodel_code_generator)\n",
      "  Downloading https://mirrors.aliyun.com/pypi/packages/87/a1/8c5287991ddb8d3e4662f71356d9656d91ab3a36618c3dd11b280df0d255/dnspython-2.6.1-py3-none-any.whl (307 kB)\n",
      "Requirement already satisfied: idna>=2.0.0 in /oper/ch/env/llm_train/lib/python3.10/site-packages (from email-validator>=2.0.0->pydantic[email]!=2.4.0,<3.0,>=1.9.0; python_version >= \"3.10\" and python_version < \"3.11\"->datamodel_code_generator) (3.8)\n",
      "Installing collected packages: genson, pathspec, mypy-extensions, isort, inflect, dnspython, argcomplete, email-validator, black, datamodel_code_generator\n",
      "Successfully installed argcomplete-3.5.0 black-24.8.0 datamodel_code_generator-0.26.0 dnspython-2.6.1 email-validator-2.2.0 genson-1.3.0 inflect-5.6.2 isort-5.13.2 mypy-extensions-1.0.0 pathspec-0.12.1\n",
      "Note: you may need to restart the kernel to use updated packages.\n"
     ]
    }
   ],
   "source": [
    "pip install datamodel_code_generator"
   ]
  },
  {
   "cell_type": "code",
   "execution_count": 5,
   "id": "80ef554c-527b-4501-a0c0-2b830da7d476",
   "metadata": {},
   "outputs": [
    {
     "name": "stderr",
     "output_type": "stream",
     "text": [
      "The attention mask and the pad token id were not set. As a consequence, you may observe unexpected behavior. Please pass your input's `attention_mask` to obtain reliable results.\n",
      "Setting `pad_token_id` to `eos_token_id`:2 for open-end generation.\n",
      "The attention mask is not set and cannot be inferred from input because pad token is same as eos token.As a consequence, you may observe unexpected behavior. Please pass your input's `attention_mask` to obtain reliable results.\n",
      "The `seen_tokens` attribute is deprecated and will be removed in v4.41. Use the `cache_position` model input instead.\n"
     ]
    },
    {
     "name": "stdout",
     "output_type": "stream",
     "text": [
      "北京，这座古老而又现代的城市，拥有着丰富的历史文化遗产和现代都市的繁华。以下是我为您推荐的五个不可错过的北京景点：\n",
      "\n",
      "1. **故宫博物院**：作为世界上最大的古代宫殿建筑群，故宫不仅是中国古代皇家文化的象征，也是了解中国封建社会历史的窗口。漫步于紫禁城内，每一砖一瓦都透露着历史的沉淀和皇家的庄严。\n",
      "\n",
      "2. **颐和园**：这座皇家园林以昆明湖为中心，融合了山水的自然之美与建筑的人工之巧，是中国园林艺术的典范。在这里，您可以泛舟湖上，欣赏湖光山色，感受皇家园林的宁静与和谐。\n",
      "\n",
      "3. **天坛公园**：作为明清两代皇帝祭天祈谷的场所，天坛以其独特的建筑风格和深厚的文化内涵吸引着世界各地的游客。祈年殿的精美构造和圜丘的庄严肃穆，让人深刻感受到古代中国对天的敬畏之心。\n",
      "\n",
      "4. **北京动物园**：作为亚洲最大的城市动物园，北京动物园不仅收藏了众多珍稀动物，还拥有广阔的绿地和优美的环境。在这里，您可以近距离观察到各种国宝级动物，如大熊猫、金丝猴等，体验与自然亲密接触的乐趣。\n",
      "\n",
      "5. **天安门广场**：作为世界上最大的城市中心广场，天安门广场不仅是中国的政治中心，也是国家的象征。站在天安门城楼下，您可以感受到这座城市的历史厚重与现代活力。每天的升旗仪式和阅兵仪式更是让无数游客为之震撼。\n",
      "\n",
      "这五个景点不仅展现了北京的历史文化底蕴，也体现了北京的现代都市风貌，是您了解北京、感受北京魅力的绝佳选择。\n"
     ]
    }
   ],
   "source": [
    "messages = [\n",
    "    {\"role\": \"user\", \"content\": \"推荐5个北京的景点。\"},\n",
    "]\n",
    "model_inputs = tokenizer.apply_chat_template(messages, return_tensors=\"pt\", add_generation_prompt=True).to(device)\n",
    "\n",
    "model_outputs = model.generate(\n",
    "    model_inputs,\n",
    "    max_new_tokens=1024,\n",
    "    top_p=0.7,\n",
    "    temperature=0.7\n",
    ")\n",
    "\n",
    "output_token_ids = [\n",
    "    model_outputs[i][len(model_inputs[i]):] for i in range(len(model_inputs))\n",
    "]\n",
    "\n",
    "responses = tokenizer.batch_decode(output_token_ids, skip_special_tokens=True)[0]\n",
    "print(responses)"
   ]
  },
  {
   "cell_type": "code",
   "execution_count": 7,
   "id": "e633901a-fc5e-41e4-9a93-40a13a88d57e",
   "metadata": {},
   "outputs": [],
   "source": [
    "# !pip install vllm"
   ]
  }
 ],
 "metadata": {
  "kernelspec": {
   "display_name": "Python 3 (ipykernel)",
   "language": "python",
   "name": "python3"
  },
  "language_info": {
   "codemirror_mode": {
    "name": "ipython",
    "version": 3
   },
   "file_extension": ".py",
   "mimetype": "text/x-python",
   "name": "python",
   "nbconvert_exporter": "python",
   "pygments_lexer": "ipython3",
   "version": "3.10.15"
  }
 },
 "nbformat": 4,
 "nbformat_minor": 5
}
