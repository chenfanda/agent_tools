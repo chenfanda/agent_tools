{
 "cells": [
  {
   "cell_type": "code",
   "execution_count": 1,
   "id": "e0d3eaad-0f53-473a-9c70-51b85c8660b9",
   "metadata": {},
   "outputs": [],
   "source": [
    "import asyncio\n",
    "import httpx\n",
    "import logging\n",
    "import json\n",
    "import sys\n",
    "import os\n",
    "from pathlib import Path\n",
    "import time"
   ]
  },
  {
   "cell_type": "code",
   "execution_count": 2,
   "id": "ba1f3bab-e922-4412-8e1f-71b9a31ddd00",
   "metadata": {},
   "outputs": [],
   "source": [
    "import requests"
   ]
  },
  {
   "cell_type": "code",
   "execution_count": 3,
   "id": "79a4ca9d-7cb1-4cf4-bcb7-421b54d83201",
   "metadata": {},
   "outputs": [],
   "source": [
    "#sys.path.append('/oper/work/endian/intelligent_agent')"
   ]
  },
  {
   "cell_type": "code",
   "execution_count": 36,
   "id": "00889863-0a53-412d-9994-1b3f4600a14a",
   "metadata": {},
   "outputs": [],
   "source": [
    "user_api_key={\"api-key\": \"f16ab7cb-c2d9-4f2a-b2a9-968a0df75385\"}"
   ]
  },
  {
   "cell_type": "code",
   "execution_count": 38,
   "id": "1eb31057-3446-4048-9cff-ed1e41fa73f5",
   "metadata": {},
   "outputs": [
    {
     "name": "stdout",
     "output_type": "stream",
     "text": [
      "46e2a78c-b426-4cac-b736-66cf713beeae\n"
     ]
    }
   ],
   "source": [
    "response = requests.post(\n",
    "    \"http://localhost:8005/tabs\",\n",
    "    headers=user_api_key,\n",
    "    json={\"provider\": \"claude\"}\n",
    ")\n",
    "# 获取tab_id用于后续操作\n",
    "tab_id = response.json()[\"tab_id\"]\n",
    "print(tab_id)"
   ]
  },
  {
   "cell_type": "code",
   "execution_count": 34,
   "id": "6a361839-d4f2-44b0-bc8b-91a200efe9fc",
   "metadata": {},
   "outputs": [
    {
     "name": "stdout",
     "output_type": "stream",
     "text": [
      "{'id': 'chatcmpl-02512880-b168-425b-a9d1-0b95b44f092b', 'created': 1743053585, 'model': 'Claude 3.7 Sonnet', 'messages': [{'role': 'user', 'content': '写一个量子CUBO代码'}, {'role': 'assistant', 'content': {'response': [\"I'll write a quantum CUBO (CUBit Operation) code example for you. This is a simplified implementation that demonstrates basic quantum operations:\\n\\nThis code demonstrates:\\n\\nThe implementation uses controlled rotation gates (cu3) to create entanglement between qubits and single-qubit rotations to create a meaningful quantum operation pattern. The layered structure is typical of quantum algorithms designed for variational circuits.\\n\\nWould you like me to explain the code in more detail or modify it in some way?\\n\\n\"], 'codeBlocks': [{'code': '# Quantum CUBO (CUBit Operation) Implementation Example\\nimport numpy as np\\nfrom qiskit import QuantumCircuit, execute, Aer\\n\\n# Function to create a quantum CUBO operation\\ndef quantum_cubo(num_qubits, layers):\\n    # Initialize quantum circuit\\n    circuit = QuantumCircuit(num_qubits, num_qubits)\\n    \\n    # Apply Hadamard gates to create superposition\\n    for qubit in range(num_qubits):\\n        circuit.h(qubit)\\n    \\n    # Apply CUBO layers\\n    for layer in range(layers):\\n        # Apply controlled rotation gates\\n        for control in range(num_qubits):\\n            for target in range(num_qubits):\\n                if control != target:\\n                    # Apply controlled-U operation\\n                    theta = np.pi / (2 ** (layer + 1))\\n                    circuit.cu3(theta, 0, 0, control, target)\\n        \\n        # Apply barrier between layers for clarity\\n        circuit.barrier()\\n        \\n        # Apply single qubit operations\\n        for qubit in range(num_qubits):\\n            circuit.rz(np.pi / (2 ** (layer + 1)), qubit)\\n            circuit.rx(np.pi / (2 ** (layer + 1)), qubit)\\n    \\n    # Measure all qubits\\n    circuit.measure(range(num_qubits), range(num_qubits))\\n    \\n    return circuit\\n\\n# Create and run a 4-qubit CUBO circuit with 3 layers\\nsimulator = Aer.get_backend(\\'qasm_simulator\\')\\ncubo_circuit = quantum_cubo(4, 3)\\n\\n# Print the circuit\\nprint(cubo_circuit.draw())\\n\\n# Execute the circuit\\njob = execute(cubo_circuit, simulator, shots=1024)\\nresult = job.result()\\ncounts = result.get_counts(cubo_circuit)\\n\\n# Display results\\nprint(\"Measurement results:\", counts)', 'language': 'python'}], 'documents': [], 'codeExplanations': []}}]}\n"
     ]
    }
   ],
   "source": [
    "# 发送消息给Claude\n",
    "response = requests.post(\n",
    "    f\"http://localhost:8005/chat/claude\",\n",
    "    headers=user_api_key,\n",
    "    json={\n",
    "        \"tab_id\": tab_id,\n",
    "        \"prompt\": \"写一个量子CUBO代码\",\n",
    "        \"file_paths\":None,\n",
    "        \"new_chat\": False\n",
    "    }\n",
    ")\n",
    "print(response.json())"
   ]
  },
  {
   "cell_type": "code",
   "execution_count": 37,
   "id": "db80748a-f7d9-45df-b26b-2e0839ef89b8",
   "metadata": {},
   "outputs": [
    {
     "name": "stdout",
     "output_type": "stream",
     "text": [
      "[{'tab_id': '46e2a78c-b426-4cac-b736-66cf713beeae', 'provider': 'claude', 'title': 'Quantum CUBO Code Example - Claude', 'url': 'https://claude.ai/chat/02512880-b168-425b-a9d1-0b95b44f092b'}]\n"
     ]
    }
   ],
   "source": [
    "#获取所有标签页：\n",
    "response = requests.get(\n",
    "    \"http://localhost:8005/tabs\",\n",
    "    headers=user_api_key\n",
    ")\n",
    "tabs = response.json()\n",
    "print(tabs)"
   ]
  },
  {
   "cell_type": "code",
   "execution_count": 26,
   "id": "337035a0-c32d-4000-a847-13898b1de486",
   "metadata": {},
   "outputs": [],
   "source": [
    "import uuid\n",
    "\n",
    "def generate_api_key():\n",
    "    \"\"\"生成一个随机的API密钥\"\"\"\n",
    "    return str(uuid.uuid4())\n",
    "\n",
    "# 示例使用\n",
    "new_user_key = generate_api_key()"
   ]
  },
  {
   "cell_type": "code",
   "execution_count": 30,
   "id": "9d8c64a9-9b2d-437f-9190-eca2df192f07",
   "metadata": {},
   "outputs": [
    {
     "data": {
      "text/plain": [
       "'f16ab7cb-c2d9-4f2a-b2a9-968a0df75385'"
      ]
     },
     "execution_count": 30,
     "metadata": {},
     "output_type": "execute_result"
    }
   ],
   "source": [
    "generate_api_key()"
   ]
  },
  {
   "cell_type": "code",
   "execution_count": null,
   "id": "9d4a44c7-3811-4148-b7b4-447b48c30523",
   "metadata": {},
   "outputs": [],
   "source": []
  }
 ],
 "metadata": {
  "kernelspec": {
   "display_name": "Python 3 (ipykernel)",
   "language": "python",
   "name": "python3"
  },
  "language_info": {
   "codemirror_mode": {
    "name": "ipython",
    "version": 3
   },
   "file_extension": ".py",
   "mimetype": "text/x-python",
   "name": "python",
   "nbconvert_exporter": "python",
   "pygments_lexer": "ipython3",
   "version": "3.10.16"
  }
 },
 "nbformat": 4,
 "nbformat_minor": 5
}
